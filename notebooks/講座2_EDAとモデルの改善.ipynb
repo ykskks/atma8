{
 "cells": [
  {
   "cell_type": "code",
   "execution_count": 1,
   "metadata": {},
   "outputs": [],
   "source": [
    "import os\n",
    "\n",
    "import pandas as pd\n",
    "import matplotlib.pyplot as plt\n",
    "import seaborn as sns\n",
    "import numpy as np\n",
    "\n",
    "from pandas_profiling import ProfileReport # profile report を作る用\n",
    "from matplotlib_venn import venn2 # venn図を作成する用\n",
    "\n",
    "sns.set_style('ticks')\n",
    "\n",
    "INPUT_DIR = '../data/raw'\n",
    "# OUTPUT_DIR = '/analysis/data/atmaCup8/outputs/'\n",
    "\n",
    "# os.makedirs(OUTPUT_DIR, exist_ok=True)\n",
    "\n",
    "train_df = pd.read_csv(os.path.join(INPUT_DIR, 'train.csv'))\n",
    "test_df = pd.read_csv(os.path.join(INPUT_DIR, 'test.csv'))\n",
    "\n",
    "whole_df = pd.concat([train_df, test_df], ignore_index=True)"
   ]
  },
  {
   "cell_type": "code",
   "execution_count": 2,
   "metadata": {},
   "outputs": [
    {
     "output_type": "execute_result",
     "data": {
      "text/plain": [
       "                                                      0  \\\n",
       "Name                         LEGO Batman: The Videogame   \n",
       "Platform                                            Wii   \n",
       "Year_of_Release                                     NaN   \n",
       "Genre                                            Action   \n",
       "Publisher        Warner Bros. Interactive Entertainment   \n",
       "NA_Sales                                            180   \n",
       "EU_Sales                                             97   \n",
       "JP_Sales                                              0   \n",
       "Other_Sales                                          28   \n",
       "Global_Sales                                        306   \n",
       "Critic_Score                                         74   \n",
       "Critic_Count                                         17   \n",
       "User_Score                                          7.9   \n",
       "User_Count                                           22   \n",
       "Developer                             Traveller's Tales   \n",
       "Rating                                             E10+   \n",
       "\n",
       "                                                           1  \\\n",
       "Name             LEGO Indiana Jones: The Original Adventures   \n",
       "Platform                                                 Wii   \n",
       "Year_of_Release                                          NaN   \n",
       "Genre                                                 Action   \n",
       "Publisher                                          LucasArts   \n",
       "NA_Sales                                                 151   \n",
       "EU_Sales                                                  61   \n",
       "JP_Sales                                                   0   \n",
       "Other_Sales                                               21   \n",
       "Global_Sales                                             234   \n",
       "Critic_Score                                              78   \n",
       "Critic_Count                                              22   \n",
       "User_Score                                               6.6   \n",
       "User_Count                                                28   \n",
       "Developer                                  Traveller's Tales   \n",
       "Rating                                                  E10+   \n",
       "\n",
       "                                                      2       3  \\\n",
       "Name                         LEGO Batman: The Videogame  Combat   \n",
       "Platform                                            PSP    2600   \n",
       "Year_of_Release                                     NaN     NaN   \n",
       "Genre                                            Action  Action   \n",
       "Publisher        Warner Bros. Interactive Entertainment   Atari   \n",
       "NA_Sales                                             56     117   \n",
       "EU_Sales                                             44       7   \n",
       "JP_Sales                                              0       0   \n",
       "Other_Sales                                          27       1   \n",
       "Global_Sales                                        128     125   \n",
       "Critic_Score                                         73     NaN   \n",
       "Critic_Count                                          5     NaN   \n",
       "User_Score                                          7.4     NaN   \n",
       "User_Count                                           10     NaN   \n",
       "Developer                             Traveller's Tales     NaN   \n",
       "Rating                                             E10+     NaN   \n",
       "\n",
       "                                                      4  \n",
       "Name                       LEGO Harry Potter: Years 5-7  \n",
       "Platform                                            Wii  \n",
       "Year_of_Release                                     NaN  \n",
       "Genre                                            Action  \n",
       "Publisher        Warner Bros. Interactive Entertainment  \n",
       "NA_Sales                                             69  \n",
       "EU_Sales                                             42  \n",
       "JP_Sales                                              0  \n",
       "Other_Sales                                          12  \n",
       "Global_Sales                                        124  \n",
       "Critic_Score                                         76  \n",
       "Critic_Count                                          8  \n",
       "User_Score                                          7.8  \n",
       "User_Count                                           13  \n",
       "Developer                             Traveller's Tales  \n",
       "Rating                                             E10+  "
      ],
      "text/html": "<div>\n<style scoped>\n    .dataframe tbody tr th:only-of-type {\n        vertical-align: middle;\n    }\n\n    .dataframe tbody tr th {\n        vertical-align: top;\n    }\n\n    .dataframe thead th {\n        text-align: right;\n    }\n</style>\n<table border=\"1\" class=\"dataframe\">\n  <thead>\n    <tr style=\"text-align: right;\">\n      <th></th>\n      <th>0</th>\n      <th>1</th>\n      <th>2</th>\n      <th>3</th>\n      <th>4</th>\n    </tr>\n  </thead>\n  <tbody>\n    <tr>\n      <th>Name</th>\n      <td>LEGO Batman: The Videogame</td>\n      <td>LEGO Indiana Jones: The Original Adventures</td>\n      <td>LEGO Batman: The Videogame</td>\n      <td>Combat</td>\n      <td>LEGO Harry Potter: Years 5-7</td>\n    </tr>\n    <tr>\n      <th>Platform</th>\n      <td>Wii</td>\n      <td>Wii</td>\n      <td>PSP</td>\n      <td>2600</td>\n      <td>Wii</td>\n    </tr>\n    <tr>\n      <th>Year_of_Release</th>\n      <td>NaN</td>\n      <td>NaN</td>\n      <td>NaN</td>\n      <td>NaN</td>\n      <td>NaN</td>\n    </tr>\n    <tr>\n      <th>Genre</th>\n      <td>Action</td>\n      <td>Action</td>\n      <td>Action</td>\n      <td>Action</td>\n      <td>Action</td>\n    </tr>\n    <tr>\n      <th>Publisher</th>\n      <td>Warner Bros. Interactive Entertainment</td>\n      <td>LucasArts</td>\n      <td>Warner Bros. Interactive Entertainment</td>\n      <td>Atari</td>\n      <td>Warner Bros. Interactive Entertainment</td>\n    </tr>\n    <tr>\n      <th>NA_Sales</th>\n      <td>180</td>\n      <td>151</td>\n      <td>56</td>\n      <td>117</td>\n      <td>69</td>\n    </tr>\n    <tr>\n      <th>EU_Sales</th>\n      <td>97</td>\n      <td>61</td>\n      <td>44</td>\n      <td>7</td>\n      <td>42</td>\n    </tr>\n    <tr>\n      <th>JP_Sales</th>\n      <td>0</td>\n      <td>0</td>\n      <td>0</td>\n      <td>0</td>\n      <td>0</td>\n    </tr>\n    <tr>\n      <th>Other_Sales</th>\n      <td>28</td>\n      <td>21</td>\n      <td>27</td>\n      <td>1</td>\n      <td>12</td>\n    </tr>\n    <tr>\n      <th>Global_Sales</th>\n      <td>306</td>\n      <td>234</td>\n      <td>128</td>\n      <td>125</td>\n      <td>124</td>\n    </tr>\n    <tr>\n      <th>Critic_Score</th>\n      <td>74</td>\n      <td>78</td>\n      <td>73</td>\n      <td>NaN</td>\n      <td>76</td>\n    </tr>\n    <tr>\n      <th>Critic_Count</th>\n      <td>17</td>\n      <td>22</td>\n      <td>5</td>\n      <td>NaN</td>\n      <td>8</td>\n    </tr>\n    <tr>\n      <th>User_Score</th>\n      <td>7.9</td>\n      <td>6.6</td>\n      <td>7.4</td>\n      <td>NaN</td>\n      <td>7.8</td>\n    </tr>\n    <tr>\n      <th>User_Count</th>\n      <td>22</td>\n      <td>28</td>\n      <td>10</td>\n      <td>NaN</td>\n      <td>13</td>\n    </tr>\n    <tr>\n      <th>Developer</th>\n      <td>Traveller's Tales</td>\n      <td>Traveller's Tales</td>\n      <td>Traveller's Tales</td>\n      <td>NaN</td>\n      <td>Traveller's Tales</td>\n    </tr>\n    <tr>\n      <th>Rating</th>\n      <td>E10+</td>\n      <td>E10+</td>\n      <td>E10+</td>\n      <td>NaN</td>\n      <td>E10+</td>\n    </tr>\n  </tbody>\n</table>\n</div>"
     },
     "metadata": {},
     "execution_count": 2
    }
   ],
   "source": [
    "train_df.head().T"
   ]
  },
  {
   "cell_type": "code",
   "execution_count": 3,
   "metadata": {},
   "outputs": [],
   "source": [
    "def preprocess(input_df: pd.DataFrame) -> pd.DataFrame:\n",
    "    output_df = input_df.copy()\n",
    "    \n",
    "    idx_tbd = input_df['User_Score'] == 'tbd'\n",
    "    output_df['User_Score_is_tbd'] = idx_tbd.astype(int)\n",
    "    \n",
    "    output_df['User_Score'] = input_df['User_Score'].replace('tbd', None).astype(float)\n",
    "    return output_df\n",
    "\n",
    "def create_continuous_features(input_df):\n",
    "    input_df = preprocess(input_df)\n",
    "    use_columns = [\n",
    "        # 連続変数\n",
    "        'Critic_Score',\n",
    "        'Critic_Count', \n",
    "        'User_Score', \n",
    "        'User_Count',\n",
    "        'Year_of_Release',\n",
    "        'User_Score_is_tbd'\n",
    "    ]\n",
    "    return input_df[use_columns].copy()"
   ]
  },
  {
   "cell_type": "code",
   "execution_count": 4,
   "metadata": {},
   "outputs": [],
   "source": [
    "assert len(create_continuous_features(train_df)) == len(train_df)"
   ]
  },
  {
   "cell_type": "code",
   "execution_count": 5,
   "metadata": {},
   "outputs": [],
   "source": [
    "assert create_continuous_features(train_df.head()).equals(create_continuous_features(train_df.head()))"
   ]
  },
  {
   "cell_type": "markdown",
   "metadata": {},
   "source": [
    "### Booleanの特徴量\n",
    "\n",
    "特定の条件を満たしているかどうか, を表す特徴量です。例えばテキストカラムに特定の文字列が存在しているかどうか、などが該当します。"
   ]
  },
  {
   "cell_type": "code",
   "execution_count": 6,
   "metadata": {},
   "outputs": [],
   "source": [
    "def create_boolean_feature(input_df):\n",
    "    output_df = pd.DataFrame()\n",
    "    \n",
    "    texts = [\n",
    "        'japan', 'nintendo'\n",
    "    ]\n",
    "    \n",
    "    for t in texts:\n",
    "        output_df[f'Developer_has_{t}'] = input_df['Developer'].fillna('').str.lower().str.contains(t).astype(int)\n",
    "    return output_df"
   ]
  },
  {
   "cell_type": "code",
   "execution_count": 7,
   "metadata": {},
   "outputs": [
    {
     "output_type": "execute_result",
     "data": {
      "text/plain": [
       "Developer_has_japan       23\n",
       "Developer_has_nintendo    88\n",
       "dtype: int64"
      ]
     },
     "metadata": {},
     "execution_count": 7
    }
   ],
   "source": [
    "create_boolean_feature(train_df).sum()"
   ]
  },
  {
   "cell_type": "markdown",
   "metadata": {},
   "source": [
    "### CountEncoding"
   ]
  },
  {
   "cell_type": "code",
   "execution_count": 8,
   "metadata": {},
   "outputs": [
    {
     "output_type": "execute_result",
     "data": {
      "text/plain": [
       "['a', 'a', 'b', 'a']"
      ]
     },
     "metadata": {},
     "execution_count": 8
    }
   ],
   "source": [
    "['a', 'a', 'b', 'a']"
   ]
  },
  {
   "cell_type": "code",
   "execution_count": 9,
   "metadata": {},
   "outputs": [
    {
     "output_type": "execute_result",
     "data": {
      "text/plain": [
       "[3, 3, 1, 3]"
      ]
     },
     "metadata": {},
     "execution_count": 9
    }
   ],
   "source": [
    "[3, 3, 1, 3]"
   ]
  },
  {
   "cell_type": "code",
   "execution_count": 10,
   "metadata": {},
   "outputs": [],
   "source": [
    "class BaseBlock(object):\n",
    "    def fit(self, input_df, y=None):\n",
    "        return self.transform(input_df)\n",
    "        \n",
    "    def transform(self, input_df):\n",
    "        raise NotImplementedError()"
   ]
  },
  {
   "cell_type": "code",
   "execution_count": 11,
   "metadata": {},
   "outputs": [
    {
     "output_type": "execute_result",
     "data": {
      "text/plain": [
       "array([7, 4, 7, ..., 1, 2, 2], dtype=object)"
      ]
     },
     "metadata": {},
     "execution_count": 11
    }
   ],
   "source": [
    "_df = train_df.groupby('Name')['Platform'].count()\n",
    "pd.merge(train_df['Name'], _df, on='Name', how='left').values[:, 1]"
   ]
  },
  {
   "cell_type": "code",
   "execution_count": 12,
   "metadata": {},
   "outputs": [],
   "source": [
    "vc = train_df['Name'].value_counts()"
   ]
  },
  {
   "cell_type": "code",
   "execution_count": 13,
   "metadata": {},
   "outputs": [
    {
     "output_type": "execute_result",
     "data": {
      "text/plain": [
       "array([7, 4, 7, ..., 1, 2, 2])"
      ]
     },
     "metadata": {},
     "execution_count": 13
    }
   ],
   "source": [
    "train_df['Name'].map(vc).values"
   ]
  },
  {
   "cell_type": "code",
   "execution_count": 14,
   "metadata": {},
   "outputs": [],
   "source": [
    "class CountEncodingBlock(BaseBlock):\n",
    "    def __init__(self, column, whole_df: pd.DataFrame):\n",
    "        self.column = column\n",
    "        self.whole_df = whole_df\n",
    "\n",
    "    def transform(self, input_df):\n",
    "        output_df = pd.DataFrame()\n",
    "        c = self.column\n",
    "        \n",
    "        vc = self.whole_df[c].value_counts()\n",
    "        output_df[c] = input_df[c].map(vc)\n",
    "        return output_df.add_prefix('CE_')"
   ]
  },
  {
   "cell_type": "code",
   "execution_count": 15,
   "metadata": {},
   "outputs": [],
   "source": [
    "assert len(train_df) == len(CountEncodingBlock('Name', whole_df=whole_df).fit(train_df))"
   ]
  },
  {
   "cell_type": "markdown",
   "metadata": {},
   "source": [
    "### OneHotEncoding"
   ]
  },
  {
   "cell_type": "code",
   "execution_count": 16,
   "metadata": {},
   "outputs": [
    {
     "output_type": "execute_result",
     "data": {
      "text/plain": [
       "['a', 'a', 'b', 'c', 'a']"
      ]
     },
     "metadata": {},
     "execution_count": 16
    }
   ],
   "source": [
    "['a', 'a', 'b', 'c', 'a']"
   ]
  },
  {
   "cell_type": "code",
   "execution_count": 17,
   "metadata": {},
   "outputs": [
    {
     "output_type": "execute_result",
     "data": {
      "text/plain": [
       "[[1, 0], [1, 0], [0, 1], [1, 0]]"
      ]
     },
     "metadata": {},
     "execution_count": 17
    }
   ],
   "source": [
    "[\n",
    "    [1, 0],\n",
    "    [1, 0],\n",
    "    [0, 1],\n",
    "    [1, 0]\n",
    "]"
   ]
  },
  {
   "cell_type": "code",
   "execution_count": 18,
   "metadata": {},
   "outputs": [],
   "source": [
    "class OneHotBlock(BaseBlock):\n",
    "    def __init__(self, column: str):\n",
    "        self.column = column\n",
    "        self.cats_ = None\n",
    "        \n",
    "    def fit(self, input_df, y=None):\n",
    "        vc = input_df[self.column].dropna().value_counts()\n",
    "        cats = vc[vc > 40].index\n",
    "        self.cats_ = cats\n",
    "        return self.transform(input_df)\n",
    "    \n",
    "    def transform(self, input_df):\n",
    "        x = pd.Categorical(input_df[self.column], categories=self.cats_)\n",
    "        out_df = pd.get_dummies(x, dummy_na=False)\n",
    "        out_df.columns = out_df.columns.tolist()\n",
    "        return out_df.add_prefix(f'OH_{self.column}=')"
   ]
  },
  {
   "cell_type": "code",
   "execution_count": 19,
   "metadata": {},
   "outputs": [
    {
     "output_type": "execute_result",
     "data": {
      "text/plain": [
       "OH_Platform=DS      1106\n",
       "OH_Platform=PS2     1104\n",
       "OH_Platform=Wii      645\n",
       "OH_Platform=PS3      643\n",
       "OH_Platform=PSP      642\n",
       "OH_Platform=X360     588\n",
       "OH_Platform=PS       512\n",
       "OH_Platform=GBA      445\n",
       "OH_Platform=PC       439\n",
       "OH_Platform=XB       371\n",
       "OH_Platform=3DS      270\n",
       "OH_Platform=PSV      240\n",
       "OH_Platform=GC       240\n",
       "OH_Platform=PS4      206\n",
       "OH_Platform=SNES     130\n",
       "OH_Platform=SAT      129\n",
       "OH_Platform=N64      125\n",
       "OH_Platform=XOne     121\n",
       "OH_Platform=2600      88\n",
       "OH_Platform=WiiU      87\n",
       "OH_Platform=GB        78\n",
       "OH_Platform=NES       66\n",
       "OH_Platform=DC        41\n",
       "dtype: int64"
      ]
     },
     "metadata": {},
     "execution_count": 19
    }
   ],
   "source": [
    "OneHotBlock('Platform').fit(train_df).sum(axis=0)"
   ]
  },
  {
   "cell_type": "markdown",
   "metadata": {},
   "source": [
    "### 凝った特徴量"
   ]
  },
  {
   "cell_type": "code",
   "execution_count": 20,
   "metadata": {},
   "outputs": [],
   "source": [
    "# !pip install textdistance"
   ]
  },
  {
   "cell_type": "code",
   "execution_count": 21,
   "metadata": {},
   "outputs": [],
   "source": [
    "from textdistance import jaro"
   ]
  },
  {
   "cell_type": "code",
   "execution_count": 22,
   "metadata": {},
   "outputs": [
    {
     "output_type": "execute_result",
     "data": {
      "text/plain": [
       "0.9523809523809524"
      ]
     },
     "metadata": {},
     "execution_count": 22
    }
   ],
   "source": [
    "jaro('stevens', 'stevns')"
   ]
  },
  {
   "cell_type": "code",
   "execution_count": 23,
   "metadata": {},
   "outputs": [],
   "source": [
    "query = train_df['Name'].values[100]"
   ]
  },
  {
   "cell_type": "code",
   "execution_count": 24,
   "metadata": {},
   "outputs": [
    {
     "output_type": "execute_result",
     "data": {
      "text/plain": [
       "'Frogs And Flies'"
      ]
     },
     "metadata": {},
     "execution_count": 24
    }
   ],
   "source": [
    "query"
   ]
  },
  {
   "cell_type": "code",
   "execution_count": 25,
   "metadata": {},
   "outputs": [],
   "source": [
    "results = train_df['Name'].map(lambda x: jaro(query, x))"
   ]
  },
  {
   "cell_type": "code",
   "execution_count": 26,
   "metadata": {},
   "outputs": [
    {
     "output_type": "execute_result",
     "data": {
      "text/plain": [
       "100    Frogs And Flies\n",
       "Name: Name, dtype: object"
      ]
     },
     "metadata": {},
     "execution_count": 26
    }
   ],
   "source": [
    "train_df['Name'][results > .8]"
   ]
  },
  {
   "cell_type": "code",
   "execution_count": 27,
   "metadata": {},
   "outputs": [],
   "source": [
    "# !pip install texthero"
   ]
  },
  {
   "cell_type": "code",
   "execution_count": 28,
   "metadata": {},
   "outputs": [],
   "source": [
    "import texthero as hero\n",
    "from texthero import preprocessing"
   ]
  },
  {
   "cell_type": "code",
   "execution_count": 29,
   "metadata": {},
   "outputs": [],
   "source": [
    "custom_pipeline = [preprocessing.fillna\n",
    "                   , preprocessing.lowercase\n",
    "                   , preprocessing.remove_digits\n",
    "                   , preprocessing.remove_punctuation\n",
    "                   , preprocessing.remove_diacritics\n",
    "                   , preprocessing.remove_whitespace\n",
    "                   , preprocessing.remove_stopwords # stopword\n",
    "                  ]"
   ]
  },
  {
   "cell_type": "code",
   "execution_count": 30,
   "metadata": {},
   "outputs": [],
   "source": [
    "names = hero.clean(whole_df['Name'], custom_pipeline)"
   ]
  },
  {
   "cell_type": "code",
   "execution_count": 31,
   "metadata": {},
   "outputs": [],
   "source": [
    "words = [w for row in names.str.split(' ') for w in row if len(w) > 0]"
   ]
  },
  {
   "cell_type": "code",
   "execution_count": 32,
   "metadata": {},
   "outputs": [
    {
     "output_type": "execute_result",
     "data": {
      "text/plain": [
       "<matplotlib.axes._subplots.AxesSubplot at 0x7feea0fb59e8>"
      ]
     },
     "metadata": {},
     "execution_count": 32
    },
    {
     "output_type": "display_data",
     "data": {
      "text/plain": "<Figure size 576x396 with 1 Axes>",
      "image/svg+xml": "<?xml version=\"1.0\" encoding=\"utf-8\" standalone=\"no\"?>\n<!DOCTYPE svg PUBLIC \"-//W3C//DTD SVG 1.1//EN\"\n  \"http://www.w3.org/Graphics/SVG/1.1/DTD/svg11.dtd\">\n<!-- Created with matplotlib (https://matplotlib.org/) -->\n<svg height=\"333.025312pt\" version=\"1.1\" viewBox=\"0 0 515.773437 333.025312\" width=\"515.773437pt\" xmlns=\"http://www.w3.org/2000/svg\" xmlns:xlink=\"http://www.w3.org/1999/xlink\">\n <defs>\n  <style type=\"text/css\">\n*{stroke-linecap:butt;stroke-linejoin:round;}\n  </style>\n </defs>\n <g id=\"figure_1\">\n  <g id=\"patch_1\">\n   <path d=\"M 0 333.025312 \nL 515.773437 333.025312 \nL 515.773437 -0 \nL 0 -0 \nz\n\" style=\"fill:#ffffff;\"/>\n  </g>\n  <g id=\"axes_1\">\n   <g id=\"patch_2\">\n    <path d=\"M 62.173438 306.18 \nL 508.573437 306.18 \nL 508.573437 7.2 \nL 62.173438 7.2 \nz\n\" style=\"fill:#ffffff;\"/>\n   </g>\n   <g id=\"matplotlib.axis_1\">\n    <g id=\"xtick_1\">\n     <g id=\"line2d_1\">\n      <defs>\n       <path d=\"M 0 0 \nL 0 3.5 \n\" id=\"mbac69e5c50\" style=\"stroke:#262626;\"/>\n      </defs>\n      <g>\n       <use style=\"fill:#262626;stroke:#262626;\" x=\"62.173438\" xlink:href=\"#mbac69e5c50\" y=\"306.18\"/>\n      </g>\n     </g>\n     <g id=\"text_1\">\n      <!-- 0 -->\n      <defs>\n       <path d=\"M 4.15625 35.296875 \nQ 4.15625 48 6.765625 55.734375 \nQ 9.375 63.484375 14.515625 67.671875 \nQ 19.671875 71.875 27.484375 71.875 \nQ 33.25 71.875 37.59375 69.546875 \nQ 41.9375 67.234375 44.765625 62.859375 \nQ 47.609375 58.5 49.21875 52.21875 \nQ 50.828125 45.953125 50.828125 35.296875 \nQ 50.828125 22.703125 48.234375 14.96875 \nQ 45.65625 7.234375 40.5 3 \nQ 35.359375 -1.21875 27.484375 -1.21875 \nQ 17.140625 -1.21875 11.234375 6.203125 \nQ 4.15625 15.140625 4.15625 35.296875 \nz\nM 13.1875 35.296875 \nQ 13.1875 17.671875 17.3125 11.828125 \nQ 21.4375 6 27.484375 6 \nQ 33.546875 6 37.671875 11.859375 \nQ 41.796875 17.71875 41.796875 35.296875 \nQ 41.796875 52.984375 37.671875 58.78125 \nQ 33.546875 64.59375 27.390625 64.59375 \nQ 21.34375 64.59375 17.71875 59.46875 \nQ 13.1875 52.9375 13.1875 35.296875 \nz\n\" id=\"ArialMT-48\"/>\n      </defs>\n      <g style=\"fill:#262626;\" transform=\"translate(59.392969 323.837812)scale(0.1 -0.1)\">\n       <use xlink:href=\"#ArialMT-48\"/>\n      </g>\n     </g>\n    </g>\n    <g id=\"xtick_2\">\n     <g id=\"line2d_2\">\n      <g>\n       <use style=\"fill:#262626;stroke:#262626;\" x=\"113.272339\" xlink:href=\"#mbac69e5c50\" y=\"306.18\"/>\n      </g>\n     </g>\n     <g id=\"text_2\">\n      <!-- 50 -->\n      <defs>\n       <path d=\"M 4.15625 18.75 \nL 13.375 19.53125 \nQ 14.40625 12.796875 18.140625 9.390625 \nQ 21.875 6 27.15625 6 \nQ 33.5 6 37.890625 10.78125 \nQ 42.28125 15.578125 42.28125 23.484375 \nQ 42.28125 31 38.0625 35.34375 \nQ 33.84375 39.703125 27 39.703125 \nQ 22.75 39.703125 19.328125 37.765625 \nQ 15.921875 35.84375 13.96875 32.765625 \nL 5.71875 33.84375 \nL 12.640625 70.609375 \nL 48.25 70.609375 \nL 48.25 62.203125 \nL 19.671875 62.203125 \nL 15.828125 42.96875 \nQ 22.265625 47.46875 29.34375 47.46875 \nQ 38.71875 47.46875 45.15625 40.96875 \nQ 51.609375 34.46875 51.609375 24.265625 \nQ 51.609375 14.546875 45.953125 7.46875 \nQ 39.0625 -1.21875 27.15625 -1.21875 \nQ 17.390625 -1.21875 11.203125 4.25 \nQ 5.03125 9.71875 4.15625 18.75 \nz\n\" id=\"ArialMT-53\"/>\n      </defs>\n      <g style=\"fill:#262626;\" transform=\"translate(107.711401 323.837812)scale(0.1 -0.1)\">\n       <use xlink:href=\"#ArialMT-53\"/>\n       <use x=\"55.615234\" xlink:href=\"#ArialMT-48\"/>\n      </g>\n     </g>\n    </g>\n    <g id=\"xtick_3\">\n     <g id=\"line2d_3\">\n      <g>\n       <use style=\"fill:#262626;stroke:#262626;\" x=\"164.37124\" xlink:href=\"#mbac69e5c50\" y=\"306.18\"/>\n      </g>\n     </g>\n     <g id=\"text_3\">\n      <!-- 100 -->\n      <defs>\n       <path d=\"M 37.25 0 \nL 28.46875 0 \nL 28.46875 56 \nQ 25.296875 52.984375 20.140625 49.953125 \nQ 14.984375 46.921875 10.890625 45.40625 \nL 10.890625 53.90625 \nQ 18.265625 57.375 23.78125 62.296875 \nQ 29.296875 67.234375 31.59375 71.875 \nL 37.25 71.875 \nz\n\" id=\"ArialMT-49\"/>\n      </defs>\n      <g style=\"fill:#262626;\" transform=\"translate(156.029833 323.837812)scale(0.1 -0.1)\">\n       <use xlink:href=\"#ArialMT-49\"/>\n       <use x=\"55.615234\" xlink:href=\"#ArialMT-48\"/>\n       <use x=\"111.230469\" xlink:href=\"#ArialMT-48\"/>\n      </g>\n     </g>\n    </g>\n    <g id=\"xtick_4\">\n     <g id=\"line2d_4\">\n      <g>\n       <use style=\"fill:#262626;stroke:#262626;\" x=\"215.470141\" xlink:href=\"#mbac69e5c50\" y=\"306.18\"/>\n      </g>\n     </g>\n     <g id=\"text_4\">\n      <!-- 150 -->\n      <g style=\"fill:#262626;\" transform=\"translate(207.128735 323.837812)scale(0.1 -0.1)\">\n       <use xlink:href=\"#ArialMT-49\"/>\n       <use x=\"55.615234\" xlink:href=\"#ArialMT-53\"/>\n       <use x=\"111.230469\" xlink:href=\"#ArialMT-48\"/>\n      </g>\n     </g>\n    </g>\n    <g id=\"xtick_5\">\n     <g id=\"line2d_5\">\n      <g>\n       <use style=\"fill:#262626;stroke:#262626;\" x=\"266.569042\" xlink:href=\"#mbac69e5c50\" y=\"306.18\"/>\n      </g>\n     </g>\n     <g id=\"text_5\">\n      <!-- 200 -->\n      <defs>\n       <path d=\"M 50.34375 8.453125 \nL 50.34375 0 \nL 3.03125 0 \nQ 2.9375 3.171875 4.046875 6.109375 \nQ 5.859375 10.9375 9.828125 15.625 \nQ 13.8125 20.3125 21.34375 26.46875 \nQ 33.015625 36.03125 37.109375 41.625 \nQ 41.21875 47.21875 41.21875 52.203125 \nQ 41.21875 57.421875 37.46875 61 \nQ 33.734375 64.59375 27.734375 64.59375 \nQ 21.390625 64.59375 17.578125 60.78125 \nQ 13.765625 56.984375 13.71875 50.25 \nL 4.6875 51.171875 \nQ 5.609375 61.28125 11.65625 66.578125 \nQ 17.71875 71.875 27.9375 71.875 \nQ 38.234375 71.875 44.234375 66.15625 \nQ 50.25 60.453125 50.25 52 \nQ 50.25 47.703125 48.484375 43.546875 \nQ 46.734375 39.40625 42.65625 34.8125 \nQ 38.578125 30.21875 29.109375 22.21875 \nQ 21.1875 15.578125 18.9375 13.203125 \nQ 16.703125 10.84375 15.234375 8.453125 \nz\n\" id=\"ArialMT-50\"/>\n      </defs>\n      <g style=\"fill:#262626;\" transform=\"translate(258.227636 323.837812)scale(0.1 -0.1)\">\n       <use xlink:href=\"#ArialMT-50\"/>\n       <use x=\"55.615234\" xlink:href=\"#ArialMT-48\"/>\n       <use x=\"111.230469\" xlink:href=\"#ArialMT-48\"/>\n      </g>\n     </g>\n    </g>\n    <g id=\"xtick_6\">\n     <g id=\"line2d_6\">\n      <g>\n       <use style=\"fill:#262626;stroke:#262626;\" x=\"317.667943\" xlink:href=\"#mbac69e5c50\" y=\"306.18\"/>\n      </g>\n     </g>\n     <g id=\"text_6\">\n      <!-- 250 -->\n      <g style=\"fill:#262626;\" transform=\"translate(309.326537 323.837812)scale(0.1 -0.1)\">\n       <use xlink:href=\"#ArialMT-50\"/>\n       <use x=\"55.615234\" xlink:href=\"#ArialMT-53\"/>\n       <use x=\"111.230469\" xlink:href=\"#ArialMT-48\"/>\n      </g>\n     </g>\n    </g>\n    <g id=\"xtick_7\">\n     <g id=\"line2d_7\">\n      <g>\n       <use style=\"fill:#262626;stroke:#262626;\" x=\"368.766844\" xlink:href=\"#mbac69e5c50\" y=\"306.18\"/>\n      </g>\n     </g>\n     <g id=\"text_7\">\n      <!-- 300 -->\n      <defs>\n       <path d=\"M 4.203125 18.890625 \nL 12.984375 20.0625 \nQ 14.5 12.59375 18.140625 9.296875 \nQ 21.78125 6 27 6 \nQ 33.203125 6 37.46875 10.296875 \nQ 41.75 14.59375 41.75 20.953125 \nQ 41.75 27 37.796875 30.921875 \nQ 33.84375 34.859375 27.734375 34.859375 \nQ 25.25 34.859375 21.53125 33.890625 \nL 22.515625 41.609375 \nQ 23.390625 41.5 23.921875 41.5 \nQ 29.546875 41.5 34.03125 44.421875 \nQ 38.53125 47.359375 38.53125 53.46875 \nQ 38.53125 58.296875 35.25 61.46875 \nQ 31.984375 64.65625 26.8125 64.65625 \nQ 21.6875 64.65625 18.265625 61.421875 \nQ 14.84375 58.203125 13.875 51.765625 \nL 5.078125 53.328125 \nQ 6.6875 62.15625 12.390625 67.015625 \nQ 18.109375 71.875 26.609375 71.875 \nQ 32.46875 71.875 37.390625 69.359375 \nQ 42.328125 66.84375 44.9375 62.5 \nQ 47.5625 58.15625 47.5625 53.265625 \nQ 47.5625 48.640625 45.0625 44.828125 \nQ 42.578125 41.015625 37.703125 38.765625 \nQ 44.046875 37.3125 47.5625 32.6875 \nQ 51.078125 28.078125 51.078125 21.140625 \nQ 51.078125 11.765625 44.234375 5.25 \nQ 37.40625 -1.265625 26.953125 -1.265625 \nQ 17.53125 -1.265625 11.296875 4.34375 \nQ 5.078125 9.96875 4.203125 18.890625 \nz\n\" id=\"ArialMT-51\"/>\n      </defs>\n      <g style=\"fill:#262626;\" transform=\"translate(360.425438 323.837812)scale(0.1 -0.1)\">\n       <use xlink:href=\"#ArialMT-51\"/>\n       <use x=\"55.615234\" xlink:href=\"#ArialMT-48\"/>\n       <use x=\"111.230469\" xlink:href=\"#ArialMT-48\"/>\n      </g>\n     </g>\n    </g>\n    <g id=\"xtick_8\">\n     <g id=\"line2d_8\">\n      <g>\n       <use style=\"fill:#262626;stroke:#262626;\" x=\"419.865745\" xlink:href=\"#mbac69e5c50\" y=\"306.18\"/>\n      </g>\n     </g>\n     <g id=\"text_8\">\n      <!-- 350 -->\n      <g style=\"fill:#262626;\" transform=\"translate(411.524339 323.837812)scale(0.1 -0.1)\">\n       <use xlink:href=\"#ArialMT-51\"/>\n       <use x=\"55.615234\" xlink:href=\"#ArialMT-53\"/>\n       <use x=\"111.230469\" xlink:href=\"#ArialMT-48\"/>\n      </g>\n     </g>\n    </g>\n    <g id=\"xtick_9\">\n     <g id=\"line2d_9\">\n      <g>\n       <use style=\"fill:#262626;stroke:#262626;\" x=\"470.964646\" xlink:href=\"#mbac69e5c50\" y=\"306.18\"/>\n      </g>\n     </g>\n     <g id=\"text_9\">\n      <!-- 400 -->\n      <defs>\n       <path d=\"M 32.328125 0 \nL 32.328125 17.140625 \nL 1.265625 17.140625 \nL 1.265625 25.203125 \nL 33.9375 71.578125 \nL 41.109375 71.578125 \nL 41.109375 25.203125 \nL 50.78125 25.203125 \nL 50.78125 17.140625 \nL 41.109375 17.140625 \nL 41.109375 0 \nz\nM 32.328125 25.203125 \nL 32.328125 57.46875 \nL 9.90625 25.203125 \nz\n\" id=\"ArialMT-52\"/>\n      </defs>\n      <g style=\"fill:#262626;\" transform=\"translate(462.62324 323.837812)scale(0.1 -0.1)\">\n       <use xlink:href=\"#ArialMT-52\"/>\n       <use x=\"55.615234\" xlink:href=\"#ArialMT-48\"/>\n       <use x=\"111.230469\" xlink:href=\"#ArialMT-48\"/>\n      </g>\n     </g>\n    </g>\n   </g>\n   <g id=\"matplotlib.axis_2\">\n    <g id=\"ytick_1\">\n     <g id=\"line2d_10\">\n      <defs>\n       <path d=\"M 0 0 \nL -3.5 0 \n\" id=\"mb9da8abce1\" style=\"stroke:#262626;\"/>\n      </defs>\n      <g>\n       <use style=\"fill:#262626;stroke:#262626;\" x=\"62.173438\" xlink:href=\"#mb9da8abce1\" y=\"301.197\"/>\n      </g>\n     </g>\n     <g id=\"text_10\">\n      <!-- world -->\n      <defs>\n       <path d=\"M 16.15625 0 \nL 0.296875 51.859375 \nL 9.375 51.859375 \nL 17.625 21.921875 \nL 20.703125 10.796875 \nQ 20.90625 11.625 23.390625 21.484375 \nL 31.640625 51.859375 \nL 40.671875 51.859375 \nL 48.4375 21.78125 \nL 51.03125 11.859375 \nL 54 21.875 \nL 62.890625 51.859375 \nL 71.4375 51.859375 \nL 55.21875 0 \nL 46.09375 0 \nL 37.84375 31.0625 \nL 35.84375 39.890625 \nL 25.34375 0 \nz\n\" id=\"ArialMT-119\"/>\n       <path d=\"M 3.328125 25.921875 \nQ 3.328125 40.328125 11.328125 47.265625 \nQ 18.015625 53.03125 27.640625 53.03125 \nQ 38.328125 53.03125 45.109375 46.015625 \nQ 51.90625 39.015625 51.90625 26.65625 \nQ 51.90625 16.65625 48.90625 10.90625 \nQ 45.90625 5.171875 40.15625 2 \nQ 34.421875 -1.171875 27.640625 -1.171875 \nQ 16.75 -1.171875 10.03125 5.8125 \nQ 3.328125 12.796875 3.328125 25.921875 \nz\nM 12.359375 25.921875 \nQ 12.359375 15.96875 16.703125 11.015625 \nQ 21.046875 6.0625 27.640625 6.0625 \nQ 34.1875 6.0625 38.53125 11.03125 \nQ 42.875 16.015625 42.875 26.21875 \nQ 42.875 35.84375 38.5 40.796875 \nQ 34.125 45.75 27.640625 45.75 \nQ 21.046875 45.75 16.703125 40.8125 \nQ 12.359375 35.890625 12.359375 25.921875 \nz\n\" id=\"ArialMT-111\"/>\n       <path d=\"M 6.5 0 \nL 6.5 51.859375 \nL 14.40625 51.859375 \nL 14.40625 44 \nQ 17.4375 49.515625 20 51.265625 \nQ 22.5625 53.03125 25.640625 53.03125 \nQ 30.078125 53.03125 34.671875 50.203125 \nL 31.640625 42.046875 \nQ 28.421875 43.953125 25.203125 43.953125 \nQ 22.3125 43.953125 20.015625 42.21875 \nQ 17.71875 40.484375 16.75 37.40625 \nQ 15.28125 32.71875 15.28125 27.15625 \nL 15.28125 0 \nz\n\" id=\"ArialMT-114\"/>\n       <path d=\"M 6.390625 0 \nL 6.390625 71.578125 \nL 15.1875 71.578125 \nL 15.1875 0 \nz\n\" id=\"ArialMT-108\"/>\n       <path d=\"M 40.234375 0 \nL 40.234375 6.546875 \nQ 35.296875 -1.171875 25.734375 -1.171875 \nQ 19.53125 -1.171875 14.328125 2.25 \nQ 9.125 5.671875 6.265625 11.796875 \nQ 3.421875 17.921875 3.421875 25.875 \nQ 3.421875 33.640625 6 39.96875 \nQ 8.59375 46.296875 13.765625 49.65625 \nQ 18.953125 53.03125 25.34375 53.03125 \nQ 30.03125 53.03125 33.6875 51.046875 \nQ 37.359375 49.078125 39.65625 45.90625 \nL 39.65625 71.578125 \nL 48.390625 71.578125 \nL 48.390625 0 \nz\nM 12.453125 25.875 \nQ 12.453125 15.921875 16.640625 10.984375 \nQ 20.84375 6.0625 26.5625 6.0625 \nQ 32.328125 6.0625 36.34375 10.765625 \nQ 40.375 15.484375 40.375 25.140625 \nQ 40.375 35.796875 36.265625 40.765625 \nQ 32.171875 45.75 26.171875 45.75 \nQ 20.3125 45.75 16.375 40.96875 \nQ 12.453125 36.1875 12.453125 25.875 \nz\n\" id=\"ArialMT-100\"/>\n      </defs>\n      <g style=\"fill:#262626;\" transform=\"translate(27.778125 304.775906)scale(0.1 -0.1)\">\n       <use xlink:href=\"#ArialMT-119\"/>\n       <use x=\"72.216797\" xlink:href=\"#ArialMT-111\"/>\n       <use x=\"127.832031\" xlink:href=\"#ArialMT-114\"/>\n       <use x=\"161.132812\" xlink:href=\"#ArialMT-108\"/>\n       <use x=\"183.349609\" xlink:href=\"#ArialMT-100\"/>\n      </g>\n     </g>\n    </g>\n    <g id=\"ytick_2\">\n     <g id=\"line2d_11\">\n      <g>\n       <use style=\"fill:#262626;stroke:#262626;\" x=\"62.173438\" xlink:href=\"#mb9da8abce1\" y=\"291.231\"/>\n      </g>\n     </g>\n     <g id=\"text_11\">\n      <!-- pro -->\n      <defs>\n       <path d=\"M 6.59375 -19.875 \nL 6.59375 51.859375 \nL 14.59375 51.859375 \nL 14.59375 45.125 \nQ 17.4375 49.078125 21 51.046875 \nQ 24.5625 53.03125 29.640625 53.03125 \nQ 36.28125 53.03125 41.359375 49.609375 \nQ 46.4375 46.1875 49.015625 39.953125 \nQ 51.609375 33.734375 51.609375 26.3125 \nQ 51.609375 18.359375 48.75 11.984375 \nQ 45.90625 5.609375 40.453125 2.21875 \nQ 35.015625 -1.171875 29 -1.171875 \nQ 24.609375 -1.171875 21.109375 0.6875 \nQ 17.625 2.546875 15.375 5.375 \nL 15.375 -19.875 \nz\nM 14.546875 25.640625 \nQ 14.546875 15.625 18.59375 10.84375 \nQ 22.65625 6.0625 28.421875 6.0625 \nQ 34.28125 6.0625 38.453125 11.015625 \nQ 42.625 15.96875 42.625 26.375 \nQ 42.625 36.28125 38.546875 41.203125 \nQ 34.46875 46.140625 28.8125 46.140625 \nQ 23.1875 46.140625 18.859375 40.890625 \nQ 14.546875 35.640625 14.546875 25.640625 \nz\n\" id=\"ArialMT-112\"/>\n      </defs>\n      <g style=\"fill:#262626;\" transform=\"translate(37.221875 294.809906)scale(0.1 -0.1)\">\n       <use xlink:href=\"#ArialMT-112\"/>\n       <use x=\"55.615234\" xlink:href=\"#ArialMT-114\"/>\n       <use x=\"88.916016\" xlink:href=\"#ArialMT-111\"/>\n      </g>\n     </g>\n    </g>\n    <g id=\"ytick_3\">\n     <g id=\"line2d_12\">\n      <g>\n       <use style=\"fill:#262626;stroke:#262626;\" x=\"62.173438\" xlink:href=\"#mb9da8abce1\" y=\"281.265\"/>\n      </g>\n     </g>\n     <g id=\"text_12\">\n      <!-- game -->\n      <defs>\n       <path d=\"M 4.984375 -4.296875 \nL 13.53125 -5.5625 \nQ 14.0625 -9.515625 16.5 -11.328125 \nQ 19.78125 -13.765625 25.4375 -13.765625 \nQ 31.546875 -13.765625 34.859375 -11.328125 \nQ 38.1875 -8.890625 39.359375 -4.5 \nQ 40.046875 -1.8125 39.984375 6.78125 \nQ 34.234375 0 25.640625 0 \nQ 14.9375 0 9.078125 7.71875 \nQ 3.21875 15.4375 3.21875 26.21875 \nQ 3.21875 33.640625 5.90625 39.90625 \nQ 8.59375 46.1875 13.6875 49.609375 \nQ 18.796875 53.03125 25.6875 53.03125 \nQ 34.859375 53.03125 40.828125 45.609375 \nL 40.828125 51.859375 \nL 48.921875 51.859375 \nL 48.921875 7.03125 \nQ 48.921875 -5.078125 46.453125 -10.125 \nQ 44 -15.1875 38.640625 -18.109375 \nQ 33.296875 -21.046875 25.484375 -21.046875 \nQ 16.21875 -21.046875 10.5 -16.875 \nQ 4.78125 -12.703125 4.984375 -4.296875 \nz\nM 12.25 26.859375 \nQ 12.25 16.65625 16.296875 11.96875 \nQ 20.359375 7.28125 26.46875 7.28125 \nQ 32.515625 7.28125 36.609375 11.9375 \nQ 40.71875 16.609375 40.71875 26.5625 \nQ 40.71875 36.078125 36.5 40.90625 \nQ 32.28125 45.75 26.3125 45.75 \nQ 20.453125 45.75 16.34375 40.984375 \nQ 12.25 36.234375 12.25 26.859375 \nz\n\" id=\"ArialMT-103\"/>\n       <path d=\"M 40.4375 6.390625 \nQ 35.546875 2.25 31.03125 0.53125 \nQ 26.515625 -1.171875 21.34375 -1.171875 \nQ 12.796875 -1.171875 8.203125 3 \nQ 3.609375 7.171875 3.609375 13.671875 \nQ 3.609375 17.484375 5.34375 20.625 \nQ 7.078125 23.78125 9.890625 25.6875 \nQ 12.703125 27.59375 16.21875 28.5625 \nQ 18.796875 29.25 24.03125 29.890625 \nQ 34.671875 31.15625 39.703125 32.90625 \nQ 39.75 34.71875 39.75 35.203125 \nQ 39.75 40.578125 37.25 42.78125 \nQ 33.890625 45.75 27.25 45.75 \nQ 21.046875 45.75 18.09375 43.578125 \nQ 15.140625 41.40625 13.71875 35.890625 \nL 5.125 37.0625 \nQ 6.296875 42.578125 8.984375 45.96875 \nQ 11.671875 49.359375 16.75 51.1875 \nQ 21.828125 53.03125 28.515625 53.03125 \nQ 35.15625 53.03125 39.296875 51.46875 \nQ 43.453125 49.90625 45.40625 47.53125 \nQ 47.359375 45.171875 48.140625 41.546875 \nQ 48.578125 39.3125 48.578125 33.453125 \nL 48.578125 21.734375 \nQ 48.578125 9.46875 49.140625 6.21875 \nQ 49.703125 2.984375 51.375 0 \nL 42.1875 0 \nQ 40.828125 2.734375 40.4375 6.390625 \nz\nM 39.703125 26.03125 \nQ 34.90625 24.078125 25.34375 22.703125 \nQ 19.921875 21.921875 17.671875 20.9375 \nQ 15.4375 19.96875 14.203125 18.09375 \nQ 12.984375 16.21875 12.984375 13.921875 \nQ 12.984375 10.40625 15.640625 8.0625 \nQ 18.3125 5.71875 23.4375 5.71875 \nQ 28.515625 5.71875 32.46875 7.9375 \nQ 36.421875 10.15625 38.28125 14.015625 \nQ 39.703125 17 39.703125 22.796875 \nz\n\" id=\"ArialMT-97\"/>\n       <path d=\"M 6.59375 0 \nL 6.59375 51.859375 \nL 14.453125 51.859375 \nL 14.453125 44.578125 \nQ 16.890625 48.390625 20.9375 50.703125 \nQ 25 53.03125 30.171875 53.03125 \nQ 35.9375 53.03125 39.625 50.640625 \nQ 43.3125 48.25 44.828125 43.953125 \nQ 50.984375 53.03125 60.84375 53.03125 \nQ 68.5625 53.03125 72.703125 48.75 \nQ 76.859375 44.484375 76.859375 35.59375 \nL 76.859375 0 \nL 68.109375 0 \nL 68.109375 32.671875 \nQ 68.109375 37.9375 67.25 40.25 \nQ 66.40625 42.578125 64.15625 43.984375 \nQ 61.921875 45.40625 58.890625 45.40625 \nQ 53.421875 45.40625 49.796875 41.765625 \nQ 46.1875 38.140625 46.1875 30.125 \nL 46.1875 0 \nL 37.40625 0 \nL 37.40625 33.6875 \nQ 37.40625 39.546875 35.25 42.46875 \nQ 33.109375 45.40625 28.21875 45.40625 \nQ 24.515625 45.40625 21.359375 43.453125 \nQ 18.21875 41.5 16.796875 37.734375 \nQ 15.375 33.984375 15.375 26.90625 \nL 15.375 0 \nz\n\" id=\"ArialMT-109\"/>\n       <path d=\"M 42.09375 16.703125 \nL 51.171875 15.578125 \nQ 49.03125 7.625 43.21875 3.21875 \nQ 37.40625 -1.171875 28.375 -1.171875 \nQ 17 -1.171875 10.328125 5.828125 \nQ 3.65625 12.84375 3.65625 25.484375 \nQ 3.65625 38.578125 10.390625 45.796875 \nQ 17.140625 53.03125 27.875 53.03125 \nQ 38.28125 53.03125 44.875 45.953125 \nQ 51.46875 38.875 51.46875 26.03125 \nQ 51.46875 25.25 51.421875 23.6875 \nL 12.75 23.6875 \nQ 13.234375 15.140625 17.578125 10.59375 \nQ 21.921875 6.0625 28.421875 6.0625 \nQ 33.25 6.0625 36.671875 8.59375 \nQ 40.09375 11.140625 42.09375 16.703125 \nz\nM 13.234375 30.90625 \nL 42.1875 30.90625 \nQ 41.609375 37.453125 38.875 40.71875 \nQ 34.671875 45.796875 27.984375 45.796875 \nQ 21.921875 45.796875 17.796875 41.75 \nQ 13.671875 37.703125 13.234375 30.90625 \nz\n\" id=\"ArialMT-101\"/>\n      </defs>\n      <g style=\"fill:#262626;\" transform=\"translate(26.660938 284.785312)scale(0.1 -0.1)\">\n       <use xlink:href=\"#ArialMT-103\"/>\n       <use x=\"55.615234\" xlink:href=\"#ArialMT-97\"/>\n       <use x=\"111.230469\" xlink:href=\"#ArialMT-109\"/>\n       <use x=\"194.53125\" xlink:href=\"#ArialMT-101\"/>\n      </g>\n     </g>\n    </g>\n    <g id=\"ytick_4\">\n     <g id=\"line2d_13\">\n      <g>\n       <use style=\"fill:#262626;stroke:#262626;\" x=\"62.173438\" xlink:href=\"#mb9da8abce1\" y=\"271.299\"/>\n      </g>\n     </g>\n     <g id=\"text_13\">\n      <!-- ii -->\n      <defs>\n       <path d=\"M 6.640625 61.46875 \nL 6.640625 71.578125 \nL 15.4375 71.578125 \nL 15.4375 61.46875 \nz\nM 6.640625 0 \nL 6.640625 51.859375 \nL 15.4375 51.859375 \nL 15.4375 0 \nz\n\" id=\"ArialMT-105\"/>\n      </defs>\n      <g style=\"fill:#262626;\" transform=\"translate(47.229688 274.877906)scale(0.1 -0.1)\">\n       <use xlink:href=\"#ArialMT-105\"/>\n       <use x=\"22.216797\" xlink:href=\"#ArialMT-105\"/>\n      </g>\n     </g>\n    </g>\n    <g id=\"ytick_5\">\n     <g id=\"line2d_14\">\n      <g>\n       <use style=\"fill:#262626;stroke:#262626;\" x=\"62.173438\" xlink:href=\"#mb9da8abce1\" y=\"261.333\"/>\n      </g>\n     </g>\n     <g id=\"text_14\">\n      <!-- super -->\n      <defs>\n       <path d=\"M 3.078125 15.484375 \nL 11.765625 16.84375 \nQ 12.5 11.625 15.84375 8.84375 \nQ 19.1875 6.0625 25.203125 6.0625 \nQ 31.25 6.0625 34.171875 8.515625 \nQ 37.109375 10.984375 37.109375 14.3125 \nQ 37.109375 17.28125 34.515625 19 \nQ 32.71875 20.171875 25.53125 21.96875 \nQ 15.875 24.421875 12.140625 26.203125 \nQ 8.40625 27.984375 6.46875 31.125 \nQ 4.546875 34.28125 4.546875 38.09375 \nQ 4.546875 41.546875 6.125 44.5 \nQ 7.71875 47.46875 10.453125 49.421875 \nQ 12.5 50.921875 16.03125 51.96875 \nQ 19.578125 53.03125 23.640625 53.03125 \nQ 29.734375 53.03125 34.34375 51.265625 \nQ 38.96875 49.515625 41.15625 46.5 \nQ 43.359375 43.5 44.1875 38.484375 \nL 35.59375 37.3125 \nQ 35.015625 41.3125 32.203125 43.546875 \nQ 29.390625 45.796875 24.265625 45.796875 \nQ 18.21875 45.796875 15.625 43.796875 \nQ 13.03125 41.796875 13.03125 39.109375 \nQ 13.03125 37.40625 14.109375 36.03125 \nQ 15.1875 34.625 17.484375 33.6875 \nQ 18.796875 33.203125 25.25 31.453125 \nQ 34.578125 28.953125 38.25 27.359375 \nQ 41.9375 25.78125 44.03125 22.75 \nQ 46.140625 19.734375 46.140625 15.234375 \nQ 46.140625 10.84375 43.578125 6.953125 \nQ 41.015625 3.078125 36.171875 0.953125 \nQ 31.34375 -1.171875 25.25 -1.171875 \nQ 15.140625 -1.171875 9.84375 3.03125 \nQ 4.546875 7.234375 3.078125 15.484375 \nz\n\" id=\"ArialMT-115\"/>\n       <path d=\"M 40.578125 0 \nL 40.578125 7.625 \nQ 34.515625 -1.171875 24.125 -1.171875 \nQ 19.53125 -1.171875 15.546875 0.578125 \nQ 11.578125 2.34375 9.640625 5 \nQ 7.71875 7.671875 6.9375 11.53125 \nQ 6.390625 14.109375 6.390625 19.734375 \nL 6.390625 51.859375 \nL 15.1875 51.859375 \nL 15.1875 23.09375 \nQ 15.1875 16.21875 15.71875 13.8125 \nQ 16.546875 10.359375 19.234375 8.375 \nQ 21.921875 6.390625 25.875 6.390625 \nQ 29.828125 6.390625 33.296875 8.421875 \nQ 36.765625 10.453125 38.203125 13.9375 \nQ 39.65625 17.4375 39.65625 24.078125 \nL 39.65625 51.859375 \nL 48.4375 51.859375 \nL 48.4375 0 \nz\n\" id=\"ArialMT-117\"/>\n      </defs>\n      <g style=\"fill:#262626;\" transform=\"translate(26.660938 264.911906)scale(0.1 -0.1)\">\n       <use xlink:href=\"#ArialMT-115\"/>\n       <use x=\"50\" xlink:href=\"#ArialMT-117\"/>\n       <use x=\"105.615234\" xlink:href=\"#ArialMT-112\"/>\n       <use x=\"161.230469\" xlink:href=\"#ArialMT-101\"/>\n       <use x=\"216.845703\" xlink:href=\"#ArialMT-114\"/>\n      </g>\n     </g>\n    </g>\n    <g id=\"ytick_6\">\n     <g id=\"line2d_15\">\n      <g>\n       <use style=\"fill:#262626;stroke:#262626;\" x=\"62.173438\" xlink:href=\"#mb9da8abce1\" y=\"251.367\"/>\n      </g>\n     </g>\n     <g id=\"text_15\">\n      <!-- star -->\n      <defs>\n       <path d=\"M 25.78125 7.859375 \nL 27.046875 0.09375 \nQ 23.34375 -0.6875 20.40625 -0.6875 \nQ 15.625 -0.6875 12.984375 0.828125 \nQ 10.359375 2.34375 9.28125 4.8125 \nQ 8.203125 7.28125 8.203125 15.1875 \nL 8.203125 45.015625 \nL 1.765625 45.015625 \nL 1.765625 51.859375 \nL 8.203125 51.859375 \nL 8.203125 64.703125 \nL 16.9375 69.96875 \nL 16.9375 51.859375 \nL 25.78125 51.859375 \nL 25.78125 45.015625 \nL 16.9375 45.015625 \nL 16.9375 14.703125 \nQ 16.9375 10.9375 17.40625 9.859375 \nQ 17.875 8.796875 18.921875 8.15625 \nQ 19.96875 7.515625 21.921875 7.515625 \nQ 23.390625 7.515625 25.78125 7.859375 \nz\n\" id=\"ArialMT-116\"/>\n      </defs>\n      <g style=\"fill:#262626;\" transform=\"translate(35.004688 254.945906)scale(0.1 -0.1)\">\n       <use xlink:href=\"#ArialMT-115\"/>\n       <use x=\"50\" xlink:href=\"#ArialMT-116\"/>\n       <use x=\"77.783203\" xlink:href=\"#ArialMT-97\"/>\n       <use x=\"133.398438\" xlink:href=\"#ArialMT-114\"/>\n      </g>\n     </g>\n    </g>\n    <g id=\"ytick_7\">\n     <g id=\"line2d_16\">\n      <g>\n       <use style=\"fill:#262626;stroke:#262626;\" x=\"62.173438\" xlink:href=\"#mb9da8abce1\" y=\"241.401\"/>\n      </g>\n     </g>\n     <g id=\"text_16\">\n      <!-- soccer -->\n      <defs>\n       <path d=\"M 40.4375 19 \nL 49.078125 17.875 \nQ 47.65625 8.9375 41.8125 3.875 \nQ 35.984375 -1.171875 27.484375 -1.171875 \nQ 16.84375 -1.171875 10.375 5.78125 \nQ 3.90625 12.75 3.90625 25.734375 \nQ 3.90625 34.125 6.6875 40.421875 \nQ 9.46875 46.734375 15.15625 49.875 \nQ 20.84375 53.03125 27.546875 53.03125 \nQ 35.984375 53.03125 41.359375 48.75 \nQ 46.734375 44.484375 48.25 36.625 \nL 39.703125 35.296875 \nQ 38.484375 40.53125 35.375 43.15625 \nQ 32.28125 45.796875 27.875 45.796875 \nQ 21.234375 45.796875 17.078125 41.03125 \nQ 12.9375 36.28125 12.9375 25.984375 \nQ 12.9375 15.53125 16.9375 10.796875 \nQ 20.953125 6.0625 27.390625 6.0625 \nQ 32.5625 6.0625 36.03125 9.234375 \nQ 39.5 12.40625 40.4375 19 \nz\n\" id=\"ArialMT-99\"/>\n      </defs>\n      <g style=\"fill:#262626;\" transform=\"translate(22.221875 244.979906)scale(0.1 -0.1)\">\n       <use xlink:href=\"#ArialMT-115\"/>\n       <use x=\"50\" xlink:href=\"#ArialMT-111\"/>\n       <use x=\"105.615234\" xlink:href=\"#ArialMT-99\"/>\n       <use x=\"155.615234\" xlink:href=\"#ArialMT-99\"/>\n       <use x=\"205.615234\" xlink:href=\"#ArialMT-101\"/>\n       <use x=\"261.230469\" xlink:href=\"#ArialMT-114\"/>\n      </g>\n     </g>\n    </g>\n    <g id=\"ytick_8\">\n     <g id=\"line2d_17\">\n      <g>\n       <use style=\"fill:#262626;stroke:#262626;\" x=\"62.173438\" xlink:href=\"#mb9da8abce1\" y=\"231.435\"/>\n      </g>\n     </g>\n     <g id=\"text_17\">\n      <!-- dragon -->\n      <defs>\n       <path d=\"M 6.59375 0 \nL 6.59375 51.859375 \nL 14.5 51.859375 \nL 14.5 44.484375 \nQ 20.21875 53.03125 31 53.03125 \nQ 35.6875 53.03125 39.625 51.34375 \nQ 43.5625 49.65625 45.515625 46.921875 \nQ 47.46875 44.1875 48.25 40.4375 \nQ 48.734375 37.984375 48.734375 31.890625 \nL 48.734375 0 \nL 39.9375 0 \nL 39.9375 31.546875 \nQ 39.9375 36.921875 38.90625 39.578125 \nQ 37.890625 42.234375 35.28125 43.8125 \nQ 32.671875 45.40625 29.15625 45.40625 \nQ 23.53125 45.40625 19.453125 41.84375 \nQ 15.375 38.28125 15.375 28.328125 \nL 15.375 0 \nz\n\" id=\"ArialMT-110\"/>\n      </defs>\n      <g style=\"fill:#262626;\" transform=\"translate(20.539063 235.013906)scale(0.1 -0.1)\">\n       <use xlink:href=\"#ArialMT-100\"/>\n       <use x=\"55.615234\" xlink:href=\"#ArialMT-114\"/>\n       <use x=\"88.916016\" xlink:href=\"#ArialMT-97\"/>\n       <use x=\"144.53125\" xlink:href=\"#ArialMT-103\"/>\n       <use x=\"200.146484\" xlink:href=\"#ArialMT-111\"/>\n       <use x=\"255.761719\" xlink:href=\"#ArialMT-110\"/>\n      </g>\n     </g>\n    </g>\n    <g id=\"ytick_9\">\n     <g id=\"line2d_18\">\n      <g>\n       <use style=\"fill:#262626;stroke:#262626;\" x=\"62.173438\" xlink:href=\"#mb9da8abce1\" y=\"221.469\"/>\n      </g>\n     </g>\n     <g id=\"text_18\">\n      <!-- ds -->\n      <g style=\"fill:#262626;\" transform=\"translate(41.1125 225.047906)scale(0.1 -0.1)\">\n       <use xlink:href=\"#ArialMT-100\"/>\n       <use x=\"55.615234\" xlink:href=\"#ArialMT-115\"/>\n      </g>\n     </g>\n    </g>\n    <g id=\"ytick_10\">\n     <g id=\"line2d_19\">\n      <g>\n       <use style=\"fill:#262626;stroke:#262626;\" x=\"62.173438\" xlink:href=\"#mb9da8abce1\" y=\"211.503\"/>\n      </g>\n     </g>\n     <g id=\"text_19\">\n      <!-- wars -->\n      <g style=\"fill:#262626;\" transform=\"translate(30.560938 215.081906)scale(0.1 -0.1)\">\n       <use xlink:href=\"#ArialMT-119\"/>\n       <use x=\"72.216797\" xlink:href=\"#ArialMT-97\"/>\n       <use x=\"127.832031\" xlink:href=\"#ArialMT-114\"/>\n       <use x=\"161.132812\" xlink:href=\"#ArialMT-115\"/>\n      </g>\n     </g>\n    </g>\n    <g id=\"ytick_11\">\n     <g id=\"line2d_20\">\n      <g>\n       <use style=\"fill:#262626;stroke:#262626;\" x=\"62.173438\" xlink:href=\"#mb9da8abce1\" y=\"201.537\"/>\n      </g>\n     </g>\n     <g id=\"text_20\">\n      <!-- man -->\n      <g style=\"fill:#262626;\" transform=\"translate(32.221875 205.115906)scale(0.1 -0.1)\">\n       <use xlink:href=\"#ArialMT-109\"/>\n       <use x=\"83.300781\" xlink:href=\"#ArialMT-97\"/>\n       <use x=\"138.916016\" xlink:href=\"#ArialMT-110\"/>\n      </g>\n     </g>\n    </g>\n    <g id=\"ytick_12\">\n     <g id=\"line2d_21\">\n      <g>\n       <use style=\"fill:#262626;stroke:#262626;\" x=\"62.173438\" xlink:href=\"#mb9da8abce1\" y=\"191.571\"/>\n      </g>\n     </g>\n     <g id=\"text_21\">\n      <!-- battle -->\n      <defs>\n       <path d=\"M 14.703125 0 \nL 6.546875 0 \nL 6.546875 71.578125 \nL 15.328125 71.578125 \nL 15.328125 46.046875 \nQ 20.90625 53.03125 29.546875 53.03125 \nQ 34.328125 53.03125 38.59375 51.09375 \nQ 42.875 49.171875 45.625 45.671875 \nQ 48.390625 42.1875 49.953125 37.25 \nQ 51.515625 32.328125 51.515625 26.703125 \nQ 51.515625 13.375 44.921875 6.09375 \nQ 38.328125 -1.171875 29.109375 -1.171875 \nQ 19.921875 -1.171875 14.703125 6.5 \nz\nM 14.59375 26.3125 \nQ 14.59375 17 17.140625 12.84375 \nQ 21.296875 6.0625 28.375 6.0625 \nQ 34.125 6.0625 38.328125 11.0625 \nQ 42.53125 16.0625 42.53125 25.984375 \nQ 42.53125 36.140625 38.5 40.96875 \nQ 34.46875 45.796875 28.765625 45.796875 \nQ 23 45.796875 18.796875 40.796875 \nQ 14.59375 35.796875 14.59375 26.3125 \nz\n\" id=\"ArialMT-98\"/>\n      </defs>\n      <g style=\"fill:#262626;\" transform=\"translate(27.2125 195.149906)scale(0.1 -0.1)\">\n       <use xlink:href=\"#ArialMT-98\"/>\n       <use x=\"55.615234\" xlink:href=\"#ArialMT-97\"/>\n       <use x=\"111.230469\" xlink:href=\"#ArialMT-116\"/>\n       <use x=\"139.013672\" xlink:href=\"#ArialMT-116\"/>\n       <use x=\"166.796875\" xlink:href=\"#ArialMT-108\"/>\n       <use x=\"189.013672\" xlink:href=\"#ArialMT-101\"/>\n      </g>\n     </g>\n    </g>\n    <g id=\"ytick_13\">\n     <g id=\"line2d_22\">\n      <g>\n       <use style=\"fill:#262626;stroke:#262626;\" x=\"62.173438\" xlink:href=\"#mb9da8abce1\" y=\"181.605\"/>\n      </g>\n     </g>\n     <g id=\"text_22\">\n      <!-- nba -->\n      <g style=\"fill:#262626;\" transform=\"translate(34.990625 185.183906)scale(0.1 -0.1)\">\n       <use xlink:href=\"#ArialMT-110\"/>\n       <use x=\"55.615234\" xlink:href=\"#ArialMT-98\"/>\n       <use x=\"111.230469\" xlink:href=\"#ArialMT-97\"/>\n      </g>\n     </g>\n    </g>\n    <g id=\"ytick_14\">\n     <g id=\"line2d_23\">\n      <g>\n       <use style=\"fill:#262626;stroke:#262626;\" x=\"62.173438\" xlink:href=\"#mb9da8abce1\" y=\"171.639\"/>\n      </g>\n     </g>\n     <g id=\"text_23\">\n      <!-- nfl -->\n      <defs>\n       <path d=\"M 8.6875 0 \nL 8.6875 45.015625 \nL 0.921875 45.015625 \nL 0.921875 51.859375 \nL 8.6875 51.859375 \nL 8.6875 57.375 \nQ 8.6875 62.59375 9.625 65.140625 \nQ 10.890625 68.5625 14.078125 70.671875 \nQ 17.28125 72.796875 23.046875 72.796875 \nQ 26.765625 72.796875 31.25 71.921875 \nL 29.9375 64.265625 \nQ 27.203125 64.75 24.75 64.75 \nQ 20.75 64.75 19.09375 63.03125 \nQ 17.4375 61.328125 17.4375 56.640625 \nL 17.4375 51.859375 \nL 27.546875 51.859375 \nL 27.546875 45.015625 \nL 17.4375 45.015625 \nL 17.4375 0 \nz\n\" id=\"ArialMT-102\"/>\n      </defs>\n      <g style=\"fill:#262626;\" transform=\"translate(41.1125 175.217906)scale(0.1 -0.1)\">\n       <use xlink:href=\"#ArialMT-110\"/>\n       <use x=\"55.615234\" xlink:href=\"#ArialMT-102\"/>\n       <use x=\"83.398438\" xlink:href=\"#ArialMT-108\"/>\n      </g>\n     </g>\n    </g>\n    <g id=\"ytick_15\">\n     <g id=\"line2d_24\">\n      <g>\n       <use style=\"fill:#262626;stroke:#262626;\" x=\"62.173438\" xlink:href=\"#mb9da8abce1\" y=\"161.673\"/>\n      </g>\n     </g>\n     <g id=\"text_24\">\n      <!-- disney -->\n      <defs>\n       <path d=\"M 6.203125 -19.96875 \nL 5.21875 -11.71875 \nQ 8.109375 -12.5 10.25 -12.5 \nQ 13.1875 -12.5 14.9375 -11.515625 \nQ 16.703125 -10.546875 17.828125 -8.796875 \nQ 18.65625 -7.46875 20.515625 -2.25 \nQ 20.75 -1.515625 21.296875 -0.09375 \nL 1.609375 51.859375 \nL 11.078125 51.859375 \nL 21.875 21.828125 \nQ 23.96875 16.109375 25.640625 9.8125 \nQ 27.15625 15.875 29.25 21.625 \nL 40.328125 51.859375 \nL 49.125 51.859375 \nL 29.390625 -0.875 \nQ 26.21875 -9.421875 24.46875 -12.640625 \nQ 22.125 -17 19.09375 -19.015625 \nQ 16.0625 -21.046875 11.859375 -21.046875 \nQ 9.328125 -21.046875 6.203125 -19.96875 \nz\n\" id=\"ArialMT-121\"/>\n      </defs>\n      <g style=\"fill:#262626;\" transform=\"translate(22.76875 165.251906)scale(0.1 -0.1)\">\n       <use xlink:href=\"#ArialMT-100\"/>\n       <use x=\"55.615234\" xlink:href=\"#ArialMT-105\"/>\n       <use x=\"77.832031\" xlink:href=\"#ArialMT-115\"/>\n       <use x=\"127.832031\" xlink:href=\"#ArialMT-110\"/>\n       <use x=\"183.447266\" xlink:href=\"#ArialMT-101\"/>\n       <use x=\"239.0625\" xlink:href=\"#ArialMT-121\"/>\n      </g>\n     </g>\n    </g>\n    <g id=\"ytick_16\">\n     <g id=\"line2d_25\">\n      <g>\n       <use style=\"fill:#262626;stroke:#262626;\" x=\"62.173438\" xlink:href=\"#mb9da8abce1\" y=\"151.707\"/>\n      </g>\n     </g>\n     <g id=\"text_25\">\n      <!-- vs -->\n      <defs>\n       <path d=\"M 21 0 \nL 1.265625 51.859375 \nL 10.546875 51.859375 \nL 21.6875 20.796875 \nQ 23.484375 15.765625 25 10.359375 \nQ 26.171875 14.453125 28.265625 20.21875 \nL 39.796875 51.859375 \nL 48.828125 51.859375 \nL 29.203125 0 \nz\n\" id=\"ArialMT-118\"/>\n      </defs>\n      <g style=\"fill:#262626;\" transform=\"translate(41.673438 155.285906)scale(0.1 -0.1)\">\n       <use xlink:href=\"#ArialMT-118\"/>\n       <use x=\"50\" xlink:href=\"#ArialMT-115\"/>\n      </g>\n     </g>\n    </g>\n    <g id=\"ytick_17\">\n     <g id=\"line2d_26\">\n      <g>\n       <use style=\"fill:#262626;stroke:#262626;\" x=\"62.173438\" xlink:href=\"#mb9da8abce1\" y=\"141.741\"/>\n      </g>\n     </g>\n     <g id=\"text_26\">\n      <!-- lego -->\n      <g style=\"fill:#262626;\" transform=\"translate(32.76875 145.319906)scale(0.1 -0.1)\">\n       <use xlink:href=\"#ArialMT-108\"/>\n       <use x=\"22.216797\" xlink:href=\"#ArialMT-101\"/>\n       <use x=\"77.832031\" xlink:href=\"#ArialMT-103\"/>\n       <use x=\"133.447266\" xlink:href=\"#ArialMT-111\"/>\n      </g>\n     </g>\n    </g>\n    <g id=\"ytick_18\">\n     <g id=\"line2d_27\">\n      <g>\n       <use style=\"fill:#262626;stroke:#262626;\" x=\"62.173438\" xlink:href=\"#mb9da8abce1\" y=\"131.775\"/>\n      </g>\n     </g>\n     <g id=\"text_27\">\n      <!-- heroes -->\n      <defs>\n       <path d=\"M 6.59375 0 \nL 6.59375 71.578125 \nL 15.375 71.578125 \nL 15.375 45.90625 \nQ 21.53125 53.03125 30.90625 53.03125 \nQ 36.671875 53.03125 40.921875 50.75 \nQ 45.171875 48.484375 47 44.484375 \nQ 48.828125 40.484375 48.828125 32.859375 \nL 48.828125 0 \nL 40.046875 0 \nL 40.046875 32.859375 \nQ 40.046875 39.453125 37.1875 42.453125 \nQ 34.328125 45.453125 29.109375 45.453125 \nQ 25.203125 45.453125 21.75 43.421875 \nQ 18.3125 41.40625 16.84375 37.9375 \nQ 15.375 34.46875 15.375 28.375 \nL 15.375 0 \nz\n\" id=\"ArialMT-104\"/>\n      </defs>\n      <g style=\"fill:#262626;\" transform=\"translate(21.1 135.353906)scale(0.1 -0.1)\">\n       <use xlink:href=\"#ArialMT-104\"/>\n       <use x=\"55.615234\" xlink:href=\"#ArialMT-101\"/>\n       <use x=\"111.230469\" xlink:href=\"#ArialMT-114\"/>\n       <use x=\"144.53125\" xlink:href=\"#ArialMT-111\"/>\n       <use x=\"200.146484\" xlink:href=\"#ArialMT-101\"/>\n       <use x=\"255.761719\" xlink:href=\"#ArialMT-115\"/>\n      </g>\n     </g>\n    </g>\n    <g id=\"ytick_19\">\n     <g id=\"line2d_28\">\n      <g>\n       <use style=\"fill:#262626;stroke:#262626;\" x=\"62.173438\" xlink:href=\"#mb9da8abce1\" y=\"121.809\"/>\n      </g>\n     </g>\n     <g id=\"text_28\">\n      <!-- collection -->\n      <g style=\"fill:#262626;\" transform=\"translate(9.985938 125.387906)scale(0.1 -0.1)\">\n       <use xlink:href=\"#ArialMT-99\"/>\n       <use x=\"50\" xlink:href=\"#ArialMT-111\"/>\n       <use x=\"105.615234\" xlink:href=\"#ArialMT-108\"/>\n       <use x=\"127.832031\" xlink:href=\"#ArialMT-108\"/>\n       <use x=\"150.048828\" xlink:href=\"#ArialMT-101\"/>\n       <use x=\"205.664062\" xlink:href=\"#ArialMT-99\"/>\n       <use x=\"255.664062\" xlink:href=\"#ArialMT-116\"/>\n       <use x=\"283.447266\" xlink:href=\"#ArialMT-105\"/>\n       <use x=\"305.664062\" xlink:href=\"#ArialMT-111\"/>\n       <use x=\"361.279297\" xlink:href=\"#ArialMT-110\"/>\n      </g>\n     </g>\n    </g>\n    <g id=\"ytick_20\">\n     <g id=\"line2d_29\">\n      <g>\n       <use style=\"fill:#262626;stroke:#262626;\" x=\"62.173438\" xlink:href=\"#mb9da8abce1\" y=\"111.843\"/>\n      </g>\n     </g>\n     <g id=\"text_29\">\n      <!-- party -->\n      <g style=\"fill:#262626;\" transform=\"translate(29.44375 115.363312)scale(0.1 -0.1)\">\n       <use xlink:href=\"#ArialMT-112\"/>\n       <use x=\"55.615234\" xlink:href=\"#ArialMT-97\"/>\n       <use x=\"111.230469\" xlink:href=\"#ArialMT-114\"/>\n       <use x=\"144.53125\" xlink:href=\"#ArialMT-116\"/>\n       <use x=\"172.314453\" xlink:href=\"#ArialMT-121\"/>\n      </g>\n     </g>\n    </g>\n    <g id=\"ytick_21\">\n     <g id=\"line2d_30\">\n      <g>\n       <use style=\"fill:#262626;stroke:#262626;\" x=\"62.173438\" xlink:href=\"#mb9da8abce1\" y=\"101.877\"/>\n      </g>\n     </g>\n     <g id=\"text_30\">\n      <!-- x -->\n      <defs>\n       <path d=\"M 0.734375 0 \nL 19.671875 26.953125 \nL 2.15625 51.859375 \nL 13.140625 51.859375 \nL 21.09375 39.703125 \nQ 23.34375 36.234375 24.703125 33.890625 \nQ 26.859375 37.109375 28.65625 39.59375 \nL 37.40625 51.859375 \nL 47.90625 51.859375 \nL 29.984375 27.4375 \nL 49.265625 0 \nL 38.484375 0 \nL 27.828125 16.109375 \nL 25 20.453125 \nL 11.375 0 \nz\n\" id=\"ArialMT-120\"/>\n      </defs>\n      <g style=\"fill:#262626;\" transform=\"translate(46.673438 105.455906)scale(0.1 -0.1)\">\n       <use xlink:href=\"#ArialMT-120\"/>\n      </g>\n     </g>\n    </g>\n    <g id=\"ytick_22\">\n     <g id=\"line2d_31\">\n      <g>\n       <use style=\"fill:#262626;stroke:#262626;\" x=\"62.173438\" xlink:href=\"#mb9da8abce1\" y=\"91.911\"/>\n      </g>\n     </g>\n     <g id=\"text_31\">\n      <!-- sales -->\n      <g style=\"fill:#262626;\" transform=\"translate(28.329688 95.489906)scale(0.1 -0.1)\">\n       <use xlink:href=\"#ArialMT-115\"/>\n       <use x=\"50\" xlink:href=\"#ArialMT-97\"/>\n       <use x=\"105.615234\" xlink:href=\"#ArialMT-108\"/>\n       <use x=\"127.832031\" xlink:href=\"#ArialMT-101\"/>\n       <use x=\"183.447266\" xlink:href=\"#ArialMT-115\"/>\n      </g>\n     </g>\n    </g>\n    <g id=\"ytick_23\">\n     <g id=\"line2d_32\">\n      <g>\n       <use style=\"fill:#262626;stroke:#262626;\" x=\"62.173438\" xlink:href=\"#mb9da8abce1\" y=\"81.945\"/>\n      </g>\n     </g>\n     <g id=\"text_32\">\n      <!-- dance -->\n      <g style=\"fill:#262626;\" transform=\"translate(24.429688 85.523906)scale(0.1 -0.1)\">\n       <use xlink:href=\"#ArialMT-100\"/>\n       <use x=\"55.615234\" xlink:href=\"#ArialMT-97\"/>\n       <use x=\"111.230469\" xlink:href=\"#ArialMT-110\"/>\n       <use x=\"166.845703\" xlink:href=\"#ArialMT-99\"/>\n       <use x=\"216.845703\" xlink:href=\"#ArialMT-101\"/>\n      </g>\n     </g>\n    </g>\n    <g id=\"ytick_24\">\n     <g id=\"line2d_33\">\n      <g>\n       <use style=\"fill:#262626;stroke:#262626;\" x=\"62.173438\" xlink:href=\"#mb9da8abce1\" y=\"71.979\"/>\n      </g>\n     </g>\n     <g id=\"text_33\">\n      <!-- ultimate -->\n      <g style=\"fill:#262626;\" transform=\"translate(16.660938 75.557906)scale(0.1 -0.1)\">\n       <use xlink:href=\"#ArialMT-117\"/>\n       <use x=\"55.615234\" xlink:href=\"#ArialMT-108\"/>\n       <use x=\"77.832031\" xlink:href=\"#ArialMT-116\"/>\n       <use x=\"105.615234\" xlink:href=\"#ArialMT-105\"/>\n       <use x=\"127.832031\" xlink:href=\"#ArialMT-109\"/>\n       <use x=\"211.132812\" xlink:href=\"#ArialMT-97\"/>\n       <use x=\"266.748047\" xlink:href=\"#ArialMT-116\"/>\n       <use x=\"294.53125\" xlink:href=\"#ArialMT-101\"/>\n      </g>\n     </g>\n    </g>\n    <g id=\"ytick_25\">\n     <g id=\"line2d_34\">\n      <g>\n       <use style=\"fill:#262626;stroke:#262626;\" x=\"62.173438\" xlink:href=\"#mb9da8abce1\" y=\"62.013\"/>\n      </g>\n     </g>\n     <g id=\"text_34\">\n      <!-- edition -->\n      <g style=\"fill:#262626;\" transform=\"translate(22.207813 65.591906)scale(0.1 -0.1)\">\n       <use xlink:href=\"#ArialMT-101\"/>\n       <use x=\"55.615234\" xlink:href=\"#ArialMT-100\"/>\n       <use x=\"111.230469\" xlink:href=\"#ArialMT-105\"/>\n       <use x=\"133.447266\" xlink:href=\"#ArialMT-116\"/>\n       <use x=\"161.230469\" xlink:href=\"#ArialMT-105\"/>\n       <use x=\"183.447266\" xlink:href=\"#ArialMT-111\"/>\n       <use x=\"239.0625\" xlink:href=\"#ArialMT-110\"/>\n      </g>\n     </g>\n    </g>\n    <g id=\"ytick_26\">\n     <g id=\"line2d_35\">\n      <g>\n       <use style=\"fill:#262626;stroke:#262626;\" x=\"62.173438\" xlink:href=\"#mb9da8abce1\" y=\"52.047\"/>\n      </g>\n     </g>\n     <g id=\"text_35\">\n      <!-- racing -->\n      <g style=\"fill:#262626;\" transform=\"translate(24.439063 55.625906)scale(0.1 -0.1)\">\n       <use xlink:href=\"#ArialMT-114\"/>\n       <use x=\"33.300781\" xlink:href=\"#ArialMT-97\"/>\n       <use x=\"88.916016\" xlink:href=\"#ArialMT-99\"/>\n       <use x=\"138.916016\" xlink:href=\"#ArialMT-105\"/>\n       <use x=\"161.132812\" xlink:href=\"#ArialMT-110\"/>\n       <use x=\"216.748047\" xlink:href=\"#ArialMT-103\"/>\n      </g>\n     </g>\n    </g>\n    <g id=\"ytick_27\">\n     <g id=\"line2d_36\">\n      <g>\n       <use style=\"fill:#262626;stroke:#262626;\" x=\"62.173438\" xlink:href=\"#mb9da8abce1\" y=\"42.081\"/>\n      </g>\n     </g>\n     <g id=\"text_36\">\n      <!-- warriors -->\n      <g style=\"fill:#262626;\" transform=\"translate(16.11875 45.659906)scale(0.1 -0.1)\">\n       <use xlink:href=\"#ArialMT-119\"/>\n       <use x=\"72.216797\" xlink:href=\"#ArialMT-97\"/>\n       <use x=\"127.832031\" xlink:href=\"#ArialMT-114\"/>\n       <use x=\"161.132812\" xlink:href=\"#ArialMT-114\"/>\n       <use x=\"194.433594\" xlink:href=\"#ArialMT-105\"/>\n       <use x=\"216.650391\" xlink:href=\"#ArialMT-111\"/>\n       <use x=\"272.265625\" xlink:href=\"#ArialMT-114\"/>\n       <use x=\"305.566406\" xlink:href=\"#ArialMT-115\"/>\n      </g>\n     </g>\n    </g>\n    <g id=\"ytick_28\">\n     <g id=\"line2d_37\">\n      <g>\n       <use style=\"fill:#262626;stroke:#262626;\" x=\"62.173438\" xlink:href=\"#mb9da8abce1\" y=\"32.115\"/>\n      </g>\n     </g>\n     <g id=\"text_37\">\n      <!-- fifa -->\n      <g style=\"fill:#262626;\" transform=\"translate(38.334375 35.693906)scale(0.1 -0.1)\">\n       <use xlink:href=\"#ArialMT-102\"/>\n       <use x=\"27.783203\" xlink:href=\"#ArialMT-105\"/>\n       <use x=\"50\" xlink:href=\"#ArialMT-102\"/>\n       <use x=\"77.783203\" xlink:href=\"#ArialMT-97\"/>\n      </g>\n     </g>\n    </g>\n    <g id=\"ytick_29\">\n     <g id=\"line2d_38\">\n      <g>\n       <use style=\"fill:#262626;stroke:#262626;\" x=\"62.173438\" xlink:href=\"#mb9da8abce1\" y=\"22.149\"/>\n      </g>\n     </g>\n     <g id=\"text_38\">\n      <!-- adventure -->\n      <g style=\"fill:#262626;\" transform=\"translate(7.2 25.727906)scale(0.1 -0.1)\">\n       <use xlink:href=\"#ArialMT-97\"/>\n       <use x=\"55.615234\" xlink:href=\"#ArialMT-100\"/>\n       <use x=\"111.230469\" xlink:href=\"#ArialMT-118\"/>\n       <use x=\"161.230469\" xlink:href=\"#ArialMT-101\"/>\n       <use x=\"216.845703\" xlink:href=\"#ArialMT-110\"/>\n       <use x=\"272.460938\" xlink:href=\"#ArialMT-116\"/>\n       <use x=\"300.244141\" xlink:href=\"#ArialMT-117\"/>\n       <use x=\"355.859375\" xlink:href=\"#ArialMT-114\"/>\n       <use x=\"389.160156\" xlink:href=\"#ArialMT-101\"/>\n      </g>\n     </g>\n    </g>\n    <g id=\"ytick_30\">\n     <g id=\"line2d_39\">\n      <g>\n       <use style=\"fill:#262626;stroke:#262626;\" x=\"62.173438\" xlink:href=\"#mb9da8abce1\" y=\"12.183\"/>\n      </g>\n     </g>\n     <g id=\"text_39\">\n      <!-- league -->\n      <g style=\"fill:#262626;\" transform=\"translate(21.646875 15.761906)scale(0.1 -0.1)\">\n       <use xlink:href=\"#ArialMT-108\"/>\n       <use x=\"22.216797\" xlink:href=\"#ArialMT-101\"/>\n       <use x=\"77.832031\" xlink:href=\"#ArialMT-97\"/>\n       <use x=\"133.447266\" xlink:href=\"#ArialMT-103\"/>\n       <use x=\"189.0625\" xlink:href=\"#ArialMT-117\"/>\n       <use x=\"244.677734\" xlink:href=\"#ArialMT-101\"/>\n      </g>\n     </g>\n    </g>\n   </g>\n   <g id=\"patch_3\">\n    <path clip-path=\"url(#pffac131163)\" d=\"M 62.173438 303.6885 \nL 487.316295 303.6885 \nL 487.316295 298.7055 \nL 62.173438 298.7055 \nz\n\" style=\"fill:#1f77b4;stroke:#ffffff;stroke-linejoin:miter;stroke-width:0.3;\"/>\n   </g>\n   <g id=\"patch_4\">\n    <path clip-path=\"url(#pffac131163)\" d=\"M 62.173438 293.7225 \nL 397.382229 293.7225 \nL 397.382229 288.7395 \nL 62.173438 288.7395 \nz\n\" style=\"fill:#1f77b4;stroke:#ffffff;stroke-linejoin:miter;stroke-width:0.3;\"/>\n   </g>\n   <g id=\"patch_5\">\n    <path clip-path=\"url(#pffac131163)\" d=\"M 62.173438 283.7565 \nL 382.052558 283.7565 \nL 382.052558 278.7735 \nL 62.173438 278.7735 \nz\n\" style=\"fill:#1f77b4;stroke:#ffffff;stroke-linejoin:miter;stroke-width:0.3;\"/>\n   </g>\n   <g id=\"patch_6\">\n    <path clip-path=\"url(#pffac131163)\" d=\"M 62.173438 273.7905 \nL 370.8108 273.7905 \nL 370.8108 268.8075 \nL 62.173438 268.8075 \nz\n\" style=\"fill:#1f77b4;stroke:#ffffff;stroke-linejoin:miter;stroke-width:0.3;\"/>\n   </g>\n   <g id=\"patch_7\">\n    <path clip-path=\"url(#pffac131163)\" d=\"M 62.173438 263.8245 \nL 360.59102 263.8245 \nL 360.59102 258.8415 \nL 62.173438 258.8415 \nz\n\" style=\"fill:#1f77b4;stroke:#ffffff;stroke-linejoin:miter;stroke-width:0.3;\"/>\n   </g>\n   <g id=\"patch_8\">\n    <path clip-path=\"url(#pffac131163)\" d=\"M 62.173438 253.8585 \nL 332.997613 253.8585 \nL 332.997613 248.8755 \nL 62.173438 248.8755 \nz\n\" style=\"fill:#1f77b4;stroke:#ffffff;stroke-linejoin:miter;stroke-width:0.3;\"/>\n   </g>\n   <g id=\"patch_9\">\n    <path clip-path=\"url(#pffac131163)\" d=\"M 62.173438 243.8925 \nL 300.294317 243.8925 \nL 300.294317 238.9095 \nL 62.173438 238.9095 \nz\n\" style=\"fill:#1f77b4;stroke:#ffffff;stroke-linejoin:miter;stroke-width:0.3;\"/>\n   </g>\n   <g id=\"patch_10\">\n    <path clip-path=\"url(#pffac131163)\" d=\"M 62.173438 233.9265 \nL 295.184427 233.9265 \nL 295.184427 228.9435 \nL 62.173438 228.9435 \nz\n\" style=\"fill:#1f77b4;stroke:#ffffff;stroke-linejoin:miter;stroke-width:0.3;\"/>\n   </g>\n   <g id=\"patch_11\">\n    <path clip-path=\"url(#pffac131163)\" d=\"M 62.173438 223.9605 \nL 287.008602 223.9605 \nL 287.008602 218.9775 \nL 62.173438 218.9775 \nz\n\" style=\"fill:#1f77b4;stroke:#ffffff;stroke-linejoin:miter;stroke-width:0.3;\"/>\n   </g>\n   <g id=\"patch_12\">\n    <path clip-path=\"url(#pffac131163)\" d=\"M 62.173438 213.9945 \nL 284.964646 213.9945 \nL 284.964646 209.0115 \nL 62.173438 209.0115 \nz\n\" style=\"fill:#1f77b4;stroke:#ffffff;stroke-linejoin:miter;stroke-width:0.3;\"/>\n   </g>\n   <g id=\"patch_13\">\n    <path clip-path=\"url(#pffac131163)\" d=\"M 62.173438 204.0285 \nL 274.744866 204.0285 \nL 274.744866 199.0455 \nL 62.173438 199.0455 \nz\n\" style=\"fill:#1f77b4;stroke:#ffffff;stroke-linejoin:miter;stroke-width:0.3;\"/>\n   </g>\n   <g id=\"patch_14\">\n    <path clip-path=\"url(#pffac131163)\" d=\"M 62.173438 194.0625 \nL 262.48113 194.0625 \nL 262.48113 189.0795 \nL 62.173438 189.0795 \nz\n\" style=\"fill:#1f77b4;stroke:#ffffff;stroke-linejoin:miter;stroke-width:0.3;\"/>\n   </g>\n   <g id=\"patch_15\">\n    <path clip-path=\"url(#pffac131163)\" d=\"M 62.173438 184.0965 \nL 260.437174 184.0965 \nL 260.437174 179.1135 \nL 62.173438 179.1135 \nz\n\" style=\"fill:#1f77b4;stroke:#ffffff;stroke-linejoin:miter;stroke-width:0.3;\"/>\n   </g>\n   <g id=\"patch_16\">\n    <path clip-path=\"url(#pffac131163)\" d=\"M 62.173438 174.1305 \nL 241.019591 174.1305 \nL 241.019591 169.1475 \nL 62.173438 169.1475 \nz\n\" style=\"fill:#1f77b4;stroke:#ffffff;stroke-linejoin:miter;stroke-width:0.3;\"/>\n   </g>\n   <g id=\"patch_17\">\n    <path clip-path=\"url(#pffac131163)\" d=\"M 62.173438 164.1645 \nL 230.799811 164.1645 \nL 230.799811 159.1815 \nL 62.173438 159.1815 \nz\n\" style=\"fill:#1f77b4;stroke:#ffffff;stroke-linejoin:miter;stroke-width:0.3;\"/>\n   </g>\n   <g id=\"patch_18\">\n    <path clip-path=\"url(#pffac131163)\" d=\"M 62.173438 154.1985 \nL 229.777833 154.1985 \nL 229.777833 149.2155 \nL 62.173438 149.2155 \nz\n\" style=\"fill:#1f77b4;stroke:#ffffff;stroke-linejoin:miter;stroke-width:0.3;\"/>\n   </g>\n   <g id=\"patch_19\">\n    <path clip-path=\"url(#pffac131163)\" d=\"M 62.173438 144.2325 \nL 229.777833 144.2325 \nL 229.777833 139.2495 \nL 62.173438 139.2495 \nz\n\" style=\"fill:#1f77b4;stroke:#ffffff;stroke-linejoin:miter;stroke-width:0.3;\"/>\n   </g>\n   <g id=\"patch_20\">\n    <path clip-path=\"url(#pffac131163)\" d=\"M 62.173438 134.2665 \nL 226.711899 134.2665 \nL 226.711899 129.2835 \nL 62.173438 129.2835 \nz\n\" style=\"fill:#1f77b4;stroke:#ffffff;stroke-linejoin:miter;stroke-width:0.3;\"/>\n   </g>\n   <g id=\"patch_21\">\n    <path clip-path=\"url(#pffac131163)\" d=\"M 62.173438 124.3005 \nL 225.689921 124.3005 \nL 225.689921 119.3175 \nL 62.173438 119.3175 \nz\n\" style=\"fill:#1f77b4;stroke:#ffffff;stroke-linejoin:miter;stroke-width:0.3;\"/>\n   </g>\n   <g id=\"patch_22\">\n    <path clip-path=\"url(#pffac131163)\" d=\"M 62.173438 114.3345 \nL 223.645965 114.3345 \nL 223.645965 109.3515 \nL 62.173438 109.3515 \nz\n\" style=\"fill:#1f77b4;stroke:#ffffff;stroke-linejoin:miter;stroke-width:0.3;\"/>\n   </g>\n   <g id=\"patch_23\">\n    <path clip-path=\"url(#pffac131163)\" d=\"M 62.173438 104.3685 \nL 223.645965 104.3685 \nL 223.645965 99.3855 \nL 62.173438 99.3855 \nz\n\" style=\"fill:#1f77b4;stroke:#ffffff;stroke-linejoin:miter;stroke-width:0.3;\"/>\n   </g>\n   <g id=\"patch_24\">\n    <path clip-path=\"url(#pffac131163)\" d=\"M 62.173438 94.4025 \nL 216.492119 94.4025 \nL 216.492119 89.4195 \nL 62.173438 89.4195 \nz\n\" style=\"fill:#1f77b4;stroke:#ffffff;stroke-linejoin:miter;stroke-width:0.3;\"/>\n   </g>\n   <g id=\"patch_25\">\n    <path clip-path=\"url(#pffac131163)\" d=\"M 62.173438 84.4365 \nL 216.492119 84.4365 \nL 216.492119 79.4535 \nL 62.173438 79.4535 \nz\n\" style=\"fill:#1f77b4;stroke:#ffffff;stroke-linejoin:miter;stroke-width:0.3;\"/>\n   </g>\n   <g id=\"patch_26\">\n    <path clip-path=\"url(#pffac131163)\" d=\"M 62.173438 74.4705 \nL 216.492119 74.4705 \nL 216.492119 69.4875 \nL 62.173438 69.4875 \nz\n\" style=\"fill:#1f77b4;stroke:#ffffff;stroke-linejoin:miter;stroke-width:0.3;\"/>\n   </g>\n   <g id=\"patch_27\">\n    <path clip-path=\"url(#pffac131163)\" d=\"M 62.173438 64.5045 \nL 215.470141 64.5045 \nL 215.470141 59.5215 \nL 62.173438 59.5215 \nz\n\" style=\"fill:#1f77b4;stroke:#ffffff;stroke-linejoin:miter;stroke-width:0.3;\"/>\n   </g>\n   <g id=\"patch_28\">\n    <path clip-path=\"url(#pffac131163)\" d=\"M 62.173438 54.5385 \nL 215.470141 54.5385 \nL 215.470141 49.5555 \nL 62.173438 49.5555 \nz\n\" style=\"fill:#1f77b4;stroke:#ffffff;stroke-linejoin:miter;stroke-width:0.3;\"/>\n   </g>\n   <g id=\"patch_29\">\n    <path clip-path=\"url(#pffac131163)\" d=\"M 62.173438 44.5725 \nL 212.404207 44.5725 \nL 212.404207 39.5895 \nL 62.173438 39.5895 \nz\n\" style=\"fill:#1f77b4;stroke:#ffffff;stroke-linejoin:miter;stroke-width:0.3;\"/>\n   </g>\n   <g id=\"patch_30\">\n    <path clip-path=\"url(#pffac131163)\" d=\"M 62.173438 34.6065 \nL 208.316295 34.6065 \nL 208.316295 29.6235 \nL 62.173438 29.6235 \nz\n\" style=\"fill:#1f77b4;stroke:#ffffff;stroke-linejoin:miter;stroke-width:0.3;\"/>\n   </g>\n   <g id=\"patch_31\">\n    <path clip-path=\"url(#pffac131163)\" d=\"M 62.173438 24.6405 \nL 202.184427 24.6405 \nL 202.184427 19.6575 \nL 62.173438 19.6575 \nz\n\" style=\"fill:#1f77b4;stroke:#ffffff;stroke-linejoin:miter;stroke-width:0.3;\"/>\n   </g>\n   <g id=\"patch_32\">\n    <path clip-path=\"url(#pffac131163)\" d=\"M 62.173438 14.6745 \nL 197.074536 14.6745 \nL 197.074536 9.6915 \nL 62.173438 9.6915 \nz\n\" style=\"fill:#1f77b4;stroke:#ffffff;stroke-linejoin:miter;stroke-width:0.3;\"/>\n   </g>\n   <g id=\"patch_33\">\n    <path d=\"M 62.173438 306.18 \nL 62.173438 7.2 \n\" style=\"fill:none;\"/>\n   </g>\n   <g id=\"patch_34\">\n    <path d=\"M 508.573437 306.18 \nL 508.573437 7.2 \n\" style=\"fill:none;\"/>\n   </g>\n   <g id=\"patch_35\">\n    <path d=\"M 62.173438 306.18 \nL 508.573437 306.18 \n\" style=\"fill:none;\"/>\n   </g>\n   <g id=\"patch_36\">\n    <path d=\"M 62.173438 7.2 \nL 508.573437 7.2 \n\" style=\"fill:none;\"/>\n   </g>\n  </g>\n </g>\n <defs>\n  <clipPath id=\"pffac131163\">\n   <rect height=\"298.98\" width=\"446.4\" x=\"62.173438\" y=\"7.2\"/>\n  </clipPath>\n </defs>\n</svg>\n",
      "image/png": "[encoded data removed]"
     },
     "metadata": {}
    }
   ],
   "source": [
    "pd.Series(words).value_counts().head(30).plot(kind='barh')"
   ]
  },
  {
   "cell_type": "markdown",
   "metadata": {},
   "source": [
    "単語1語で見るとどうしてもゲームタイトルというよりジャンルの名前になってくるので, ツナガリを1つの単語とみなして count してみます。`nltk` の ngrams を使うのが便利だと思います。"
   ]
  },
  {
   "cell_type": "code",
   "execution_count": 33,
   "metadata": {},
   "outputs": [],
   "source": [
    "import texthero as hero\n",
    "from texthero import preprocessing"
   ]
  },
  {
   "cell_type": "code",
   "execution_count": 34,
   "metadata": {},
   "outputs": [],
   "source": [
    "custom_pipeline = [preprocessing.fillna\n",
    "                   , preprocessing.lowercase\n",
    "                   , preprocessing.remove_digits\n",
    "                   , preprocessing.remove_punctuation\n",
    "                   , preprocessing.remove_diacritics\n",
    "                   , preprocessing.remove_whitespace\n",
    "                   , preprocessing.remove_stopwords\n",
    "                  ]"
   ]
  },
  {
   "cell_type": "code",
   "execution_count": 35,
   "metadata": {},
   "outputs": [],
   "source": [
    "names = hero.clean(whole_df['Name'], custom_pipeline)"
   ]
  },
  {
   "cell_type": "code",
   "execution_count": 36,
   "metadata": {},
   "outputs": [],
   "source": [
    "from nltk.util import ngrams\n",
    "\n",
    "# def line_ngram(line, n=2):\n",
    "def line_ngram(line):\n",
    "    words = [w for w in line.split(' ') if len(w) != 0] # 空文字は取り除く\n",
    "    return list(ngrams(words, 2)) + list(ngrams(words, 3))"
   ]
  },
  {
   "cell_type": "code",
   "execution_count": 37,
   "metadata": {},
   "outputs": [],
   "source": [
    "name_grams = names.map(line_ngram)"
   ]
  },
  {
   "cell_type": "code",
   "execution_count": 38,
   "metadata": {},
   "outputs": [
    {
     "output_type": "execute_result",
     "data": {
      "text/plain": [
       "'The Chronicles of Narnia: The Lion, The Witch and The Wardrobe'"
      ]
     },
     "metadata": {},
     "execution_count": 38
    }
   ],
   "source": [
    "train_df['Name'][10]"
   ]
  },
  {
   "cell_type": "code",
   "execution_count": 39,
   "metadata": {},
   "outputs": [
    {
     "output_type": "execute_result",
     "data": {
      "text/plain": [
       "[('chronicles', 'narnia'),\n",
       " ('narnia', 'lion'),\n",
       " ('lion', 'witch'),\n",
       " ('witch', 'wardrobe'),\n",
       " ('chronicles', 'narnia', 'lion'),\n",
       " ('narnia', 'lion', 'witch'),\n",
       " ('lion', 'witch', 'wardrobe')]"
      ]
     },
     "metadata": {},
     "execution_count": 39
    }
   ],
   "source": [
    "name_grams[10]"
   ]
  },
  {
   "cell_type": "code",
   "execution_count": 40,
   "metadata": {},
   "outputs": [],
   "source": [
    "grams = [x for row in name_grams for x in row if len(x) > 0]"
   ]
  },
  {
   "cell_type": "code",
   "execution_count": 44,
   "metadata": {},
   "outputs": [
    {
     "output_type": "execute_result",
     "data": {
      "text/plain": [
       "<matplotlib.axes._subplots.AxesSubplot at 0x7fee93e30f98>"
      ]
     },
     "metadata": {},
     "execution_count": 44
    },
    {
     "output_type": "display_data",
     "data": {
      "text/plain": "<Figure size 576x396 with 1 Axes>",
      "image/svg+xml": "<?xml version=\"1.0\" encoding=\"utf-8\" standalone=\"no\"?>\n<!DOCTYPE svg PUBLIC \"-//W3C//DTD SVG 1.1//EN\"\n  \"http://www.w3.org/Graphics/SVG/1.1/DTD/svg11.dtd\">\n<!-- Created with matplotlib (https://matplotlib.org/) -->\n<svg height=\"333.025312pt\" version=\"1.1\" viewBox=\"0 0 551.876563 333.025312\" width=\"551.876563pt\" xmlns=\"http://www.w3.org/2000/svg\" xmlns:xlink=\"http://www.w3.org/1999/xlink\">\n <defs>\n  <style type=\"text/css\">\n*{stroke-linecap:butt;stroke-linejoin:round;}\n  </style>\n </defs>\n <g id=\"figure_1\">\n  <g id=\"patch_1\">\n   <path d=\"M 0 333.025312 \nL 551.876563 333.025312 \nL 551.876563 -0 \nL 0 -0 \nz\n\" style=\"fill:#ffffff;\"/>\n  </g>\n  <g id=\"axes_1\">\n   <g id=\"patch_2\">\n    <path d=\"M 98.276563 306.18 \nL 544.676562 306.18 \nL 544.676562 7.2 \nL 98.276563 7.2 \nz\n\" style=\"fill:#ffffff;\"/>\n   </g>\n   <g id=\"matplotlib.axis_1\">\n    <g id=\"xtick_1\">\n     <g id=\"line2d_1\">\n      <defs>\n       <path d=\"M 0 0 \nL 0 3.5 \n\" id=\"m0487e3797b\" style=\"stroke:#262626;\"/>\n      </defs>\n      <g>\n       <use style=\"fill:#262626;stroke:#262626;\" x=\"98.276563\" xlink:href=\"#m0487e3797b\" y=\"306.18\"/>\n      </g>\n     </g>\n     <g id=\"text_1\">\n      <!-- 0 -->\n      <defs>\n       <path d=\"M 4.15625 35.296875 \nQ 4.15625 48 6.765625 55.734375 \nQ 9.375 63.484375 14.515625 67.671875 \nQ 19.671875 71.875 27.484375 71.875 \nQ 33.25 71.875 37.59375 69.546875 \nQ 41.9375 67.234375 44.765625 62.859375 \nQ 47.609375 58.5 49.21875 52.21875 \nQ 50.828125 45.953125 50.828125 35.296875 \nQ 50.828125 22.703125 48.234375 14.96875 \nQ 45.65625 7.234375 40.5 3 \nQ 35.359375 -1.21875 27.484375 -1.21875 \nQ 17.140625 -1.21875 11.234375 6.203125 \nQ 4.15625 15.140625 4.15625 35.296875 \nz\nM 13.1875 35.296875 \nQ 13.1875 17.671875 17.3125 11.828125 \nQ 21.4375 6 27.484375 6 \nQ 33.546875 6 37.671875 11.859375 \nQ 41.796875 17.71875 41.796875 35.296875 \nQ 41.796875 52.984375 37.671875 58.78125 \nQ 33.546875 64.59375 27.390625 64.59375 \nQ 21.34375 64.59375 17.71875 59.46875 \nQ 13.1875 52.9375 13.1875 35.296875 \nz\n\" id=\"ArialMT-48\"/>\n      </defs>\n      <g style=\"fill:#262626;\" transform=\"translate(95.496094 323.837812)scale(0.1 -0.1)\">\n       <use xlink:href=\"#ArialMT-48\"/>\n      </g>\n     </g>\n    </g>\n    <g id=\"xtick_2\">\n     <g id=\"line2d_2\">\n      <g>\n       <use style=\"fill:#262626;stroke:#262626;\" x=\"167.405482\" xlink:href=\"#m0487e3797b\" y=\"306.18\"/>\n      </g>\n     </g>\n     <g id=\"text_2\">\n      <!-- 20 -->\n      <defs>\n       <path d=\"M 50.34375 8.453125 \nL 50.34375 0 \nL 3.03125 0 \nQ 2.9375 3.171875 4.046875 6.109375 \nQ 5.859375 10.9375 9.828125 15.625 \nQ 13.8125 20.3125 21.34375 26.46875 \nQ 33.015625 36.03125 37.109375 41.625 \nQ 41.21875 47.21875 41.21875 52.203125 \nQ 41.21875 57.421875 37.46875 61 \nQ 33.734375 64.59375 27.734375 64.59375 \nQ 21.390625 64.59375 17.578125 60.78125 \nQ 13.765625 56.984375 13.71875 50.25 \nL 4.6875 51.171875 \nQ 5.609375 61.28125 11.65625 66.578125 \nQ 17.71875 71.875 27.9375 71.875 \nQ 38.234375 71.875 44.234375 66.15625 \nQ 50.25 60.453125 50.25 52 \nQ 50.25 47.703125 48.484375 43.546875 \nQ 46.734375 39.40625 42.65625 34.8125 \nQ 38.578125 30.21875 29.109375 22.21875 \nQ 21.1875 15.578125 18.9375 13.203125 \nQ 16.703125 10.84375 15.234375 8.453125 \nz\n\" id=\"ArialMT-50\"/>\n      </defs>\n      <g style=\"fill:#262626;\" transform=\"translate(161.844545 323.837812)scale(0.1 -0.1)\">\n       <use xlink:href=\"#ArialMT-50\"/>\n       <use x=\"55.615234\" xlink:href=\"#ArialMT-48\"/>\n      </g>\n     </g>\n    </g>\n    <g id=\"xtick_3\">\n     <g id=\"line2d_3\">\n      <g>\n       <use style=\"fill:#262626;stroke:#262626;\" x=\"236.534402\" xlink:href=\"#m0487e3797b\" y=\"306.18\"/>\n      </g>\n     </g>\n     <g id=\"text_3\">\n      <!-- 40 -->\n      <defs>\n       <path d=\"M 32.328125 0 \nL 32.328125 17.140625 \nL 1.265625 17.140625 \nL 1.265625 25.203125 \nL 33.9375 71.578125 \nL 41.109375 71.578125 \nL 41.109375 25.203125 \nL 50.78125 25.203125 \nL 50.78125 17.140625 \nL 41.109375 17.140625 \nL 41.109375 0 \nz\nM 32.328125 25.203125 \nL 32.328125 57.46875 \nL 9.90625 25.203125 \nz\n\" id=\"ArialMT-52\"/>\n      </defs>\n      <g style=\"fill:#262626;\" transform=\"translate(230.973465 323.837812)scale(0.1 -0.1)\">\n       <use xlink:href=\"#ArialMT-52\"/>\n       <use x=\"55.615234\" xlink:href=\"#ArialMT-48\"/>\n      </g>\n     </g>\n    </g>\n    <g id=\"xtick_4\">\n     <g id=\"line2d_4\">\n      <g>\n       <use style=\"fill:#262626;stroke:#262626;\" x=\"305.663322\" xlink:href=\"#m0487e3797b\" y=\"306.18\"/>\n      </g>\n     </g>\n     <g id=\"text_4\">\n      <!-- 60 -->\n      <defs>\n       <path d=\"M 49.75 54.046875 \nL 41.015625 53.375 \nQ 39.84375 58.546875 37.703125 60.890625 \nQ 34.125 64.65625 28.90625 64.65625 \nQ 24.703125 64.65625 21.53125 62.3125 \nQ 17.390625 59.28125 14.984375 53.46875 \nQ 12.59375 47.65625 12.5 36.921875 \nQ 15.671875 41.75 20.265625 44.09375 \nQ 24.859375 46.4375 29.890625 46.4375 \nQ 38.671875 46.4375 44.84375 39.96875 \nQ 51.03125 33.5 51.03125 23.25 \nQ 51.03125 16.5 48.125 10.71875 \nQ 45.21875 4.9375 40.140625 1.859375 \nQ 35.0625 -1.21875 28.609375 -1.21875 \nQ 17.625 -1.21875 10.6875 6.859375 \nQ 3.765625 14.9375 3.765625 33.5 \nQ 3.765625 54.25 11.421875 63.671875 \nQ 18.109375 71.875 29.4375 71.875 \nQ 37.890625 71.875 43.28125 67.140625 \nQ 48.6875 62.40625 49.75 54.046875 \nz\nM 13.875 23.1875 \nQ 13.875 18.65625 15.796875 14.5 \nQ 17.71875 10.359375 21.1875 8.171875 \nQ 24.65625 6 28.46875 6 \nQ 34.03125 6 38.03125 10.484375 \nQ 42.046875 14.984375 42.046875 22.703125 \nQ 42.046875 30.125 38.078125 34.390625 \nQ 34.125 38.671875 28.125 38.671875 \nQ 22.171875 38.671875 18.015625 34.390625 \nQ 13.875 30.125 13.875 23.1875 \nz\n\" id=\"ArialMT-54\"/>\n      </defs>\n      <g style=\"fill:#262626;\" transform=\"translate(300.102385 323.837812)scale(0.1 -0.1)\">\n       <use xlink:href=\"#ArialMT-54\"/>\n       <use x=\"55.615234\" xlink:href=\"#ArialMT-48\"/>\n      </g>\n     </g>\n    </g>\n    <g id=\"xtick_5\">\n     <g id=\"line2d_5\">\n      <g>\n       <use style=\"fill:#262626;stroke:#262626;\" x=\"374.792242\" xlink:href=\"#m0487e3797b\" y=\"306.18\"/>\n      </g>\n     </g>\n     <g id=\"text_5\">\n      <!-- 80 -->\n      <defs>\n       <path d=\"M 17.671875 38.8125 \nQ 12.203125 40.828125 9.5625 44.53125 \nQ 6.9375 48.25 6.9375 53.421875 \nQ 6.9375 61.234375 12.546875 66.546875 \nQ 18.171875 71.875 27.484375 71.875 \nQ 36.859375 71.875 42.578125 66.421875 \nQ 48.296875 60.984375 48.296875 53.171875 \nQ 48.296875 48.1875 45.671875 44.5 \nQ 43.0625 40.828125 37.75 38.8125 \nQ 44.34375 36.671875 47.78125 31.875 \nQ 51.21875 27.09375 51.21875 20.453125 \nQ 51.21875 11.28125 44.71875 5.03125 \nQ 38.234375 -1.21875 27.640625 -1.21875 \nQ 17.046875 -1.21875 10.546875 5.046875 \nQ 4.046875 11.328125 4.046875 20.703125 \nQ 4.046875 27.6875 7.59375 32.390625 \nQ 11.140625 37.109375 17.671875 38.8125 \nz\nM 15.921875 53.71875 \nQ 15.921875 48.640625 19.1875 45.40625 \nQ 22.46875 42.1875 27.6875 42.1875 \nQ 32.765625 42.1875 36.015625 45.375 \nQ 39.265625 48.578125 39.265625 53.21875 \nQ 39.265625 58.0625 35.90625 61.359375 \nQ 32.5625 64.65625 27.59375 64.65625 \nQ 22.5625 64.65625 19.234375 61.421875 \nQ 15.921875 58.203125 15.921875 53.71875 \nz\nM 13.09375 20.65625 \nQ 13.09375 16.890625 14.875 13.375 \nQ 16.65625 9.859375 20.171875 7.921875 \nQ 23.6875 6 27.734375 6 \nQ 34.03125 6 38.125 10.046875 \nQ 42.234375 14.109375 42.234375 20.359375 \nQ 42.234375 26.703125 38.015625 30.859375 \nQ 33.796875 35.015625 27.4375 35.015625 \nQ 21.234375 35.015625 17.15625 30.90625 \nQ 13.09375 26.8125 13.09375 20.65625 \nz\n\" id=\"ArialMT-56\"/>\n      </defs>\n      <g style=\"fill:#262626;\" transform=\"translate(369.231304 323.837812)scale(0.1 -0.1)\">\n       <use xlink:href=\"#ArialMT-56\"/>\n       <use x=\"55.615234\" xlink:href=\"#ArialMT-48\"/>\n      </g>\n     </g>\n    </g>\n    <g id=\"xtick_6\">\n     <g id=\"line2d_6\">\n      <g>\n       <use style=\"fill:#262626;stroke:#262626;\" x=\"443.921162\" xlink:href=\"#m0487e3797b\" y=\"306.18\"/>\n      </g>\n     </g>\n     <g id=\"text_6\">\n      <!-- 100 -->\n      <defs>\n       <path d=\"M 37.25 0 \nL 28.46875 0 \nL 28.46875 56 \nQ 25.296875 52.984375 20.140625 49.953125 \nQ 14.984375 46.921875 10.890625 45.40625 \nL 10.890625 53.90625 \nQ 18.265625 57.375 23.78125 62.296875 \nQ 29.296875 67.234375 31.59375 71.875 \nL 37.25 71.875 \nz\n\" id=\"ArialMT-49\"/>\n      </defs>\n      <g style=\"fill:#262626;\" transform=\"translate(435.579756 323.837812)scale(0.1 -0.1)\">\n       <use xlink:href=\"#ArialMT-49\"/>\n       <use x=\"55.615234\" xlink:href=\"#ArialMT-48\"/>\n       <use x=\"111.230469\" xlink:href=\"#ArialMT-48\"/>\n      </g>\n     </g>\n    </g>\n    <g id=\"xtick_7\">\n     <g id=\"line2d_7\">\n      <g>\n       <use style=\"fill:#262626;stroke:#262626;\" x=\"513.050082\" xlink:href=\"#m0487e3797b\" y=\"306.18\"/>\n      </g>\n     </g>\n     <g id=\"text_7\">\n      <!-- 120 -->\n      <g style=\"fill:#262626;\" transform=\"translate(504.708675 323.837812)scale(0.1 -0.1)\">\n       <use xlink:href=\"#ArialMT-49\"/>\n       <use x=\"55.615234\" xlink:href=\"#ArialMT-50\"/>\n       <use x=\"111.230469\" xlink:href=\"#ArialMT-48\"/>\n      </g>\n     </g>\n    </g>\n   </g>\n   <g id=\"matplotlib.axis_2\">\n    <g id=\"ytick_1\">\n     <g id=\"line2d_8\">\n      <defs>\n       <path d=\"M 0 0 \nL -3.5 0 \n\" id=\"m8224c90ec9\" style=\"stroke:#262626;\"/>\n      </defs>\n      <g>\n       <use style=\"fill:#262626;stroke:#262626;\" x=\"98.276563\" xlink:href=\"#m8224c90ec9\" y=\"291.231\"/>\n      </g>\n     </g>\n     <g id=\"text_8\">\n      <!-- (star, wars) -->\n      <defs>\n       <path d=\"M 23.390625 -21.046875 \nQ 16.109375 -11.859375 11.078125 0.4375 \nQ 6.0625 12.75 6.0625 25.921875 \nQ 6.0625 37.546875 9.8125 48.1875 \nQ 14.203125 60.546875 23.390625 72.796875 \nL 29.6875 72.796875 \nQ 23.78125 62.640625 21.875 58.296875 \nQ 18.890625 51.5625 17.1875 44.234375 \nQ 15.09375 35.109375 15.09375 25.875 \nQ 15.09375 2.390625 29.6875 -21.046875 \nz\n\" id=\"ArialMT-40\"/>\n       <path d=\"M 3.078125 15.484375 \nL 11.765625 16.84375 \nQ 12.5 11.625 15.84375 8.84375 \nQ 19.1875 6.0625 25.203125 6.0625 \nQ 31.25 6.0625 34.171875 8.515625 \nQ 37.109375 10.984375 37.109375 14.3125 \nQ 37.109375 17.28125 34.515625 19 \nQ 32.71875 20.171875 25.53125 21.96875 \nQ 15.875 24.421875 12.140625 26.203125 \nQ 8.40625 27.984375 6.46875 31.125 \nQ 4.546875 34.28125 4.546875 38.09375 \nQ 4.546875 41.546875 6.125 44.5 \nQ 7.71875 47.46875 10.453125 49.421875 \nQ 12.5 50.921875 16.03125 51.96875 \nQ 19.578125 53.03125 23.640625 53.03125 \nQ 29.734375 53.03125 34.34375 51.265625 \nQ 38.96875 49.515625 41.15625 46.5 \nQ 43.359375 43.5 44.1875 38.484375 \nL 35.59375 37.3125 \nQ 35.015625 41.3125 32.203125 43.546875 \nQ 29.390625 45.796875 24.265625 45.796875 \nQ 18.21875 45.796875 15.625 43.796875 \nQ 13.03125 41.796875 13.03125 39.109375 \nQ 13.03125 37.40625 14.109375 36.03125 \nQ 15.1875 34.625 17.484375 33.6875 \nQ 18.796875 33.203125 25.25 31.453125 \nQ 34.578125 28.953125 38.25 27.359375 \nQ 41.9375 25.78125 44.03125 22.75 \nQ 46.140625 19.734375 46.140625 15.234375 \nQ 46.140625 10.84375 43.578125 6.953125 \nQ 41.015625 3.078125 36.171875 0.953125 \nQ 31.34375 -1.171875 25.25 -1.171875 \nQ 15.140625 -1.171875 9.84375 3.03125 \nQ 4.546875 7.234375 3.078125 15.484375 \nz\n\" id=\"ArialMT-115\"/>\n       <path d=\"M 25.78125 7.859375 \nL 27.046875 0.09375 \nQ 23.34375 -0.6875 20.40625 -0.6875 \nQ 15.625 -0.6875 12.984375 0.828125 \nQ 10.359375 2.34375 9.28125 4.8125 \nQ 8.203125 7.28125 8.203125 15.1875 \nL 8.203125 45.015625 \nL 1.765625 45.015625 \nL 1.765625 51.859375 \nL 8.203125 51.859375 \nL 8.203125 64.703125 \nL 16.9375 69.96875 \nL 16.9375 51.859375 \nL 25.78125 51.859375 \nL 25.78125 45.015625 \nL 16.9375 45.015625 \nL 16.9375 14.703125 \nQ 16.9375 10.9375 17.40625 9.859375 \nQ 17.875 8.796875 18.921875 8.15625 \nQ 19.96875 7.515625 21.921875 7.515625 \nQ 23.390625 7.515625 25.78125 7.859375 \nz\n\" id=\"ArialMT-116\"/>\n       <path d=\"M 40.4375 6.390625 \nQ 35.546875 2.25 31.03125 0.53125 \nQ 26.515625 -1.171875 21.34375 -1.171875 \nQ 12.796875 -1.171875 8.203125 3 \nQ 3.609375 7.171875 3.609375 13.671875 \nQ 3.609375 17.484375 5.34375 20.625 \nQ 7.078125 23.78125 9.890625 25.6875 \nQ 12.703125 27.59375 16.21875 28.5625 \nQ 18.796875 29.25 24.03125 29.890625 \nQ 34.671875 31.15625 39.703125 32.90625 \nQ 39.75 34.71875 39.75 35.203125 \nQ 39.75 40.578125 37.25 42.78125 \nQ 33.890625 45.75 27.25 45.75 \nQ 21.046875 45.75 18.09375 43.578125 \nQ 15.140625 41.40625 13.71875 35.890625 \nL 5.125 37.0625 \nQ 6.296875 42.578125 8.984375 45.96875 \nQ 11.671875 49.359375 16.75 51.1875 \nQ 21.828125 53.03125 28.515625 53.03125 \nQ 35.15625 53.03125 39.296875 51.46875 \nQ 43.453125 49.90625 45.40625 47.53125 \nQ 47.359375 45.171875 48.140625 41.546875 \nQ 48.578125 39.3125 48.578125 33.453125 \nL 48.578125 21.734375 \nQ 48.578125 9.46875 49.140625 6.21875 \nQ 49.703125 2.984375 51.375 0 \nL 42.1875 0 \nQ 40.828125 2.734375 40.4375 6.390625 \nz\nM 39.703125 26.03125 \nQ 34.90625 24.078125 25.34375 22.703125 \nQ 19.921875 21.921875 17.671875 20.9375 \nQ 15.4375 19.96875 14.203125 18.09375 \nQ 12.984375 16.21875 12.984375 13.921875 \nQ 12.984375 10.40625 15.640625 8.0625 \nQ 18.3125 5.71875 23.4375 5.71875 \nQ 28.515625 5.71875 32.46875 7.9375 \nQ 36.421875 10.15625 38.28125 14.015625 \nQ 39.703125 17 39.703125 22.796875 \nz\n\" id=\"ArialMT-97\"/>\n       <path d=\"M 6.5 0 \nL 6.5 51.859375 \nL 14.40625 51.859375 \nL 14.40625 44 \nQ 17.4375 49.515625 20 51.265625 \nQ 22.5625 53.03125 25.640625 53.03125 \nQ 30.078125 53.03125 34.671875 50.203125 \nL 31.640625 42.046875 \nQ 28.421875 43.953125 25.203125 43.953125 \nQ 22.3125 43.953125 20.015625 42.21875 \nQ 17.71875 40.484375 16.75 37.40625 \nQ 15.28125 32.71875 15.28125 27.15625 \nL 15.28125 0 \nz\n\" id=\"ArialMT-114\"/>\n       <path d=\"M 8.890625 0 \nL 8.890625 10.015625 \nL 18.890625 10.015625 \nL 18.890625 0 \nQ 18.890625 -5.515625 16.9375 -8.90625 \nQ 14.984375 -12.3125 10.75 -14.15625 \nL 8.296875 -10.40625 \nQ 11.078125 -9.1875 12.390625 -6.8125 \nQ 13.71875 -4.4375 13.875 0 \nz\n\" id=\"ArialMT-44\"/>\n       <path id=\"ArialMT-32\"/>\n       <path d=\"M 16.15625 0 \nL 0.296875 51.859375 \nL 9.375 51.859375 \nL 17.625 21.921875 \nL 20.703125 10.796875 \nQ 20.90625 11.625 23.390625 21.484375 \nL 31.640625 51.859375 \nL 40.671875 51.859375 \nL 48.4375 21.78125 \nL 51.03125 11.859375 \nL 54 21.875 \nL 62.890625 51.859375 \nL 71.4375 51.859375 \nL 55.21875 0 \nL 46.09375 0 \nL 37.84375 31.0625 \nL 35.84375 39.890625 \nL 25.34375 0 \nz\n\" id=\"ArialMT-119\"/>\n       <path d=\"M 12.359375 -21.046875 \nL 6.0625 -21.046875 \nQ 20.65625 2.390625 20.65625 25.875 \nQ 20.65625 35.0625 18.5625 44.09375 \nQ 16.890625 51.421875 13.921875 58.15625 \nQ 12.015625 62.546875 6.0625 72.796875 \nL 12.359375 72.796875 \nQ 21.53125 60.546875 25.921875 48.1875 \nQ 29.6875 37.546875 29.6875 25.921875 \nQ 29.6875 12.75 24.625 0.4375 \nQ 19.578125 -11.859375 12.359375 -21.046875 \nz\n\" id=\"ArialMT-41\"/>\n      </defs>\n      <g style=\"fill:#262626;\" transform=\"translate(37.7875 294.870844)scale(0.1 -0.1)\">\n       <use xlink:href=\"#ArialMT-40\"/>\n       <use x=\"33.300781\" xlink:href=\"#ArialMT-115\"/>\n       <use x=\"83.300781\" xlink:href=\"#ArialMT-116\"/>\n       <use x=\"111.083984\" xlink:href=\"#ArialMT-97\"/>\n       <use x=\"166.699219\" xlink:href=\"#ArialMT-114\"/>\n       <use x=\"199.921875\" xlink:href=\"#ArialMT-44\"/>\n       <use x=\"227.705078\" xlink:href=\"#ArialMT-32\"/>\n       <use x=\"255.488281\" xlink:href=\"#ArialMT-119\"/>\n       <use x=\"327.705078\" xlink:href=\"#ArialMT-97\"/>\n       <use x=\"383.320312\" xlink:href=\"#ArialMT-114\"/>\n       <use x=\"416.621094\" xlink:href=\"#ArialMT-115\"/>\n       <use x=\"466.621094\" xlink:href=\"#ArialMT-41\"/>\n      </g>\n     </g>\n    </g>\n    <g id=\"ytick_2\">\n     <g id=\"line2d_9\">\n      <g>\n       <use style=\"fill:#262626;stroke:#262626;\" x=\"98.276563\" xlink:href=\"#m8224c90ec9\" y=\"261.333\"/>\n      </g>\n     </g>\n     <g id=\"text_9\">\n      <!-- (madden, nfl) -->\n      <defs>\n       <path d=\"M 6.59375 0 \nL 6.59375 51.859375 \nL 14.453125 51.859375 \nL 14.453125 44.578125 \nQ 16.890625 48.390625 20.9375 50.703125 \nQ 25 53.03125 30.171875 53.03125 \nQ 35.9375 53.03125 39.625 50.640625 \nQ 43.3125 48.25 44.828125 43.953125 \nQ 50.984375 53.03125 60.84375 53.03125 \nQ 68.5625 53.03125 72.703125 48.75 \nQ 76.859375 44.484375 76.859375 35.59375 \nL 76.859375 0 \nL 68.109375 0 \nL 68.109375 32.671875 \nQ 68.109375 37.9375 67.25 40.25 \nQ 66.40625 42.578125 64.15625 43.984375 \nQ 61.921875 45.40625 58.890625 45.40625 \nQ 53.421875 45.40625 49.796875 41.765625 \nQ 46.1875 38.140625 46.1875 30.125 \nL 46.1875 0 \nL 37.40625 0 \nL 37.40625 33.6875 \nQ 37.40625 39.546875 35.25 42.46875 \nQ 33.109375 45.40625 28.21875 45.40625 \nQ 24.515625 45.40625 21.359375 43.453125 \nQ 18.21875 41.5 16.796875 37.734375 \nQ 15.375 33.984375 15.375 26.90625 \nL 15.375 0 \nz\n\" id=\"ArialMT-109\"/>\n       <path d=\"M 40.234375 0 \nL 40.234375 6.546875 \nQ 35.296875 -1.171875 25.734375 -1.171875 \nQ 19.53125 -1.171875 14.328125 2.25 \nQ 9.125 5.671875 6.265625 11.796875 \nQ 3.421875 17.921875 3.421875 25.875 \nQ 3.421875 33.640625 6 39.96875 \nQ 8.59375 46.296875 13.765625 49.65625 \nQ 18.953125 53.03125 25.34375 53.03125 \nQ 30.03125 53.03125 33.6875 51.046875 \nQ 37.359375 49.078125 39.65625 45.90625 \nL 39.65625 71.578125 \nL 48.390625 71.578125 \nL 48.390625 0 \nz\nM 12.453125 25.875 \nQ 12.453125 15.921875 16.640625 10.984375 \nQ 20.84375 6.0625 26.5625 6.0625 \nQ 32.328125 6.0625 36.34375 10.765625 \nQ 40.375 15.484375 40.375 25.140625 \nQ 40.375 35.796875 36.265625 40.765625 \nQ 32.171875 45.75 26.171875 45.75 \nQ 20.3125 45.75 16.375 40.96875 \nQ 12.453125 36.1875 12.453125 25.875 \nz\n\" id=\"ArialMT-100\"/>\n       <path d=\"M 42.09375 16.703125 \nL 51.171875 15.578125 \nQ 49.03125 7.625 43.21875 3.21875 \nQ 37.40625 -1.171875 28.375 -1.171875 \nQ 17 -1.171875 10.328125 5.828125 \nQ 3.65625 12.84375 3.65625 25.484375 \nQ 3.65625 38.578125 10.390625 45.796875 \nQ 17.140625 53.03125 27.875 53.03125 \nQ 38.28125 53.03125 44.875 45.953125 \nQ 51.46875 38.875 51.46875 26.03125 \nQ 51.46875 25.25 51.421875 23.6875 \nL 12.75 23.6875 \nQ 13.234375 15.140625 17.578125 10.59375 \nQ 21.921875 6.0625 28.421875 6.0625 \nQ 33.25 6.0625 36.671875 8.59375 \nQ 40.09375 11.140625 42.09375 16.703125 \nz\nM 13.234375 30.90625 \nL 42.1875 30.90625 \nQ 41.609375 37.453125 38.875 40.71875 \nQ 34.671875 45.796875 27.984375 45.796875 \nQ 21.921875 45.796875 17.796875 41.75 \nQ 13.671875 37.703125 13.234375 30.90625 \nz\n\" id=\"ArialMT-101\"/>\n       <path d=\"M 6.59375 0 \nL 6.59375 51.859375 \nL 14.5 51.859375 \nL 14.5 44.484375 \nQ 20.21875 53.03125 31 53.03125 \nQ 35.6875 53.03125 39.625 51.34375 \nQ 43.5625 49.65625 45.515625 46.921875 \nQ 47.46875 44.1875 48.25 40.4375 \nQ 48.734375 37.984375 48.734375 31.890625 \nL 48.734375 0 \nL 39.9375 0 \nL 39.9375 31.546875 \nQ 39.9375 36.921875 38.90625 39.578125 \nQ 37.890625 42.234375 35.28125 43.8125 \nQ 32.671875 45.40625 29.15625 45.40625 \nQ 23.53125 45.40625 19.453125 41.84375 \nQ 15.375 38.28125 15.375 28.328125 \nL 15.375 0 \nz\n\" id=\"ArialMT-110\"/>\n       <path d=\"M 8.6875 0 \nL 8.6875 45.015625 \nL 0.921875 45.015625 \nL 0.921875 51.859375 \nL 8.6875 51.859375 \nL 8.6875 57.375 \nQ 8.6875 62.59375 9.625 65.140625 \nQ 10.890625 68.5625 14.078125 70.671875 \nQ 17.28125 72.796875 23.046875 72.796875 \nQ 26.765625 72.796875 31.25 71.921875 \nL 29.9375 64.265625 \nQ 27.203125 64.75 24.75 64.75 \nQ 20.75 64.75 19.09375 63.03125 \nQ 17.4375 61.328125 17.4375 56.640625 \nL 17.4375 51.859375 \nL 27.546875 51.859375 \nL 27.546875 45.015625 \nL 17.4375 45.015625 \nL 17.4375 0 \nz\n\" id=\"ArialMT-102\"/>\n       <path d=\"M 6.390625 0 \nL 6.390625 71.578125 \nL 15.1875 71.578125 \nL 15.1875 0 \nz\n\" id=\"ArialMT-108\"/>\n      </defs>\n      <g style=\"fill:#262626;\" transform=\"translate(28.865625 264.972844)scale(0.1 -0.1)\">\n       <use xlink:href=\"#ArialMT-40\"/>\n       <use x=\"33.300781\" xlink:href=\"#ArialMT-109\"/>\n       <use x=\"116.601562\" xlink:href=\"#ArialMT-97\"/>\n       <use x=\"172.216797\" xlink:href=\"#ArialMT-100\"/>\n       <use x=\"227.832031\" xlink:href=\"#ArialMT-100\"/>\n       <use x=\"283.447266\" xlink:href=\"#ArialMT-101\"/>\n       <use x=\"339.0625\" xlink:href=\"#ArialMT-110\"/>\n       <use x=\"394.677734\" xlink:href=\"#ArialMT-44\"/>\n       <use x=\"422.460938\" xlink:href=\"#ArialMT-32\"/>\n       <use x=\"450.244141\" xlink:href=\"#ArialMT-110\"/>\n       <use x=\"505.859375\" xlink:href=\"#ArialMT-102\"/>\n       <use x=\"533.642578\" xlink:href=\"#ArialMT-108\"/>\n       <use x=\"555.859375\" xlink:href=\"#ArialMT-41\"/>\n      </g>\n     </g>\n    </g>\n    <g id=\"ytick_3\">\n     <g id=\"line2d_10\">\n      <g>\n       <use style=\"fill:#262626;stroke:#262626;\" x=\"98.276563\" xlink:href=\"#m8224c90ec9\" y=\"231.435\"/>\n      </g>\n     </g>\n     <g id=\"text_10\">\n      <!-- (final, fantasy) -->\n      <defs>\n       <path d=\"M 6.640625 61.46875 \nL 6.640625 71.578125 \nL 15.4375 71.578125 \nL 15.4375 61.46875 \nz\nM 6.640625 0 \nL 6.640625 51.859375 \nL 15.4375 51.859375 \nL 15.4375 0 \nz\n\" id=\"ArialMT-105\"/>\n       <path d=\"M 6.203125 -19.96875 \nL 5.21875 -11.71875 \nQ 8.109375 -12.5 10.25 -12.5 \nQ 13.1875 -12.5 14.9375 -11.515625 \nQ 16.703125 -10.546875 17.828125 -8.796875 \nQ 18.65625 -7.46875 20.515625 -2.25 \nQ 20.75 -1.515625 21.296875 -0.09375 \nL 1.609375 51.859375 \nL 11.078125 51.859375 \nL 21.875 21.828125 \nQ 23.96875 16.109375 25.640625 9.8125 \nQ 27.15625 15.875 29.25 21.625 \nL 40.328125 51.859375 \nL 49.125 51.859375 \nL 29.390625 -0.875 \nQ 26.21875 -9.421875 24.46875 -12.640625 \nQ 22.125 -17 19.09375 -19.015625 \nQ 16.0625 -21.046875 11.859375 -21.046875 \nQ 9.328125 -21.046875 6.203125 -19.96875 \nz\n\" id=\"ArialMT-121\"/>\n      </defs>\n      <g style=\"fill:#262626;\" transform=\"translate(24.978125 235.074844)scale(0.1 -0.1)\">\n       <use xlink:href=\"#ArialMT-40\"/>\n       <use x=\"33.300781\" xlink:href=\"#ArialMT-102\"/>\n       <use x=\"61.083984\" xlink:href=\"#ArialMT-105\"/>\n       <use x=\"83.300781\" xlink:href=\"#ArialMT-110\"/>\n       <use x=\"138.916016\" xlink:href=\"#ArialMT-97\"/>\n       <use x=\"194.53125\" xlink:href=\"#ArialMT-108\"/>\n       <use x=\"216.748047\" xlink:href=\"#ArialMT-44\"/>\n       <use x=\"244.53125\" xlink:href=\"#ArialMT-32\"/>\n       <use x=\"272.314453\" xlink:href=\"#ArialMT-102\"/>\n       <use x=\"300.097656\" xlink:href=\"#ArialMT-97\"/>\n       <use x=\"355.712891\" xlink:href=\"#ArialMT-110\"/>\n       <use x=\"411.328125\" xlink:href=\"#ArialMT-116\"/>\n       <use x=\"439.111328\" xlink:href=\"#ArialMT-97\"/>\n       <use x=\"494.726562\" xlink:href=\"#ArialMT-115\"/>\n       <use x=\"544.726562\" xlink:href=\"#ArialMT-121\"/>\n       <use x=\"594.726562\" xlink:href=\"#ArialMT-41\"/>\n      </g>\n     </g>\n    </g>\n    <g id=\"ytick_4\">\n     <g id=\"line2d_11\">\n      <g>\n       <use style=\"fill:#262626;stroke:#262626;\" x=\"98.276563\" xlink:href=\"#m8224c90ec9\" y=\"201.537\"/>\n      </g>\n     </g>\n     <g id=\"text_11\">\n      <!-- (jp, sales) -->\n      <defs>\n       <path d=\"M 6.546875 61.375 \nL 6.546875 71.578125 \nL 15.328125 71.578125 \nL 15.328125 61.375 \nz\nM -4.59375 -20.125 \nL -2.9375 -12.640625 \nQ -0.296875 -13.328125 1.21875 -13.328125 \nQ 3.90625 -13.328125 5.21875 -11.546875 \nQ 6.546875 -9.765625 6.546875 -2.640625 \nL 6.546875 51.859375 \nL 15.328125 51.859375 \nL 15.328125 -2.828125 \nQ 15.328125 -12.40625 12.84375 -16.15625 \nQ 9.671875 -21.046875 2.296875 -21.046875 \nQ -1.265625 -21.046875 -4.59375 -20.125 \nz\n\" id=\"ArialMT-106\"/>\n       <path d=\"M 6.59375 -19.875 \nL 6.59375 51.859375 \nL 14.59375 51.859375 \nL 14.59375 45.125 \nQ 17.4375 49.078125 21 51.046875 \nQ 24.5625 53.03125 29.640625 53.03125 \nQ 36.28125 53.03125 41.359375 49.609375 \nQ 46.4375 46.1875 49.015625 39.953125 \nQ 51.609375 33.734375 51.609375 26.3125 \nQ 51.609375 18.359375 48.75 11.984375 \nQ 45.90625 5.609375 40.453125 2.21875 \nQ 35.015625 -1.171875 29 -1.171875 \nQ 24.609375 -1.171875 21.109375 0.6875 \nQ 17.625 2.546875 15.375 5.375 \nL 15.375 -19.875 \nz\nM 14.546875 25.640625 \nQ 14.546875 15.625 18.59375 10.84375 \nQ 22.65625 6.0625 28.421875 6.0625 \nQ 34.28125 6.0625 38.453125 11.015625 \nQ 42.625 15.96875 42.625 26.375 \nQ 42.625 36.28125 38.546875 41.203125 \nQ 34.46875 46.140625 28.8125 46.140625 \nQ 23.1875 46.140625 18.859375 40.890625 \nQ 14.546875 35.640625 14.546875 25.640625 \nz\n\" id=\"ArialMT-112\"/>\n      </defs>\n      <g style=\"fill:#262626;\" transform=\"translate(44.434375 205.176844)scale(0.1 -0.1)\">\n       <use xlink:href=\"#ArialMT-40\"/>\n       <use x=\"33.300781\" xlink:href=\"#ArialMT-106\"/>\n       <use x=\"55.517578\" xlink:href=\"#ArialMT-112\"/>\n       <use x=\"111.132812\" xlink:href=\"#ArialMT-44\"/>\n       <use x=\"138.916016\" xlink:href=\"#ArialMT-32\"/>\n       <use x=\"166.699219\" xlink:href=\"#ArialMT-115\"/>\n       <use x=\"216.699219\" xlink:href=\"#ArialMT-97\"/>\n       <use x=\"272.314453\" xlink:href=\"#ArialMT-108\"/>\n       <use x=\"294.53125\" xlink:href=\"#ArialMT-101\"/>\n       <use x=\"350.146484\" xlink:href=\"#ArialMT-115\"/>\n       <use x=\"400.146484\" xlink:href=\"#ArialMT-41\"/>\n      </g>\n     </g>\n    </g>\n    <g id=\"ytick_5\">\n     <g id=\"line2d_12\">\n      <g>\n       <use style=\"fill:#262626;stroke:#262626;\" x=\"98.276563\" xlink:href=\"#m8224c90ec9\" y=\"171.639\"/>\n      </g>\n     </g>\n     <g id=\"text_12\">\n      <!-- (pro, yakyuu) -->\n      <defs>\n       <path d=\"M 3.328125 25.921875 \nQ 3.328125 40.328125 11.328125 47.265625 \nQ 18.015625 53.03125 27.640625 53.03125 \nQ 38.328125 53.03125 45.109375 46.015625 \nQ 51.90625 39.015625 51.90625 26.65625 \nQ 51.90625 16.65625 48.90625 10.90625 \nQ 45.90625 5.171875 40.15625 2 \nQ 34.421875 -1.171875 27.640625 -1.171875 \nQ 16.75 -1.171875 10.03125 5.8125 \nQ 3.328125 12.796875 3.328125 25.921875 \nz\nM 12.359375 25.921875 \nQ 12.359375 15.96875 16.703125 11.015625 \nQ 21.046875 6.0625 27.640625 6.0625 \nQ 34.1875 6.0625 38.53125 11.03125 \nQ 42.875 16.015625 42.875 26.21875 \nQ 42.875 35.84375 38.5 40.796875 \nQ 34.125 45.75 27.640625 45.75 \nQ 21.046875 45.75 16.703125 40.8125 \nQ 12.359375 35.890625 12.359375 25.921875 \nz\n\" id=\"ArialMT-111\"/>\n       <path d=\"M 6.640625 0 \nL 6.640625 71.578125 \nL 15.4375 71.578125 \nL 15.4375 30.765625 \nL 36.234375 51.859375 \nL 47.609375 51.859375 \nL 27.78125 32.625 \nL 49.609375 0 \nL 38.765625 0 \nL 21.625 26.515625 \nL 15.4375 20.5625 \nL 15.4375 0 \nz\n\" id=\"ArialMT-107\"/>\n       <path d=\"M 40.578125 0 \nL 40.578125 7.625 \nQ 34.515625 -1.171875 24.125 -1.171875 \nQ 19.53125 -1.171875 15.546875 0.578125 \nQ 11.578125 2.34375 9.640625 5 \nQ 7.71875 7.671875 6.9375 11.53125 \nQ 6.390625 14.109375 6.390625 19.734375 \nL 6.390625 51.859375 \nL 15.1875 51.859375 \nL 15.1875 23.09375 \nQ 15.1875 16.21875 15.71875 13.8125 \nQ 16.546875 10.359375 19.234375 8.375 \nQ 21.921875 6.390625 25.875 6.390625 \nQ 29.828125 6.390625 33.296875 8.421875 \nQ 36.765625 10.453125 38.203125 13.9375 \nQ 39.65625 17.4375 39.65625 24.078125 \nL 39.65625 51.859375 \nL 48.4375 51.859375 \nL 48.4375 0 \nz\n\" id=\"ArialMT-117\"/>\n      </defs>\n      <g style=\"fill:#262626;\" transform=\"translate(29.426563 175.278844)scale(0.1 -0.1)\">\n       <use xlink:href=\"#ArialMT-40\"/>\n       <use x=\"33.300781\" xlink:href=\"#ArialMT-112\"/>\n       <use x=\"88.916016\" xlink:href=\"#ArialMT-114\"/>\n       <use x=\"122.216797\" xlink:href=\"#ArialMT-111\"/>\n       <use x=\"177.832031\" xlink:href=\"#ArialMT-44\"/>\n       <use x=\"205.615234\" xlink:href=\"#ArialMT-32\"/>\n       <use x=\"233.398438\" xlink:href=\"#ArialMT-121\"/>\n       <use x=\"283.398438\" xlink:href=\"#ArialMT-97\"/>\n       <use x=\"339.013672\" xlink:href=\"#ArialMT-107\"/>\n       <use x=\"389.013672\" xlink:href=\"#ArialMT-121\"/>\n       <use x=\"439.013672\" xlink:href=\"#ArialMT-117\"/>\n       <use x=\"494.628906\" xlink:href=\"#ArialMT-117\"/>\n       <use x=\"550.244141\" xlink:href=\"#ArialMT-41\"/>\n      </g>\n     </g>\n    </g>\n    <g id=\"ytick_6\">\n     <g id=\"line2d_13\">\n      <g>\n       <use style=\"fill:#262626;stroke:#262626;\" x=\"98.276563\" xlink:href=\"#m8224c90ec9\" y=\"141.741\"/>\n      </g>\n     </g>\n     <g id=\"text_13\">\n      <!-- (tom, clancy) -->\n      <defs>\n       <path d=\"M 40.4375 19 \nL 49.078125 17.875 \nQ 47.65625 8.9375 41.8125 3.875 \nQ 35.984375 -1.171875 27.484375 -1.171875 \nQ 16.84375 -1.171875 10.375 5.78125 \nQ 3.90625 12.75 3.90625 25.734375 \nQ 3.90625 34.125 6.6875 40.421875 \nQ 9.46875 46.734375 15.15625 49.875 \nQ 20.84375 53.03125 27.546875 53.03125 \nQ 35.984375 53.03125 41.359375 48.75 \nQ 46.734375 44.484375 48.25 36.625 \nL 39.703125 35.296875 \nQ 38.484375 40.53125 35.375 43.15625 \nQ 32.28125 45.796875 27.875 45.796875 \nQ 21.234375 45.796875 17.078125 41.03125 \nQ 12.9375 36.28125 12.9375 25.984375 \nQ 12.9375 15.53125 16.9375 10.796875 \nQ 20.953125 6.0625 27.390625 6.0625 \nQ 32.5625 6.0625 36.03125 9.234375 \nQ 39.5 12.40625 40.4375 19 \nz\n\" id=\"ArialMT-99\"/>\n      </defs>\n      <g style=\"fill:#262626;\" transform=\"translate(30.548438 145.380844)scale(0.1 -0.1)\">\n       <use xlink:href=\"#ArialMT-40\"/>\n       <use x=\"33.300781\" xlink:href=\"#ArialMT-116\"/>\n       <use x=\"61.083984\" xlink:href=\"#ArialMT-111\"/>\n       <use x=\"116.699219\" xlink:href=\"#ArialMT-109\"/>\n       <use x=\"200\" xlink:href=\"#ArialMT-44\"/>\n       <use x=\"227.783203\" xlink:href=\"#ArialMT-32\"/>\n       <use x=\"255.566406\" xlink:href=\"#ArialMT-99\"/>\n       <use x=\"305.566406\" xlink:href=\"#ArialMT-108\"/>\n       <use x=\"327.783203\" xlink:href=\"#ArialMT-97\"/>\n       <use x=\"383.398438\" xlink:href=\"#ArialMT-110\"/>\n       <use x=\"439.013672\" xlink:href=\"#ArialMT-99\"/>\n       <use x=\"489.013672\" xlink:href=\"#ArialMT-121\"/>\n       <use x=\"539.013672\" xlink:href=\"#ArialMT-41\"/>\n      </g>\n     </g>\n    </g>\n    <g id=\"ytick_7\">\n     <g id=\"line2d_14\">\n      <g>\n       <use style=\"fill:#262626;stroke:#262626;\" x=\"98.276563\" xlink:href=\"#m8224c90ec9\" y=\"111.843\"/>\n      </g>\n     </g>\n     <g id=\"text_14\">\n      <!-- (need, speed) -->\n      <g style=\"fill:#262626;\" transform=\"translate(26.073438 115.482844)scale(0.1 -0.1)\">\n       <use xlink:href=\"#ArialMT-40\"/>\n       <use x=\"33.300781\" xlink:href=\"#ArialMT-110\"/>\n       <use x=\"88.916016\" xlink:href=\"#ArialMT-101\"/>\n       <use x=\"144.53125\" xlink:href=\"#ArialMT-101\"/>\n       <use x=\"200.146484\" xlink:href=\"#ArialMT-100\"/>\n       <use x=\"255.761719\" xlink:href=\"#ArialMT-44\"/>\n       <use x=\"283.544922\" xlink:href=\"#ArialMT-32\"/>\n       <use x=\"311.328125\" xlink:href=\"#ArialMT-115\"/>\n       <use x=\"361.328125\" xlink:href=\"#ArialMT-112\"/>\n       <use x=\"416.943359\" xlink:href=\"#ArialMT-101\"/>\n       <use x=\"472.558594\" xlink:href=\"#ArialMT-101\"/>\n       <use x=\"528.173828\" xlink:href=\"#ArialMT-100\"/>\n       <use x=\"583.789062\" xlink:href=\"#ArialMT-41\"/>\n      </g>\n     </g>\n    </g>\n    <g id=\"ytick_8\">\n     <g id=\"line2d_15\">\n      <g>\n       <use style=\"fill:#262626;stroke:#262626;\" x=\"98.276563\" xlink:href=\"#m8224c90ec9\" y=\"81.945\"/>\n      </g>\n     </g>\n     <g id=\"text_15\">\n      <!-- (dragon, ball) -->\n      <defs>\n       <path d=\"M 4.984375 -4.296875 \nL 13.53125 -5.5625 \nQ 14.0625 -9.515625 16.5 -11.328125 \nQ 19.78125 -13.765625 25.4375 -13.765625 \nQ 31.546875 -13.765625 34.859375 -11.328125 \nQ 38.1875 -8.890625 39.359375 -4.5 \nQ 40.046875 -1.8125 39.984375 6.78125 \nQ 34.234375 0 25.640625 0 \nQ 14.9375 0 9.078125 7.71875 \nQ 3.21875 15.4375 3.21875 26.21875 \nQ 3.21875 33.640625 5.90625 39.90625 \nQ 8.59375 46.1875 13.6875 49.609375 \nQ 18.796875 53.03125 25.6875 53.03125 \nQ 34.859375 53.03125 40.828125 45.609375 \nL 40.828125 51.859375 \nL 48.921875 51.859375 \nL 48.921875 7.03125 \nQ 48.921875 -5.078125 46.453125 -10.125 \nQ 44 -15.1875 38.640625 -18.109375 \nQ 33.296875 -21.046875 25.484375 -21.046875 \nQ 16.21875 -21.046875 10.5 -16.875 \nQ 4.78125 -12.703125 4.984375 -4.296875 \nz\nM 12.25 26.859375 \nQ 12.25 16.65625 16.296875 11.96875 \nQ 20.359375 7.28125 26.46875 7.28125 \nQ 32.515625 7.28125 36.609375 11.9375 \nQ 40.71875 16.609375 40.71875 26.5625 \nQ 40.71875 36.078125 36.5 40.90625 \nQ 32.28125 45.75 26.3125 45.75 \nQ 20.453125 45.75 16.34375 40.984375 \nQ 12.25 36.234375 12.25 26.859375 \nz\n\" id=\"ArialMT-103\"/>\n       <path d=\"M 14.703125 0 \nL 6.546875 0 \nL 6.546875 71.578125 \nL 15.328125 71.578125 \nL 15.328125 46.046875 \nQ 20.90625 53.03125 29.546875 53.03125 \nQ 34.328125 53.03125 38.59375 51.09375 \nQ 42.875 49.171875 45.625 45.671875 \nQ 48.390625 42.1875 49.953125 37.25 \nQ 51.515625 32.328125 51.515625 26.703125 \nQ 51.515625 13.375 44.921875 6.09375 \nQ 38.328125 -1.171875 29.109375 -1.171875 \nQ 19.921875 -1.171875 14.703125 6.5 \nz\nM 14.59375 26.3125 \nQ 14.59375 17 17.140625 12.84375 \nQ 21.296875 6.0625 28.375 6.0625 \nQ 34.125 6.0625 38.328125 11.0625 \nQ 42.53125 16.0625 42.53125 25.984375 \nQ 42.53125 36.140625 38.5 40.96875 \nQ 34.46875 45.796875 28.765625 45.796875 \nQ 23 45.796875 18.796875 40.796875 \nQ 14.59375 35.796875 14.59375 26.3125 \nz\n\" id=\"ArialMT-98\"/>\n      </defs>\n      <g style=\"fill:#262626;\" transform=\"translate(28.860938 85.584844)scale(0.1 -0.1)\">\n       <use xlink:href=\"#ArialMT-40\"/>\n       <use x=\"33.300781\" xlink:href=\"#ArialMT-100\"/>\n       <use x=\"88.916016\" xlink:href=\"#ArialMT-114\"/>\n       <use x=\"122.216797\" xlink:href=\"#ArialMT-97\"/>\n       <use x=\"177.832031\" xlink:href=\"#ArialMT-103\"/>\n       <use x=\"233.447266\" xlink:href=\"#ArialMT-111\"/>\n       <use x=\"289.0625\" xlink:href=\"#ArialMT-110\"/>\n       <use x=\"344.677734\" xlink:href=\"#ArialMT-44\"/>\n       <use x=\"372.460938\" xlink:href=\"#ArialMT-32\"/>\n       <use x=\"400.244141\" xlink:href=\"#ArialMT-98\"/>\n       <use x=\"455.859375\" xlink:href=\"#ArialMT-97\"/>\n       <use x=\"511.474609\" xlink:href=\"#ArialMT-108\"/>\n       <use x=\"533.691406\" xlink:href=\"#ArialMT-108\"/>\n       <use x=\"555.908203\" xlink:href=\"#ArialMT-41\"/>\n      </g>\n     </g>\n    </g>\n    <g id=\"ytick_9\">\n     <g id=\"line2d_16\">\n      <g>\n       <use style=\"fill:#262626;stroke:#262626;\" x=\"98.276563\" xlink:href=\"#m8224c90ec9\" y=\"52.047\"/>\n      </g>\n     </g>\n     <g id=\"text_16\">\n      <!-- (fifa, soccer) -->\n      <g style=\"fill:#262626;\" transform=\"translate(32.770313 55.686844)scale(0.1 -0.1)\">\n       <use xlink:href=\"#ArialMT-40\"/>\n       <use x=\"33.300781\" xlink:href=\"#ArialMT-102\"/>\n       <use x=\"61.083984\" xlink:href=\"#ArialMT-105\"/>\n       <use x=\"83.300781\" xlink:href=\"#ArialMT-102\"/>\n       <use x=\"111.083984\" xlink:href=\"#ArialMT-97\"/>\n       <use x=\"166.699219\" xlink:href=\"#ArialMT-44\"/>\n       <use x=\"194.482422\" xlink:href=\"#ArialMT-32\"/>\n       <use x=\"222.265625\" xlink:href=\"#ArialMT-115\"/>\n       <use x=\"272.265625\" xlink:href=\"#ArialMT-111\"/>\n       <use x=\"327.880859\" xlink:href=\"#ArialMT-99\"/>\n       <use x=\"377.880859\" xlink:href=\"#ArialMT-99\"/>\n       <use x=\"427.880859\" xlink:href=\"#ArialMT-101\"/>\n       <use x=\"483.496094\" xlink:href=\"#ArialMT-114\"/>\n       <use x=\"516.796875\" xlink:href=\"#ArialMT-41\"/>\n      </g>\n     </g>\n    </g>\n    <g id=\"ytick_10\">\n     <g id=\"line2d_17\">\n      <g>\n       <use style=\"fill:#262626;stroke:#262626;\" x=\"98.276563\" xlink:href=\"#m8224c90ec9\" y=\"22.149\"/>\n      </g>\n     </g>\n     <g id=\"text_17\">\n      <!-- (jikkyou, powerful) -->\n      <g style=\"fill:#262626;\" transform=\"translate(7.2 25.788844)scale(0.1 -0.1)\">\n       <use xlink:href=\"#ArialMT-40\"/>\n       <use x=\"33.300781\" xlink:href=\"#ArialMT-106\"/>\n       <use x=\"55.517578\" xlink:href=\"#ArialMT-105\"/>\n       <use x=\"77.734375\" xlink:href=\"#ArialMT-107\"/>\n       <use x=\"127.734375\" xlink:href=\"#ArialMT-107\"/>\n       <use x=\"177.734375\" xlink:href=\"#ArialMT-121\"/>\n       <use x=\"227.734375\" xlink:href=\"#ArialMT-111\"/>\n       <use x=\"283.349609\" xlink:href=\"#ArialMT-117\"/>\n       <use x=\"338.964844\" xlink:href=\"#ArialMT-44\"/>\n       <use x=\"366.748047\" xlink:href=\"#ArialMT-32\"/>\n       <use x=\"394.53125\" xlink:href=\"#ArialMT-112\"/>\n       <use x=\"450.146484\" xlink:href=\"#ArialMT-111\"/>\n       <use x=\"505.761719\" xlink:href=\"#ArialMT-119\"/>\n       <use x=\"577.978516\" xlink:href=\"#ArialMT-101\"/>\n       <use x=\"633.59375\" xlink:href=\"#ArialMT-114\"/>\n       <use x=\"666.894531\" xlink:href=\"#ArialMT-102\"/>\n       <use x=\"694.677734\" xlink:href=\"#ArialMT-117\"/>\n       <use x=\"750.292969\" xlink:href=\"#ArialMT-108\"/>\n       <use x=\"772.509766\" xlink:href=\"#ArialMT-41\"/>\n      </g>\n     </g>\n    </g>\n   </g>\n   <g id=\"patch_3\">\n    <path clip-path=\"url(#pc61b8e4b7c)\" d=\"M 98.276563 298.7055 \nL 523.41942 298.7055 \nL 523.41942 283.7565 \nL 98.276563 283.7565 \nz\n\" style=\"fill:#1f77b4;stroke:#ffffff;stroke-linejoin:miter;stroke-width:0.3;\"/>\n   </g>\n   <g id=\"patch_4\">\n    <path clip-path=\"url(#pc61b8e4b7c)\" d=\"M 98.276563 268.8075 \nL 430.095378 268.8075 \nL 430.095378 253.8585 \nL 98.276563 253.8585 \nz\n\" style=\"fill:#1f77b4;stroke:#ffffff;stroke-linejoin:miter;stroke-width:0.3;\"/>\n   </g>\n   <g id=\"patch_5\">\n    <path clip-path=\"url(#pc61b8e4b7c)\" d=\"M 98.276563 238.9095 \nL 412.813148 238.9095 \nL 412.813148 223.9605 \nL 98.276563 223.9605 \nz\n\" style=\"fill:#1f77b4;stroke:#ffffff;stroke-linejoin:miter;stroke-width:0.3;\"/>\n   </g>\n   <g id=\"patch_6\">\n    <path clip-path=\"url(#pc61b8e4b7c)\" d=\"M 98.276563 209.0115 \nL 402.44381 209.0115 \nL 402.44381 194.0625 \nL 98.276563 194.0625 \nz\n\" style=\"fill:#1f77b4;stroke:#ffffff;stroke-linejoin:miter;stroke-width:0.3;\"/>\n   </g>\n   <g id=\"patch_7\">\n    <path clip-path=\"url(#pc61b8e4b7c)\" d=\"M 98.276563 179.1135 \nL 402.44381 179.1135 \nL 402.44381 164.1645 \nL 98.276563 164.1645 \nz\n\" style=\"fill:#1f77b4;stroke:#ffffff;stroke-linejoin:miter;stroke-width:0.3;\"/>\n   </g>\n   <g id=\"patch_8\">\n    <path clip-path=\"url(#pc61b8e4b7c)\" d=\"M 98.276563 149.2155 \nL 392.074472 149.2155 \nL 392.074472 134.2665 \nL 98.276563 134.2665 \nz\n\" style=\"fill:#1f77b4;stroke:#ffffff;stroke-linejoin:miter;stroke-width:0.3;\"/>\n   </g>\n   <g id=\"patch_9\">\n    <path clip-path=\"url(#pc61b8e4b7c)\" d=\"M 98.276563 119.3175 \nL 385.16158 119.3175 \nL 385.16158 104.3685 \nL 98.276563 104.3685 \nz\n\" style=\"fill:#1f77b4;stroke:#ffffff;stroke-linejoin:miter;stroke-width:0.3;\"/>\n   </g>\n   <g id=\"patch_10\">\n    <path clip-path=\"url(#pc61b8e4b7c)\" d=\"M 98.276563 89.4195 \nL 360.966458 89.4195 \nL 360.966458 74.4705 \nL 98.276563 74.4705 \nz\n\" style=\"fill:#1f77b4;stroke:#ffffff;stroke-linejoin:miter;stroke-width:0.3;\"/>\n   </g>\n   <g id=\"patch_11\">\n    <path clip-path=\"url(#pc61b8e4b7c)\" d=\"M 98.276563 59.5215 \nL 340.227782 59.5215 \nL 340.227782 44.5725 \nL 98.276563 44.5725 \nz\n\" style=\"fill:#1f77b4;stroke:#ffffff;stroke-linejoin:miter;stroke-width:0.3;\"/>\n   </g>\n   <g id=\"patch_12\">\n    <path clip-path=\"url(#pc61b8e4b7c)\" d=\"M 98.276563 29.6235 \nL 340.227782 29.6235 \nL 340.227782 14.6745 \nL 98.276563 14.6745 \nz\n\" style=\"fill:#1f77b4;stroke:#ffffff;stroke-linejoin:miter;stroke-width:0.3;\"/>\n   </g>\n   <g id=\"patch_13\">\n    <path d=\"M 98.276563 306.18 \nL 98.276563 7.2 \n\" style=\"fill:none;\"/>\n   </g>\n   <g id=\"patch_14\">\n    <path d=\"M 544.676562 306.18 \nL 544.676562 7.2 \n\" style=\"fill:none;\"/>\n   </g>\n   <g id=\"patch_15\">\n    <path d=\"M 98.276563 306.18 \nL 544.676563 306.18 \n\" style=\"fill:none;\"/>\n   </g>\n   <g id=\"patch_16\">\n    <path d=\"M 98.276563 7.2 \nL 544.676563 7.2 \n\" style=\"fill:none;\"/>\n   </g>\n  </g>\n </g>\n <defs>\n  <clipPath id=\"pc61b8e4b7c\">\n   <rect height=\"298.98\" width=\"446.4\" x=\"98.276563\" y=\"7.2\"/>\n  </clipPath>\n </defs>\n</svg>\n",
      "image/png": "[encoded data removed]"
     },
     "metadata": {}
    }
   ],
   "source": [
    "pd.Series(grams).value_counts().head(10).plot(kind='barh')"
   ]
  },
  {
   "cell_type": "code",
   "execution_count": 47,
   "metadata": {},
   "outputs": [],
   "source": [
    "top_grams = pd.Series(grams).value_counts().head(1000)"
   ]
  },
  {
   "cell_type": "code",
   "execution_count": 49,
   "metadata": {
    "tags": []
   },
   "outputs": [
    {
     "output_type": "execute_result",
     "data": {
      "text/plain": [
       "(star, wars)           123\n",
       "(madden, nfl)           96\n",
       "(final, fantasy)        91\n",
       "(jp, sales)             88\n",
       "(pro, yakyuu)           88\n",
       "                      ... \n",
       "(n, music)               6\n",
       "(summer, athletics)      6\n",
       "(episode, iii)           6\n",
       "(urbz, sims)             6\n",
       "(diabolik, lovers)       6\n",
       "Length: 1000, dtype: int64"
      ]
     },
     "metadata": {},
     "execution_count": 49
    }
   ],
   "source": [
    "top_grams"
   ]
  },
  {
   "cell_type": "code",
   "execution_count": 56,
   "metadata": {},
   "outputs": [
    {
     "output_type": "execute_result",
     "data": {
      "text/plain": [
       "                                        Name Platform  Year_of_Release  \\\n",
       "664                         Dynasty Warriors       PS           1997.0   \n",
       "1120                      Dynasty Warriors 2      PS2           2000.0   \n",
       "1262                      Dynasty Warriors 3      PS2           2001.0   \n",
       "1487      Dynasty Warriors 3: Xtreme Legends      PS2           2002.0   \n",
       "1523                      Dynasty Warriors 3       XB           2002.0   \n",
       "1856                      Dynasty Warriors 4      PS2           2003.0   \n",
       "1864      Dynasty Warriors 4: Xtreme Legends      PS2           2003.0   \n",
       "1893                      Dynasty Warriors 4       XB           2003.0   \n",
       "2288                        Dynasty Warriors      PSP           2004.0   \n",
       "2298              Dynasty Warriors 4 Empires      PS2           2004.0   \n",
       "2685                      Dynasty Warriors 5      PS2           2005.0   \n",
       "2694      Dynasty Warriors 5: Xtreme Legends      PS2           2005.0   \n",
       "2743                Dynasty Warriors Advance      GBA           2005.0   \n",
       "2761                      Dynasty Warriors 5       XB           2005.0   \n",
       "3175              Dynasty Warriors 5 Empires      PS2           2006.0   \n",
       "3196              Dynasty Warriors 5 Empires     X360           2006.0   \n",
       "3221                 Dynasty Warriors Vol. 2      PSP           2006.0   \n",
       "3228      Dynasty Warriors Vol. 2 (JP sales)      PSP           2006.0   \n",
       "3681                      Dynasty Warriors 6      PS3           2007.0   \n",
       "3694                 Dynasty Warriors Gundam      PS3           2007.0   \n",
       "3715                      Dynasty Warriors 6     X360           2007.0   \n",
       "3751   Dynasty Warriors DS: Fighter's Battle       DS           2007.0   \n",
       "4354           Dynasty Warriors 6 (JP sales)      PS2           2008.0   \n",
       "4356                      Dynasty Warriors 6      PS2           2008.0   \n",
       "5061              Dynasty Warriors 6 Empires      PS3           2009.0   \n",
       "5068           Dynasty Warriors: Strikeforce      PS3           2009.0   \n",
       "5075              Dynasty Warriors 6 Empires     X360           2009.0   \n",
       "5077           Dynasty Warriors: Strikeforce     X360           2009.0   \n",
       "5747              Dynasty Warriors: Gundam 3      PS3           2010.0   \n",
       "5785              Dynasty Warriors: Gundam 3     X360           2010.0   \n",
       "6376                      Dynasty Warriors 7      PS3           2011.0   \n",
       "6401      Dynasty Warriors 7: Xtreme Legends      PS3           2011.0   \n",
       "6405                   Dynasty Warriors Next      PSV           2011.0   \n",
       "6406                      Dynasty Warriors 7     X360           2011.0   \n",
       "7254                      Dynasty Warriors 8      PS3           2013.0   \n",
       "7269         Dynasty Warriors: Gundam Reborn      PS3           2013.0   \n",
       "7278      Dynasty Warriors 8: Xtreme Legends      PS3           2013.0   \n",
       "7279                      Dynasty Warriors 8     X360           2013.0   \n",
       "7283      Dynasty Warriors 8: Xtreme Legends      PSV           2013.0   \n",
       "7552      Dynasty Warriors 8: Xtreme Legends      PS4           2014.0   \n",
       "7571             Dynasty Warriors 8: Empires      PS4           2014.0   \n",
       "7586             Dynasty Warriors 8: Empires      PS3           2014.0   \n",
       "7589             Dynasty Warriors 8: Empires     XOne           2014.0   \n",
       "7898             Dynasty Warriors 8: Empires      PSV           2015.0   \n",
       "8173            Dynasty Warriors: Eiketsuden      PS4           2016.0   \n",
       "8187            Dynasty Warriors: Eiketsuden      PSV           2016.0   \n",
       "8194            Dynasty Warriors: Eiketsuden      PS3           2016.0   \n",
       "12140                Dynasty Warriors Gundam     X360           2007.0   \n",
       "12688             Dynasty Warriors: Gundam 2      PS3           2008.0   \n",
       "12694             Dynasty Warriors: Gundam 2      PS2           2008.0   \n",
       "12696               Dynasty Warriors: Gundam      PS2           2008.0   \n",
       "12704             Dynasty Warriors: Gundam 2     X360           2008.0   \n",
       "13392          Dynasty Warriors: Strikeforce      PSP           2009.0   \n",
       "15339            Dynasty Warriors 7: Empires      PS3           2012.0   \n",
       "15366                    Dynasty Warriors Vs      3DS           2012.0   \n",
       "15651        Dynasty Warriors: Gundam Reborn      PSV           2013.0   \n",
       "\n",
       "        Genre           Publisher  NA_Sales  EU_Sales  JP_Sales  Other_Sales  \\\n",
       "664    Action          Tecmo Koei       9.0       6.0      11.0          2.0   \n",
       "1120   Action                 THQ      24.0      19.0      34.0          6.0   \n",
       "1262   Action                 THQ      53.0      16.0     107.0         10.0   \n",
       "1487   Action          Tecmo Koei      13.0      10.0      74.0          3.0   \n",
       "1523   Action                 THQ       6.0       2.0       0.0          0.0   \n",
       "1856   Action          Tecmo Koei      63.0      21.0     112.0         13.0   \n",
       "1864   Action          Tecmo Koei      17.0      13.0      51.0          4.0   \n",
       "1893   Action          Tecmo Koei      12.0       3.0       0.0          1.0   \n",
       "2288   Action          Tecmo Koei      18.0       0.0      30.0          2.0   \n",
       "2298   Action          Tecmo Koei       0.0       0.0      32.0          0.0   \n",
       "2685   Action          Tecmo Koei      24.0      18.0      91.0          6.0   \n",
       "2694   Action          Tecmo Koei      11.0       8.0      35.0          3.0   \n",
       "2743   Action            Nintendo       8.0       3.0       0.0          0.0   \n",
       "2761   Action          Tecmo Koei       4.0       1.0       0.0          0.0   \n",
       "3175   Action          Tecmo Koei      11.0       9.0      12.0          3.0   \n",
       "3196   Action          Tecmo Koei      11.0       1.0       0.0          1.0   \n",
       "3221   Action          Tecmo Koei       4.0       0.0       0.0          0.0   \n",
       "3228   Action          Tecmo Koei       0.0       0.0       4.0          0.0   \n",
       "3681   Action          Tecmo Koei      18.0       7.0      41.0          4.0   \n",
       "3694   Action          Tecmo Koei      14.0       1.0      31.0          2.0   \n",
       "3715   Action          Tecmo Koei      15.0       6.0       6.0          2.0   \n",
       "3751   Action          Tecmo Koei       4.0       0.0       3.0          0.0   \n",
       "4354   Action          Tecmo Koei       0.0       0.0      25.0          0.0   \n",
       "4356   Action          Tecmo Koei      12.0       9.0       0.0          3.0   \n",
       "5061   Action          Tecmo Koei      14.0       3.0      15.0          2.0   \n",
       "5068   Action          Tecmo Koei      11.0       7.0       7.0          3.0   \n",
       "5075   Action          Tecmo Koei      16.0       1.0       4.0          2.0   \n",
       "5077   Action          Tecmo Koei      13.0       6.0       2.0          2.0   \n",
       "5747   Action          Tecmo Koei      11.0       4.0      36.0          2.0   \n",
       "5785   Action          Tecmo Koei      11.0       3.0       2.0          1.0   \n",
       "6376   Action          Tecmo Koei      25.0      13.0      46.0          6.0   \n",
       "6401   Action          Tecmo Koei       4.0       4.0      16.0          2.0   \n",
       "6405   Action          Tecmo Koei       5.0       6.0      11.0          2.0   \n",
       "6406   Action          Tecmo Koei      16.0       6.0       0.0          2.0   \n",
       "7254   Action          Tecmo Koei      12.0      10.0      34.0          5.0   \n",
       "7269   Action          Tecmo Koei       0.0       0.0      23.0          0.0   \n",
       "7278   Action          Tecmo Koei       2.0       2.0      11.0          1.0   \n",
       "7279   Action          Tecmo Koei       9.0       5.0       0.0          1.0   \n",
       "7283   Action          Tecmo Koei       3.0       2.0       5.0          2.0   \n",
       "7552   Action          Tecmo Koei       9.0      11.0       6.0          4.0   \n",
       "7571   Action          Tecmo Koei       6.0       7.0       3.0          3.0   \n",
       "7586   Action          Tecmo Koei       0.0       0.0       9.0          0.0   \n",
       "7589   Action          Tecmo Koei       4.0       2.0       0.0          1.0   \n",
       "7898   Action          Tecmo Koei       0.0       0.0       2.0          0.0   \n",
       "8173   Action          Tecmo Koei       0.0       0.0       2.0          0.0   \n",
       "8187   Action          Tecmo Koei       0.0       0.0       1.0          0.0   \n",
       "8194   Action          Tecmo Koei       0.0       0.0       1.0          0.0   \n",
       "12140  Action  Namco Bandai Games       NaN       NaN       NaN          NaN   \n",
       "12688  Action  Namco Bandai Games       NaN       NaN       NaN          NaN   \n",
       "12694  Action  Namco Bandai Games       NaN       NaN       NaN          NaN   \n",
       "12696  Action  Namco Bandai Games       NaN       NaN       NaN          NaN   \n",
       "12704  Action  Namco Bandai Games       NaN       NaN       NaN          NaN   \n",
       "13392  Action      Ubisoft Annecy       NaN       NaN       NaN          NaN   \n",
       "15339  Action      Ubisoft Annecy       NaN       NaN       NaN          NaN   \n",
       "15366  Action         Ackkstudios       NaN       NaN       NaN          NaN   \n",
       "15651  Action  Namco Bandai Games       NaN       NaN       NaN          NaN   \n",
       "\n",
       "       Global_Sales  Critic_Score  Critic_Count User_Score  User_Count  \\\n",
       "664            27.0           NaN           NaN        NaN         NaN   \n",
       "1120           83.0          75.0          17.0        8.8        24.0   \n",
       "1262          187.0          78.0          17.0        9.1        90.0   \n",
       "1487          100.0          72.0          16.0        9.3        54.0   \n",
       "1523            8.0          70.0          11.0        8.9        20.0   \n",
       "1856          211.0          78.0          24.0        9.3       201.0   \n",
       "1864           86.0          72.0          15.0        9.1        39.0   \n",
       "1893           16.0          75.0          18.0        8.8        18.0   \n",
       "2288           51.0          62.0          26.0        7.3        24.0   \n",
       "2298           32.0          71.0          29.0        8.8        19.0   \n",
       "2685          139.0          69.0          29.0        8.8        68.0   \n",
       "2694           56.0          57.0          22.0        9.1        26.0   \n",
       "2743           11.0          56.0          22.0        tbd         NaN   \n",
       "2761            5.0          66.0          22.0          8         4.0   \n",
       "3175           34.0          62.0          23.0        9.1        24.0   \n",
       "3196           13.0          61.0          40.0        8.2        19.0   \n",
       "3221            5.0          57.0          28.0        8.1         8.0   \n",
       "3228            4.0           NaN           NaN        NaN         NaN   \n",
       "3681           71.0          59.0          31.0        7.3        49.0   \n",
       "3694           47.0          60.0          29.0        6.9        16.0   \n",
       "3715           30.0          60.0          42.0        7.4        22.0   \n",
       "3751            7.0          56.0          17.0        tbd         NaN   \n",
       "4354           25.0           NaN           NaN        NaN         NaN   \n",
       "4356           25.0          43.0           7.0        5.4        14.0   \n",
       "5061           34.0          62.0          22.0          7        26.0   \n",
       "5068           28.0          64.0          27.0        7.3        15.0   \n",
       "5075           24.0          59.0          24.0        7.3        28.0   \n",
       "5077           23.0          59.0          18.0        5.7        12.0   \n",
       "5747           54.0          58.0          18.0        7.5        20.0   \n",
       "5785           18.0          65.0          27.0        7.8        20.0   \n",
       "6376           91.0          57.0          25.0        7.4        57.0   \n",
       "6401           26.0          64.0          11.0        7.8         9.0   \n",
       "6405           24.0          67.0          35.0        7.5        73.0   \n",
       "6406           24.0          58.0          22.0          8        46.0   \n",
       "7254           60.0          68.0          26.0        8.5        75.0   \n",
       "7269           23.0          64.0          35.0        7.5        25.0   \n",
       "7278           16.0          68.0           4.0        6.8         9.0   \n",
       "7279           15.0          65.0          21.0        7.5        35.0   \n",
       "7283           12.0           NaN           NaN        NaN         NaN   \n",
       "7552           30.0           NaN           NaN        NaN         NaN   \n",
       "7571           19.0          63.0          30.0        7.5        42.0   \n",
       "7586            9.0           NaN           NaN        tbd         NaN   \n",
       "7589            7.0          58.0          10.0        6.8        15.0   \n",
       "7898            2.0          70.0          15.0        7.4         9.0   \n",
       "8173            2.0           NaN           NaN        NaN         NaN   \n",
       "8187            1.0           NaN           NaN        NaN         NaN   \n",
       "8194            1.0           NaN           NaN        NaN         NaN   \n",
       "12140           NaN          55.0          34.0        6.8        20.0   \n",
       "12688           NaN          54.0          22.0          7        28.0   \n",
       "12694           NaN          52.0           8.0        6.5         8.0   \n",
       "12696           NaN           NaN           NaN        NaN         NaN   \n",
       "12704           NaN          49.0          30.0          7        18.0   \n",
       "13392           NaN          65.0          28.0        6.8        10.0   \n",
       "15339           NaN          63.0          20.0          8        22.0   \n",
       "15366           NaN           NaN           NaN        NaN         NaN   \n",
       "15651           NaN           NaN           NaN        NaN         NaN   \n",
       "\n",
       "                           Developer Rating  \n",
       "664                              NaN    NaN  \n",
       "1120                     Omega Force      T  \n",
       "1262                     Omega Force      T  \n",
       "1487                     Omega Force      T  \n",
       "1523                     Omega Force      T  \n",
       "1856                     Omega Force      T  \n",
       "1864                     Omega Force      T  \n",
       "1893                     Omega Force      T  \n",
       "2288                            Koei      T  \n",
       "2298                     Omega Force      T  \n",
       "2685                     Omega Force      T  \n",
       "2694                     Omega Force      T  \n",
       "2743                            Koei      E  \n",
       "2761                     Omega Force      T  \n",
       "3175                     Omega Force      T  \n",
       "3196                     Omega Force      T  \n",
       "3221                     Omega Force      T  \n",
       "3228                             NaN    NaN  \n",
       "3681               Koei, Omega Force      T  \n",
       "3694               Koei, Omega Force      T  \n",
       "3715                     Omega Force      T  \n",
       "3751                            Koei   E10+  \n",
       "4354                             NaN    NaN  \n",
       "4356               Koei, Omega Force      T  \n",
       "5061                     Omega Force      T  \n",
       "5068                     Omega Force      T  \n",
       "5075                     Omega Force      T  \n",
       "5077                     Omega Force      T  \n",
       "5747   Omega Force, Koei Tecmo Games      T  \n",
       "5785                Koei Tecmo Games      T  \n",
       "6376                     Omega Force      T  \n",
       "6401                     Omega Force      T  \n",
       "6405                            Koei      T  \n",
       "6406                     Omega Force      T  \n",
       "7254                     Omega Force      T  \n",
       "7269                     Omega Force      T  \n",
       "7278                     Omega Force      T  \n",
       "7279                     Omega Force      T  \n",
       "7283                             NaN    NaN  \n",
       "7552                             NaN    NaN  \n",
       "7571                     Omega Force      T  \n",
       "7586                Koei Tecmo Games      T  \n",
       "7589                Koei Tecmo Games      T  \n",
       "7898                     Omega Force      T  \n",
       "8173                             NaN    NaN  \n",
       "8187                             NaN    NaN  \n",
       "8194                             NaN    NaN  \n",
       "12140              Koei, Omega Force      T  \n",
       "12688                    Omega Force      T  \n",
       "12694                    Omega Force      T  \n",
       "12696                            NaN    NaN  \n",
       "12704                    Omega Force      T  \n",
       "13392                    Omega Force      T  \n",
       "15339                    Omega Force      T  \n",
       "15366                           Koei    NaN  \n",
       "15651                            NaN    NaN  "
      ],
      "text/html": "<div>\n<style scoped>\n    .dataframe tbody tr th:only-of-type {\n        vertical-align: middle;\n    }\n\n    .dataframe tbody tr th {\n        vertical-align: top;\n    }\n\n    .dataframe thead th {\n        text-align: right;\n    }\n</style>\n<table border=\"1\" class=\"dataframe\">\n  <thead>\n    <tr style=\"text-align: right;\">\n      <th></th>\n      <th>Name</th>\n      <th>Platform</th>\n      <th>Year_of_Release</th>\n      <th>Genre</th>\n      <th>Publisher</th>\n      <th>NA_Sales</th>\n      <th>EU_Sales</th>\n      <th>JP_Sales</th>\n      <th>Other_Sales</th>\n      <th>Global_Sales</th>\n      <th>Critic_Score</th>\n      <th>Critic_Count</th>\n      <th>User_Score</th>\n      <th>User_Count</th>\n      <th>Developer</th>\n      <th>Rating</th>\n    </tr>\n  </thead>\n  <tbody>\n    <tr>\n      <th>664</th>\n      <td>Dynasty Warriors</td>\n      <td>PS</td>\n      <td>1997.0</td>\n      <td>Action</td>\n      <td>Tecmo Koei</td>\n      <td>9.0</td>\n      <td>6.0</td>\n      <td>11.0</td>\n      <td>2.0</td>\n      <td>27.0</td>\n      <td>NaN</td>\n      <td>NaN</td>\n      <td>NaN</td>\n      <td>NaN</td>\n      <td>NaN</td>\n      <td>NaN</td>\n    </tr>\n    <tr>\n      <th>1120</th>\n      <td>Dynasty Warriors 2</td>\n      <td>PS2</td>\n      <td>2000.0</td>\n      <td>Action</td>\n      <td>THQ</td>\n      <td>24.0</td>\n      <td>19.0</td>\n      <td>34.0</td>\n      <td>6.0</td>\n      <td>83.0</td>\n      <td>75.0</td>\n      <td>17.0</td>\n      <td>8.8</td>\n      <td>24.0</td>\n      <td>Omega Force</td>\n      <td>T</td>\n    </tr>\n    <tr>\n      <th>1262</th>\n      <td>Dynasty Warriors 3</td>\n      <td>PS2</td>\n      <td>2001.0</td>\n      <td>Action</td>\n      <td>THQ</td>\n      <td>53.0</td>\n      <td>16.0</td>\n      <td>107.0</td>\n      <td>10.0</td>\n      <td>187.0</td>\n      <td>78.0</td>\n      <td>17.0</td>\n      <td>9.1</td>\n      <td>90.0</td>\n      <td>Omega Force</td>\n      <td>T</td>\n    </tr>\n    <tr>\n      <th>1487</th>\n      <td>Dynasty Warriors 3: Xtreme Legends</td>\n      <td>PS2</td>\n      <td>2002.0</td>\n      <td>Action</td>\n      <td>Tecmo Koei</td>\n      <td>13.0</td>\n      <td>10.0</td>\n      <td>74.0</td>\n      <td>3.0</td>\n      <td>100.0</td>\n      <td>72.0</td>\n      <td>16.0</td>\n      <td>9.3</td>\n      <td>54.0</td>\n      <td>Omega Force</td>\n      <td>T</td>\n    </tr>\n    <tr>\n      <th>1523</th>\n      <td>Dynasty Warriors 3</td>\n      <td>XB</td>\n      <td>2002.0</td>\n      <td>Action</td>\n      <td>THQ</td>\n      <td>6.0</td>\n      <td>2.0</td>\n      <td>0.0</td>\n      <td>0.0</td>\n      <td>8.0</td>\n      <td>70.0</td>\n      <td>11.0</td>\n      <td>8.9</td>\n      <td>20.0</td>\n      <td>Omega Force</td>\n      <td>T</td>\n    </tr>\n    <tr>\n      <th>1856</th>\n      <td>Dynasty Warriors 4</td>\n      <td>PS2</td>\n      <td>2003.0</td>\n      <td>Action</td>\n      <td>Tecmo Koei</td>\n      <td>63.0</td>\n      <td>21.0</td>\n      <td>112.0</td>\n      <td>13.0</td>\n      <td>211.0</td>\n      <td>78.0</td>\n      <td>24.0</td>\n      <td>9.3</td>\n      <td>201.0</td>\n      <td>Omega Force</td>\n      <td>T</td>\n    </tr>\n    <tr>\n      <th>1864</th>\n      <td>Dynasty Warriors 4: Xtreme Legends</td>\n      <td>PS2</td>\n      <td>2003.0</td>\n      <td>Action</td>\n      <td>Tecmo Koei</td>\n      <td>17.0</td>\n      <td>13.0</td>\n      <td>51.0</td>\n      <td>4.0</td>\n      <td>86.0</td>\n      <td>72.0</td>\n      <td>15.0</td>\n      <td>9.1</td>\n      <td>39.0</td>\n      <td>Omega Force</td>\n      <td>T</td>\n    </tr>\n    <tr>\n      <th>1893</th>\n      <td>Dynasty Warriors 4</td>\n      <td>XB</td>\n      <td>2003.0</td>\n      <td>Action</td>\n      <td>Tecmo Koei</td>\n      <td>12.0</td>\n      <td>3.0</td>\n      <td>0.0</td>\n      <td>1.0</td>\n      <td>16.0</td>\n      <td>75.0</td>\n      <td>18.0</td>\n      <td>8.8</td>\n      <td>18.0</td>\n      <td>Omega Force</td>\n      <td>T</td>\n    </tr>\n    <tr>\n      <th>2288</th>\n      <td>Dynasty Warriors</td>\n      <td>PSP</td>\n      <td>2004.0</td>\n      <td>Action</td>\n      <td>Tecmo Koei</td>\n      <td>18.0</td>\n      <td>0.0</td>\n      <td>30.0</td>\n      <td>2.0</td>\n      <td>51.0</td>\n      <td>62.0</td>\n      <td>26.0</td>\n      <td>7.3</td>\n      <td>24.0</td>\n      <td>Koei</td>\n      <td>T</td>\n    </tr>\n    <tr>\n      <th>2298</th>\n      <td>Dynasty Warriors 4 Empires</td>\n      <td>PS2</td>\n      <td>2004.0</td>\n      <td>Action</td>\n      <td>Tecmo Koei</td>\n      <td>0.0</td>\n      <td>0.0</td>\n      <td>32.0</td>\n      <td>0.0</td>\n      <td>32.0</td>\n      <td>71.0</td>\n      <td>29.0</td>\n      <td>8.8</td>\n      <td>19.0</td>\n      <td>Omega Force</td>\n      <td>T</td>\n    </tr>\n    <tr>\n      <th>2685</th>\n      <td>Dynasty Warriors 5</td>\n      <td>PS2</td>\n      <td>2005.0</td>\n      <td>Action</td>\n      <td>Tecmo Koei</td>\n      <td>24.0</td>\n      <td>18.0</td>\n      <td>91.0</td>\n      <td>6.0</td>\n      <td>139.0</td>\n      <td>69.0</td>\n      <td>29.0</td>\n      <td>8.8</td>\n      <td>68.0</td>\n      <td>Omega Force</td>\n      <td>T</td>\n    </tr>\n    <tr>\n      <th>2694</th>\n      <td>Dynasty Warriors 5: Xtreme Legends</td>\n      <td>PS2</td>\n      <td>2005.0</td>\n      <td>Action</td>\n      <td>Tecmo Koei</td>\n      <td>11.0</td>\n      <td>8.0</td>\n      <td>35.0</td>\n      <td>3.0</td>\n      <td>56.0</td>\n      <td>57.0</td>\n      <td>22.0</td>\n      <td>9.1</td>\n      <td>26.0</td>\n      <td>Omega Force</td>\n      <td>T</td>\n    </tr>\n    <tr>\n      <th>2743</th>\n      <td>Dynasty Warriors Advance</td>\n      <td>GBA</td>\n      <td>2005.0</td>\n      <td>Action</td>\n      <td>Nintendo</td>\n      <td>8.0</td>\n      <td>3.0</td>\n      <td>0.0</td>\n      <td>0.0</td>\n      <td>11.0</td>\n      <td>56.0</td>\n      <td>22.0</td>\n      <td>tbd</td>\n      <td>NaN</td>\n      <td>Koei</td>\n      <td>E</td>\n    </tr>\n    <tr>\n      <th>2761</th>\n      <td>Dynasty Warriors 5</td>\n      <td>XB</td>\n      <td>2005.0</td>\n      <td>Action</td>\n      <td>Tecmo Koei</td>\n      <td>4.0</td>\n      <td>1.0</td>\n      <td>0.0</td>\n      <td>0.0</td>\n      <td>5.0</td>\n      <td>66.0</td>\n      <td>22.0</td>\n      <td>8</td>\n      <td>4.0</td>\n      <td>Omega Force</td>\n      <td>T</td>\n    </tr>\n    <tr>\n      <th>3175</th>\n      <td>Dynasty Warriors 5 Empires</td>\n      <td>PS2</td>\n      <td>2006.0</td>\n      <td>Action</td>\n      <td>Tecmo Koei</td>\n      <td>11.0</td>\n      <td>9.0</td>\n      <td>12.0</td>\n      <td>3.0</td>\n      <td>34.0</td>\n      <td>62.0</td>\n      <td>23.0</td>\n      <td>9.1</td>\n      <td>24.0</td>\n      <td>Omega Force</td>\n      <td>T</td>\n    </tr>\n    <tr>\n      <th>3196</th>\n      <td>Dynasty Warriors 5 Empires</td>\n      <td>X360</td>\n      <td>2006.0</td>\n      <td>Action</td>\n      <td>Tecmo Koei</td>\n      <td>11.0</td>\n      <td>1.0</td>\n      <td>0.0</td>\n      <td>1.0</td>\n      <td>13.0</td>\n      <td>61.0</td>\n      <td>40.0</td>\n      <td>8.2</td>\n      <td>19.0</td>\n      <td>Omega Force</td>\n      <td>T</td>\n    </tr>\n    <tr>\n      <th>3221</th>\n      <td>Dynasty Warriors Vol. 2</td>\n      <td>PSP</td>\n      <td>2006.0</td>\n      <td>Action</td>\n      <td>Tecmo Koei</td>\n      <td>4.0</td>\n      <td>0.0</td>\n      <td>0.0</td>\n      <td>0.0</td>\n      <td>5.0</td>\n      <td>57.0</td>\n      <td>28.0</td>\n      <td>8.1</td>\n      <td>8.0</td>\n      <td>Omega Force</td>\n      <td>T</td>\n    </tr>\n    <tr>\n      <th>3228</th>\n      <td>Dynasty Warriors Vol. 2 (JP sales)</td>\n      <td>PSP</td>\n      <td>2006.0</td>\n      <td>Action</td>\n      <td>Tecmo Koei</td>\n      <td>0.0</td>\n      <td>0.0</td>\n      <td>4.0</td>\n      <td>0.0</td>\n      <td>4.0</td>\n      <td>NaN</td>\n      <td>NaN</td>\n      <td>NaN</td>\n      <td>NaN</td>\n      <td>NaN</td>\n      <td>NaN</td>\n    </tr>\n    <tr>\n      <th>3681</th>\n      <td>Dynasty Warriors 6</td>\n      <td>PS3</td>\n      <td>2007.0</td>\n      <td>Action</td>\n      <td>Tecmo Koei</td>\n      <td>18.0</td>\n      <td>7.0</td>\n      <td>41.0</td>\n      <td>4.0</td>\n      <td>71.0</td>\n      <td>59.0</td>\n      <td>31.0</td>\n      <td>7.3</td>\n      <td>49.0</td>\n      <td>Koei, Omega Force</td>\n      <td>T</td>\n    </tr>\n    <tr>\n      <th>3694</th>\n      <td>Dynasty Warriors Gundam</td>\n      <td>PS3</td>\n      <td>2007.0</td>\n      <td>Action</td>\n      <td>Tecmo Koei</td>\n      <td>14.0</td>\n      <td>1.0</td>\n      <td>31.0</td>\n      <td>2.0</td>\n      <td>47.0</td>\n      <td>60.0</td>\n      <td>29.0</td>\n      <td>6.9</td>\n      <td>16.0</td>\n      <td>Koei, Omega Force</td>\n      <td>T</td>\n    </tr>\n    <tr>\n      <th>3715</th>\n      <td>Dynasty Warriors 6</td>\n      <td>X360</td>\n      <td>2007.0</td>\n      <td>Action</td>\n      <td>Tecmo Koei</td>\n      <td>15.0</td>\n      <td>6.0</td>\n      <td>6.0</td>\n      <td>2.0</td>\n      <td>30.0</td>\n      <td>60.0</td>\n      <td>42.0</td>\n      <td>7.4</td>\n      <td>22.0</td>\n      <td>Omega Force</td>\n      <td>T</td>\n    </tr>\n    <tr>\n      <th>3751</th>\n      <td>Dynasty Warriors DS: Fighter's Battle</td>\n      <td>DS</td>\n      <td>2007.0</td>\n      <td>Action</td>\n      <td>Tecmo Koei</td>\n      <td>4.0</td>\n      <td>0.0</td>\n      <td>3.0</td>\n      <td>0.0</td>\n      <td>7.0</td>\n      <td>56.0</td>\n      <td>17.0</td>\n      <td>tbd</td>\n      <td>NaN</td>\n      <td>Koei</td>\n      <td>E10+</td>\n    </tr>\n    <tr>\n      <th>4354</th>\n      <td>Dynasty Warriors 6 (JP sales)</td>\n      <td>PS2</td>\n      <td>2008.0</td>\n      <td>Action</td>\n      <td>Tecmo Koei</td>\n      <td>0.0</td>\n      <td>0.0</td>\n      <td>25.0</td>\n      <td>0.0</td>\n      <td>25.0</td>\n      <td>NaN</td>\n      <td>NaN</td>\n      <td>NaN</td>\n      <td>NaN</td>\n      <td>NaN</td>\n      <td>NaN</td>\n    </tr>\n    <tr>\n      <th>4356</th>\n      <td>Dynasty Warriors 6</td>\n      <td>PS2</td>\n      <td>2008.0</td>\n      <td>Action</td>\n      <td>Tecmo Koei</td>\n      <td>12.0</td>\n      <td>9.0</td>\n      <td>0.0</td>\n      <td>3.0</td>\n      <td>25.0</td>\n      <td>43.0</td>\n      <td>7.0</td>\n      <td>5.4</td>\n      <td>14.0</td>\n      <td>Koei, Omega Force</td>\n      <td>T</td>\n    </tr>\n    <tr>\n      <th>5061</th>\n      <td>Dynasty Warriors 6 Empires</td>\n      <td>PS3</td>\n      <td>2009.0</td>\n      <td>Action</td>\n      <td>Tecmo Koei</td>\n      <td>14.0</td>\n      <td>3.0</td>\n      <td>15.0</td>\n      <td>2.0</td>\n      <td>34.0</td>\n      <td>62.0</td>\n      <td>22.0</td>\n      <td>7</td>\n      <td>26.0</td>\n      <td>Omega Force</td>\n      <td>T</td>\n    </tr>\n    <tr>\n      <th>5068</th>\n      <td>Dynasty Warriors: Strikeforce</td>\n      <td>PS3</td>\n      <td>2009.0</td>\n      <td>Action</td>\n      <td>Tecmo Koei</td>\n      <td>11.0</td>\n      <td>7.0</td>\n      <td>7.0</td>\n      <td>3.0</td>\n      <td>28.0</td>\n      <td>64.0</td>\n      <td>27.0</td>\n      <td>7.3</td>\n      <td>15.0</td>\n      <td>Omega Force</td>\n      <td>T</td>\n    </tr>\n    <tr>\n      <th>5075</th>\n      <td>Dynasty Warriors 6 Empires</td>\n      <td>X360</td>\n      <td>2009.0</td>\n      <td>Action</td>\n      <td>Tecmo Koei</td>\n      <td>16.0</td>\n      <td>1.0</td>\n      <td>4.0</td>\n      <td>2.0</td>\n      <td>24.0</td>\n      <td>59.0</td>\n      <td>24.0</td>\n      <td>7.3</td>\n      <td>28.0</td>\n      <td>Omega Force</td>\n      <td>T</td>\n    </tr>\n    <tr>\n      <th>5077</th>\n      <td>Dynasty Warriors: Strikeforce</td>\n      <td>X360</td>\n      <td>2009.0</td>\n      <td>Action</td>\n      <td>Tecmo Koei</td>\n      <td>13.0</td>\n      <td>6.0</td>\n      <td>2.0</td>\n      <td>2.0</td>\n      <td>23.0</td>\n      <td>59.0</td>\n      <td>18.0</td>\n      <td>5.7</td>\n      <td>12.0</td>\n      <td>Omega Force</td>\n      <td>T</td>\n    </tr>\n    <tr>\n      <th>5747</th>\n      <td>Dynasty Warriors: Gundam 3</td>\n      <td>PS3</td>\n      <td>2010.0</td>\n      <td>Action</td>\n      <td>Tecmo Koei</td>\n      <td>11.0</td>\n      <td>4.0</td>\n      <td>36.0</td>\n      <td>2.0</td>\n      <td>54.0</td>\n      <td>58.0</td>\n      <td>18.0</td>\n      <td>7.5</td>\n      <td>20.0</td>\n      <td>Omega Force, Koei Tecmo Games</td>\n      <td>T</td>\n    </tr>\n    <tr>\n      <th>5785</th>\n      <td>Dynasty Warriors: Gundam 3</td>\n      <td>X360</td>\n      <td>2010.0</td>\n      <td>Action</td>\n      <td>Tecmo Koei</td>\n      <td>11.0</td>\n      <td>3.0</td>\n      <td>2.0</td>\n      <td>1.0</td>\n      <td>18.0</td>\n      <td>65.0</td>\n      <td>27.0</td>\n      <td>7.8</td>\n      <td>20.0</td>\n      <td>Koei Tecmo Games</td>\n      <td>T</td>\n    </tr>\n    <tr>\n      <th>6376</th>\n      <td>Dynasty Warriors 7</td>\n      <td>PS3</td>\n      <td>2011.0</td>\n      <td>Action</td>\n      <td>Tecmo Koei</td>\n      <td>25.0</td>\n      <td>13.0</td>\n      <td>46.0</td>\n      <td>6.0</td>\n      <td>91.0</td>\n      <td>57.0</td>\n      <td>25.0</td>\n      <td>7.4</td>\n      <td>57.0</td>\n      <td>Omega Force</td>\n      <td>T</td>\n    </tr>\n    <tr>\n      <th>6401</th>\n      <td>Dynasty Warriors 7: Xtreme Legends</td>\n      <td>PS3</td>\n      <td>2011.0</td>\n      <td>Action</td>\n      <td>Tecmo Koei</td>\n      <td>4.0</td>\n      <td>4.0</td>\n      <td>16.0</td>\n      <td>2.0</td>\n      <td>26.0</td>\n      <td>64.0</td>\n      <td>11.0</td>\n      <td>7.8</td>\n      <td>9.0</td>\n      <td>Omega Force</td>\n      <td>T</td>\n    </tr>\n    <tr>\n      <th>6405</th>\n      <td>Dynasty Warriors Next</td>\n      <td>PSV</td>\n      <td>2011.0</td>\n      <td>Action</td>\n      <td>Tecmo Koei</td>\n      <td>5.0</td>\n      <td>6.0</td>\n      <td>11.0</td>\n      <td>2.0</td>\n      <td>24.0</td>\n      <td>67.0</td>\n      <td>35.0</td>\n      <td>7.5</td>\n      <td>73.0</td>\n      <td>Koei</td>\n      <td>T</td>\n    </tr>\n    <tr>\n      <th>6406</th>\n      <td>Dynasty Warriors 7</td>\n      <td>X360</td>\n      <td>2011.0</td>\n      <td>Action</td>\n      <td>Tecmo Koei</td>\n      <td>16.0</td>\n      <td>6.0</td>\n      <td>0.0</td>\n      <td>2.0</td>\n      <td>24.0</td>\n      <td>58.0</td>\n      <td>22.0</td>\n      <td>8</td>\n      <td>46.0</td>\n      <td>Omega Force</td>\n      <td>T</td>\n    </tr>\n    <tr>\n      <th>7254</th>\n      <td>Dynasty Warriors 8</td>\n      <td>PS3</td>\n      <td>2013.0</td>\n      <td>Action</td>\n      <td>Tecmo Koei</td>\n      <td>12.0</td>\n      <td>10.0</td>\n      <td>34.0</td>\n      <td>5.0</td>\n      <td>60.0</td>\n      <td>68.0</td>\n      <td>26.0</td>\n      <td>8.5</td>\n      <td>75.0</td>\n      <td>Omega Force</td>\n      <td>T</td>\n    </tr>\n    <tr>\n      <th>7269</th>\n      <td>Dynasty Warriors: Gundam Reborn</td>\n      <td>PS3</td>\n      <td>2013.0</td>\n      <td>Action</td>\n      <td>Tecmo Koei</td>\n      <td>0.0</td>\n      <td>0.0</td>\n      <td>23.0</td>\n      <td>0.0</td>\n      <td>23.0</td>\n      <td>64.0</td>\n      <td>35.0</td>\n      <td>7.5</td>\n      <td>25.0</td>\n      <td>Omega Force</td>\n      <td>T</td>\n    </tr>\n    <tr>\n      <th>7278</th>\n      <td>Dynasty Warriors 8: Xtreme Legends</td>\n      <td>PS3</td>\n      <td>2013.0</td>\n      <td>Action</td>\n      <td>Tecmo Koei</td>\n      <td>2.0</td>\n      <td>2.0</td>\n      <td>11.0</td>\n      <td>1.0</td>\n      <td>16.0</td>\n      <td>68.0</td>\n      <td>4.0</td>\n      <td>6.8</td>\n      <td>9.0</td>\n      <td>Omega Force</td>\n      <td>T</td>\n    </tr>\n    <tr>\n      <th>7279</th>\n      <td>Dynasty Warriors 8</td>\n      <td>X360</td>\n      <td>2013.0</td>\n      <td>Action</td>\n      <td>Tecmo Koei</td>\n      <td>9.0</td>\n      <td>5.0</td>\n      <td>0.0</td>\n      <td>1.0</td>\n      <td>15.0</td>\n      <td>65.0</td>\n      <td>21.0</td>\n      <td>7.5</td>\n      <td>35.0</td>\n      <td>Omega Force</td>\n      <td>T</td>\n    </tr>\n    <tr>\n      <th>7283</th>\n      <td>Dynasty Warriors 8: Xtreme Legends</td>\n      <td>PSV</td>\n      <td>2013.0</td>\n      <td>Action</td>\n      <td>Tecmo Koei</td>\n      <td>3.0</td>\n      <td>2.0</td>\n      <td>5.0</td>\n      <td>2.0</td>\n      <td>12.0</td>\n      <td>NaN</td>\n      <td>NaN</td>\n      <td>NaN</td>\n      <td>NaN</td>\n      <td>NaN</td>\n      <td>NaN</td>\n    </tr>\n    <tr>\n      <th>7552</th>\n      <td>Dynasty Warriors 8: Xtreme Legends</td>\n      <td>PS4</td>\n      <td>2014.0</td>\n      <td>Action</td>\n      <td>Tecmo Koei</td>\n      <td>9.0</td>\n      <td>11.0</td>\n      <td>6.0</td>\n      <td>4.0</td>\n      <td>30.0</td>\n      <td>NaN</td>\n      <td>NaN</td>\n      <td>NaN</td>\n      <td>NaN</td>\n      <td>NaN</td>\n      <td>NaN</td>\n    </tr>\n    <tr>\n      <th>7571</th>\n      <td>Dynasty Warriors 8: Empires</td>\n      <td>PS4</td>\n      <td>2014.0</td>\n      <td>Action</td>\n      <td>Tecmo Koei</td>\n      <td>6.0</td>\n      <td>7.0</td>\n      <td>3.0</td>\n      <td>3.0</td>\n      <td>19.0</td>\n      <td>63.0</td>\n      <td>30.0</td>\n      <td>7.5</td>\n      <td>42.0</td>\n      <td>Omega Force</td>\n      <td>T</td>\n    </tr>\n    <tr>\n      <th>7586</th>\n      <td>Dynasty Warriors 8: Empires</td>\n      <td>PS3</td>\n      <td>2014.0</td>\n      <td>Action</td>\n      <td>Tecmo Koei</td>\n      <td>0.0</td>\n      <td>0.0</td>\n      <td>9.0</td>\n      <td>0.0</td>\n      <td>9.0</td>\n      <td>NaN</td>\n      <td>NaN</td>\n      <td>tbd</td>\n      <td>NaN</td>\n      <td>Koei Tecmo Games</td>\n      <td>T</td>\n    </tr>\n    <tr>\n      <th>7589</th>\n      <td>Dynasty Warriors 8: Empires</td>\n      <td>XOne</td>\n      <td>2014.0</td>\n      <td>Action</td>\n      <td>Tecmo Koei</td>\n      <td>4.0</td>\n      <td>2.0</td>\n      <td>0.0</td>\n      <td>1.0</td>\n      <td>7.0</td>\n      <td>58.0</td>\n      <td>10.0</td>\n      <td>6.8</td>\n      <td>15.0</td>\n      <td>Koei Tecmo Games</td>\n      <td>T</td>\n    </tr>\n    <tr>\n      <th>7898</th>\n      <td>Dynasty Warriors 8: Empires</td>\n      <td>PSV</td>\n      <td>2015.0</td>\n      <td>Action</td>\n      <td>Tecmo Koei</td>\n      <td>0.0</td>\n      <td>0.0</td>\n      <td>2.0</td>\n      <td>0.0</td>\n      <td>2.0</td>\n      <td>70.0</td>\n      <td>15.0</td>\n      <td>7.4</td>\n      <td>9.0</td>\n      <td>Omega Force</td>\n      <td>T</td>\n    </tr>\n    <tr>\n      <th>8173</th>\n      <td>Dynasty Warriors: Eiketsuden</td>\n      <td>PS4</td>\n      <td>2016.0</td>\n      <td>Action</td>\n      <td>Tecmo Koei</td>\n      <td>0.0</td>\n      <td>0.0</td>\n      <td>2.0</td>\n      <td>0.0</td>\n      <td>2.0</td>\n      <td>NaN</td>\n      <td>NaN</td>\n      <td>NaN</td>\n      <td>NaN</td>\n      <td>NaN</td>\n      <td>NaN</td>\n    </tr>\n    <tr>\n      <th>8187</th>\n      <td>Dynasty Warriors: Eiketsuden</td>\n      <td>PSV</td>\n      <td>2016.0</td>\n      <td>Action</td>\n      <td>Tecmo Koei</td>\n      <td>0.0</td>\n      <td>0.0</td>\n      <td>1.0</td>\n      <td>0.0</td>\n      <td>1.0</td>\n      <td>NaN</td>\n      <td>NaN</td>\n      <td>NaN</td>\n      <td>NaN</td>\n      <td>NaN</td>\n      <td>NaN</td>\n    </tr>\n    <tr>\n      <th>8194</th>\n      <td>Dynasty Warriors: Eiketsuden</td>\n      <td>PS3</td>\n      <td>2016.0</td>\n      <td>Action</td>\n      <td>Tecmo Koei</td>\n      <td>0.0</td>\n      <td>0.0</td>\n      <td>1.0</td>\n      <td>0.0</td>\n      <td>1.0</td>\n      <td>NaN</td>\n      <td>NaN</td>\n      <td>NaN</td>\n      <td>NaN</td>\n      <td>NaN</td>\n      <td>NaN</td>\n    </tr>\n    <tr>\n      <th>12140</th>\n      <td>Dynasty Warriors Gundam</td>\n      <td>X360</td>\n      <td>2007.0</td>\n      <td>Action</td>\n      <td>Namco Bandai Games</td>\n      <td>NaN</td>\n      <td>NaN</td>\n      <td>NaN</td>\n      <td>NaN</td>\n      <td>NaN</td>\n      <td>55.0</td>\n      <td>34.0</td>\n      <td>6.8</td>\n      <td>20.0</td>\n      <td>Koei, Omega Force</td>\n      <td>T</td>\n    </tr>\n    <tr>\n      <th>12688</th>\n      <td>Dynasty Warriors: Gundam 2</td>\n      <td>PS3</td>\n      <td>2008.0</td>\n      <td>Action</td>\n      <td>Namco Bandai Games</td>\n      <td>NaN</td>\n      <td>NaN</td>\n      <td>NaN</td>\n      <td>NaN</td>\n      <td>NaN</td>\n      <td>54.0</td>\n      <td>22.0</td>\n      <td>7</td>\n      <td>28.0</td>\n      <td>Omega Force</td>\n      <td>T</td>\n    </tr>\n    <tr>\n      <th>12694</th>\n      <td>Dynasty Warriors: Gundam 2</td>\n      <td>PS2</td>\n      <td>2008.0</td>\n      <td>Action</td>\n      <td>Namco Bandai Games</td>\n      <td>NaN</td>\n      <td>NaN</td>\n      <td>NaN</td>\n      <td>NaN</td>\n      <td>NaN</td>\n      <td>52.0</td>\n      <td>8.0</td>\n      <td>6.5</td>\n      <td>8.0</td>\n      <td>Omega Force</td>\n      <td>T</td>\n    </tr>\n    <tr>\n      <th>12696</th>\n      <td>Dynasty Warriors: Gundam</td>\n      <td>PS2</td>\n      <td>2008.0</td>\n      <td>Action</td>\n      <td>Namco Bandai Games</td>\n      <td>NaN</td>\n      <td>NaN</td>\n      <td>NaN</td>\n      <td>NaN</td>\n      <td>NaN</td>\n      <td>NaN</td>\n      <td>NaN</td>\n      <td>NaN</td>\n      <td>NaN</td>\n      <td>NaN</td>\n      <td>NaN</td>\n    </tr>\n    <tr>\n      <th>12704</th>\n      <td>Dynasty Warriors: Gundam 2</td>\n      <td>X360</td>\n      <td>2008.0</td>\n      <td>Action</td>\n      <td>Namco Bandai Games</td>\n      <td>NaN</td>\n      <td>NaN</td>\n      <td>NaN</td>\n      <td>NaN</td>\n      <td>NaN</td>\n      <td>49.0</td>\n      <td>30.0</td>\n      <td>7</td>\n      <td>18.0</td>\n      <td>Omega Force</td>\n      <td>T</td>\n    </tr>\n    <tr>\n      <th>13392</th>\n      <td>Dynasty Warriors: Strikeforce</td>\n      <td>PSP</td>\n      <td>2009.0</td>\n      <td>Action</td>\n      <td>Ubisoft Annecy</td>\n      <td>NaN</td>\n      <td>NaN</td>\n      <td>NaN</td>\n      <td>NaN</td>\n      <td>NaN</td>\n      <td>65.0</td>\n      <td>28.0</td>\n      <td>6.8</td>\n      <td>10.0</td>\n      <td>Omega Force</td>\n      <td>T</td>\n    </tr>\n    <tr>\n      <th>15339</th>\n      <td>Dynasty Warriors 7: Empires</td>\n      <td>PS3</td>\n      <td>2012.0</td>\n      <td>Action</td>\n      <td>Ubisoft Annecy</td>\n      <td>NaN</td>\n      <td>NaN</td>\n      <td>NaN</td>\n      <td>NaN</td>\n      <td>NaN</td>\n      <td>63.0</td>\n      <td>20.0</td>\n      <td>8</td>\n      <td>22.0</td>\n      <td>Omega Force</td>\n      <td>T</td>\n    </tr>\n    <tr>\n      <th>15366</th>\n      <td>Dynasty Warriors Vs</td>\n      <td>3DS</td>\n      <td>2012.0</td>\n      <td>Action</td>\n      <td>Ackkstudios</td>\n      <td>NaN</td>\n      <td>NaN</td>\n      <td>NaN</td>\n      <td>NaN</td>\n      <td>NaN</td>\n      <td>NaN</td>\n      <td>NaN</td>\n      <td>NaN</td>\n      <td>NaN</td>\n      <td>Koei</td>\n      <td>NaN</td>\n    </tr>\n    <tr>\n      <th>15651</th>\n      <td>Dynasty Warriors: Gundam Reborn</td>\n      <td>PSV</td>\n      <td>2013.0</td>\n      <td>Action</td>\n      <td>Namco Bandai Games</td>\n      <td>NaN</td>\n      <td>NaN</td>\n      <td>NaN</td>\n      <td>NaN</td>\n      <td>NaN</td>\n      <td>NaN</td>\n      <td>NaN</td>\n      <td>NaN</td>\n      <td>NaN</td>\n      <td>NaN</td>\n      <td>NaN</td>\n    </tr>\n  </tbody>\n</table>\n</div>"
     },
     "metadata": {},
     "execution_count": 56
    }
   ],
   "source": [
    "whole_df.loc[name_grams.map(lambda x: top_grams.keys()[23] in x)]"
   ]
  },
  {
   "cell_type": "code",
   "execution_count": 62,
   "metadata": {},
   "outputs": [],
   "source": [
    "def diversity(values):\n",
    "    mode = values.mode().values[0]\n",
    "    return len(values) / (values == mode).sum()"
   ]
  },
  {
   "cell_type": "code",
   "execution_count": 65,
   "metadata": {},
   "outputs": [],
   "source": [
    "import pandas as pd\n",
    "import scipy.stats\n",
    "\n",
    "def ent(data):\n",
    "    \"\"\"Calculates entropy of the passed `pd.Series`\n",
    "    \"\"\"\n",
    "    p_data = data.value_counts()           # counts occurrence of each value\n",
    "    entropy = scipy.stats.entropy(p_data)  # get entropy from counts\n",
    "    return entropy\n"
   ]
  },
  {
   "cell_type": "code",
   "execution_count": 66,
   "metadata": {},
   "outputs": [
    {
     "output_type": "stream",
     "name": "stdout",
     "text": [
      "num series: 123\n",
      "diversity 7.235294117647059\n",
      "ent: 2.657652292563122\n",
      "median sales: 76.0\n",
      "--------------------------------------------------\n",
      "num series: 96\n",
      "diversity 8.0\n",
      "ent: 2.588326435367417\n",
      "median sales: nan\n",
      "--------------------------------------------------\n",
      "num series: 91\n",
      "diversity 7.0\n",
      "ent: 2.6526018554508344\n",
      "median sales: 57.0\n",
      "--------------------------------------------------\n",
      "num series: 88\n",
      "diversity 3.142857142857143\n",
      "ent: 1.8180375572299334\n",
      "median sales: 7.0\n",
      "--------------------------------------------------\n",
      "num series: 88\n",
      "diversity 3.6666666666666665\n",
      "ent: 2.360564449980749\n",
      "median sales: 21.5\n",
      "--------------------------------------------------\n",
      "num series: 85\n",
      "diversity 6.538461538461538\n",
      "ent: 2.4744632650725835\n",
      "median sales: 114.0\n",
      "--------------------------------------------------\n",
      "num series: 83\n",
      "diversity 6.384615384615385\n",
      "ent: 2.557664823270219\n",
      "median sales: nan\n",
      "--------------------------------------------------\n",
      "num series: 73\n",
      "diversity 6.636363636363637\n",
      "ent: 2.6002343336375255\n",
      "median sales: 50.0\n",
      "--------------------------------------------------\n",
      "num series: 70\n",
      "diversity 5.833333333333333\n",
      "ent: 2.518178820659567\n",
      "median sales: nan\n",
      "--------------------------------------------------\n",
      "num series: 70\n",
      "diversity 3.888888888888889\n",
      "ent: 2.167989413136081\n",
      "median sales: nan\n",
      "--------------------------------------------------\n",
      "num series: 68\n",
      "diversity 7.555555555555555\n",
      "ent: 2.515704063576713\n",
      "median sales: 68.0\n",
      "--------------------------------------------------\n",
      "num series: 66\n",
      "diversity 4.125\n",
      "ent: 2.1780675213181486\n",
      "median sales: nan\n",
      "--------------------------------------------------\n",
      "num series: 66\n",
      "diversity 4.125\n",
      "ent: 2.1780675213181486\n",
      "median sales: nan\n",
      "--------------------------------------------------\n",
      "num series: 65\n",
      "diversity 7.222222222222222\n",
      "ent: 2.6367300610557685\n",
      "median sales: 93.0\n",
      "--------------------------------------------------\n",
      "num series: 65\n",
      "diversity 5.0\n",
      "ent: 2.282282159284814\n",
      "median sales: nan\n",
      "--------------------------------------------------\n",
      "num series: 65\n",
      "diversity 5.416666666666667\n",
      "ent: 2.218227921384487\n",
      "median sales: nan\n",
      "--------------------------------------------------\n",
      "num series: 64\n",
      "diversity 5.333333333333333\n",
      "ent: 2.172158745028035\n",
      "median sales: nan\n",
      "--------------------------------------------------\n",
      "num series: 64\n",
      "diversity 5.333333333333333\n",
      "ent: 2.172158745028035\n",
      "median sales: nan\n",
      "--------------------------------------------------\n",
      "num series: 61\n",
      "diversity 7.625\n",
      "ent: 2.535732447243266\n",
      "median sales: 26.0\n",
      "--------------------------------------------------\n",
      "num series: 62\n",
      "diversity 3.875\n",
      "ent: 2.108705519842491\n",
      "median sales: nan\n",
      "--------------------------------------------------\n",
      "num series: 60\n",
      "diversity 5.0\n",
      "ent: 2.362292035759144\n",
      "median sales: 31.0\n",
      "--------------------------------------------------\n",
      "num series: 59\n",
      "diversity 5.9\n",
      "ent: 2.3343569140156992\n",
      "median sales: nan\n",
      "--------------------------------------------------\n",
      "num series: 58\n",
      "diversity 5.8\n",
      "ent: 2.4303932512675175\n",
      "median sales: 34.0\n",
      "--------------------------------------------------\n",
      "num series: 56\n",
      "diversity 4.0\n",
      "ent: 2.0565980086583937\n",
      "median sales: 24.0\n",
      "--------------------------------------------------\n",
      "num series: 55\n",
      "diversity 5.5\n",
      "ent: 2.212991945593352\n",
      "median sales: nan\n",
      "--------------------------------------------------\n",
      "num series: 55\n",
      "diversity 6.875\n",
      "ent: 2.47915309639661\n",
      "median sales: nan\n",
      "--------------------------------------------------\n",
      "num series: 55\n",
      "diversity 5.5\n",
      "ent: 2.212991945593352\n",
      "median sales: nan\n",
      "--------------------------------------------------\n",
      "num series: 55\n",
      "diversity 5.5\n",
      "ent: 2.212991945593352\n",
      "median sales: nan\n",
      "--------------------------------------------------\n",
      "num series: 55\n",
      "diversity 5.5\n",
      "ent: 2.212991945593352\n",
      "median sales: nan\n",
      "--------------------------------------------------\n",
      "num series: 53\n",
      "diversity 4.416666666666667\n",
      "ent: 2.157814289669837\n",
      "median sales: 17.0\n",
      "--------------------------------------------------\n"
     ]
    }
   ],
   "source": [
    "for i in range(30):\n",
    "    tmp = whole_df.loc[name_grams.map(lambda x: top_grams.keys()[i] in x)]\n",
    "    print(\"num series:\", len(tmp))\n",
    "    print(\"diversity\", diversity(tmp[\"Platform\"]))\n",
    "    print(\"ent:\", ent(tmp[\"Platform\"]))\n",
    "    print(\"median sales:\", tmp[\"Global_Sales\"].dropna().median())\n",
    "    print(\"-\"*50)"
   ]
  },
  {
   "cell_type": "code",
   "execution_count": 135,
   "metadata": {},
   "outputs": [
    {
     "output_type": "execute_result",
     "data": {
      "text/plain": [
       "'street_fighter'"
      ]
     },
     "metadata": {},
     "execution_count": 135
    }
   ],
   "source": [
    "\"_\".join(w)"
   ]
  },
  {
   "cell_type": "code",
   "execution_count": 134,
   "metadata": {},
   "outputs": [
    {
     "output_type": "execute_result",
     "data": {
      "text/plain": [
       "27"
      ]
     },
     "metadata": {},
     "execution_count": 134
    }
   ],
   "source": [
    "name_grams[:len(train_df)].map(lambda x: w in x).sum()"
   ]
  },
  {
   "cell_type": "code",
   "execution_count": 131,
   "metadata": {},
   "outputs": [
    {
     "output_type": "execute_result",
     "data": {
      "text/plain": [
       "33"
      ]
     },
     "metadata": {},
     "execution_count": 131
    }
   ],
   "source": [
    "name_grams[len(train_df):].map(lambda x: w in x).sum()"
   ]
  },
  {
   "cell_type": "code",
   "execution_count": null,
   "metadata": {},
   "outputs": [],
   "source": []
  },
  {
   "cell_type": "markdown",
   "metadata": {},
   "source": [
    "### n-gram の特徴量への使い方\n",
    "\n",
    "上位に属している組み合わせが存在するかどうかを 0-1 のフラグとして持つ方法があるでしょう。"
   ]
  },
  {
   "cell_type": "code",
   "execution_count": 44,
   "metadata": {},
   "outputs": [],
   "source": [
    "def clearn_by_hero(x):\n",
    "    custom_pipeline = [preprocessing.fillna\n",
    "                   , preprocessing.lowercase\n",
    "                   , preprocessing.remove_digits\n",
    "                   , preprocessing.remove_punctuation\n",
    "                   , preprocessing.remove_diacritics\n",
    "                   , preprocessing.remove_whitespace\n",
    "                   , preprocessing.remove_stopwords\n",
    "                  ]\n",
    "    return hero.clean(x, custom_pipeline)\n",
    "\n",
    "def create_n_gram(x, n=3):\n",
    "    x = clearn_by_hero(x)\n",
    "    x = pd.Series(x).map(lambda r: line_ngram(r, n=n))\n",
    "    return x\n",
    "\n",
    "class NameNGramBlock(BaseBlock):\n",
    "    def __init__(self, whole_df, n=3):\n",
    "        self.whole_df = whole_df\n",
    "        self.n = n\n",
    "    \n",
    "    def fit(self, input_df, y=None):\n",
    "        name_grams = create_n_gram(self.whole_df['Name'], n=self.n)\n",
    "        grams = [x for row in name_grams for x in row if len(x) > 0]\n",
    "        top_grams = pd.Series(grams).value_counts().head(20).index\n",
    "        \n",
    "        self.top_grams_ = top_grams\n",
    "        return self.transform(input_df)\n",
    "    \n",
    "    def transform(self, input_df):\n",
    "        name_grams = create_n_gram(input_df['Name'], n=self.n)\n",
    "        output_df = pd.DataFrame()\n",
    "        \n",
    "        for top in self.top_grams_:\n",
    "            s_top = '-'.join(top)\n",
    "            output_df[f'{s_top}'] = name_grams.map(lambda x: top in x).map(int)\n",
    "\n",
    "        return output_df.add_prefix('Name_has_').add_suffix(f'_n={self.n}')"
   ]
  },
  {
   "cell_type": "code",
   "execution_count": 45,
   "metadata": {},
   "outputs": [
    {
     "data": {
      "text/html": [
       "<div>\n",
       "<style scoped>\n",
       "    .dataframe tbody tr th:only-of-type {\n",
       "        vertical-align: middle;\n",
       "    }\n",
       "\n",
       "    .dataframe tbody tr th {\n",
       "        vertical-align: top;\n",
       "    }\n",
       "\n",
       "    .dataframe thead th {\n",
       "        text-align: right;\n",
       "    }\n",
       "</style>\n",
       "<table border=\"1\" class=\"dataframe\">\n",
       "  <thead>\n",
       "    <tr style=\"text-align: right;\">\n",
       "      <th></th>\n",
       "      <th>Name_has_major-league-baseball_n=3</th>\n",
       "      <th>Name_has_grand-theft-auto_n=3</th>\n",
       "      <th>Name_has_wwe-smackdown-vs_n=3</th>\n",
       "      <th>Name_has_super-robot-taisen_n=3</th>\n",
       "      <th>Name_has_smackdown-vs-raw_n=3</th>\n",
       "      <th>Name_has_shin-megami-tensei_n=3</th>\n",
       "      <th>Name_has_dragon-ball-z_n=3</th>\n",
       "      <th>Name_has_lego-star-wars_n=3</th>\n",
       "      <th>Name_has_katekyoo-hitman-reborn_n=3</th>\n",
       "      <th>Name_has_star-wars-force_n=3</th>\n",
       "      <th>Name_has_marvel-super-heroes_n=3</th>\n",
       "      <th>Name_has_romance-three-kingdoms_n=3</th>\n",
       "      <th>Name_has_hisshou-pachinko-pachi_n=3</th>\n",
       "      <th>Name_has_slot-kouryaku-series_n=3</th>\n",
       "      <th>Name_has_lego-harry-potter_n=3</th>\n",
       "      <th>Name_has_mx-vs-atv_n=3</th>\n",
       "      <th>Name_has_pachinko-pachi-slot_n=3</th>\n",
       "      <th>Name_has_pachi-slot-kouryaku_n=3</th>\n",
       "      <th>Name_has_rock-band-track_n=3</th>\n",
       "      <th>Name_has_band-track-pack_n=3</th>\n",
       "    </tr>\n",
       "  </thead>\n",
       "  <tbody>\n",
       "    <tr>\n",
       "      <th>0</th>\n",
       "      <td>0</td>\n",
       "      <td>0</td>\n",
       "      <td>0</td>\n",
       "      <td>0</td>\n",
       "      <td>0</td>\n",
       "      <td>0</td>\n",
       "      <td>0</td>\n",
       "      <td>0</td>\n",
       "      <td>0</td>\n",
       "      <td>0</td>\n",
       "      <td>0</td>\n",
       "      <td>0</td>\n",
       "      <td>0</td>\n",
       "      <td>0</td>\n",
       "      <td>0</td>\n",
       "      <td>0</td>\n",
       "      <td>0</td>\n",
       "      <td>0</td>\n",
       "      <td>0</td>\n",
       "      <td>0</td>\n",
       "    </tr>\n",
       "    <tr>\n",
       "      <th>1</th>\n",
       "      <td>0</td>\n",
       "      <td>0</td>\n",
       "      <td>0</td>\n",
       "      <td>0</td>\n",
       "      <td>0</td>\n",
       "      <td>0</td>\n",
       "      <td>0</td>\n",
       "      <td>0</td>\n",
       "      <td>0</td>\n",
       "      <td>0</td>\n",
       "      <td>0</td>\n",
       "      <td>0</td>\n",
       "      <td>0</td>\n",
       "      <td>0</td>\n",
       "      <td>0</td>\n",
       "      <td>0</td>\n",
       "      <td>0</td>\n",
       "      <td>0</td>\n",
       "      <td>0</td>\n",
       "      <td>0</td>\n",
       "    </tr>\n",
       "    <tr>\n",
       "      <th>2</th>\n",
       "      <td>0</td>\n",
       "      <td>0</td>\n",
       "      <td>0</td>\n",
       "      <td>0</td>\n",
       "      <td>0</td>\n",
       "      <td>0</td>\n",
       "      <td>0</td>\n",
       "      <td>0</td>\n",
       "      <td>0</td>\n",
       "      <td>0</td>\n",
       "      <td>0</td>\n",
       "      <td>0</td>\n",
       "      <td>0</td>\n",
       "      <td>0</td>\n",
       "      <td>0</td>\n",
       "      <td>0</td>\n",
       "      <td>0</td>\n",
       "      <td>0</td>\n",
       "      <td>0</td>\n",
       "      <td>0</td>\n",
       "    </tr>\n",
       "    <tr>\n",
       "      <th>3</th>\n",
       "      <td>0</td>\n",
       "      <td>0</td>\n",
       "      <td>0</td>\n",
       "      <td>0</td>\n",
       "      <td>0</td>\n",
       "      <td>0</td>\n",
       "      <td>0</td>\n",
       "      <td>0</td>\n",
       "      <td>0</td>\n",
       "      <td>0</td>\n",
       "      <td>0</td>\n",
       "      <td>0</td>\n",
       "      <td>0</td>\n",
       "      <td>0</td>\n",
       "      <td>0</td>\n",
       "      <td>0</td>\n",
       "      <td>0</td>\n",
       "      <td>0</td>\n",
       "      <td>0</td>\n",
       "      <td>0</td>\n",
       "    </tr>\n",
       "    <tr>\n",
       "      <th>4</th>\n",
       "      <td>0</td>\n",
       "      <td>0</td>\n",
       "      <td>0</td>\n",
       "      <td>0</td>\n",
       "      <td>0</td>\n",
       "      <td>0</td>\n",
       "      <td>0</td>\n",
       "      <td>0</td>\n",
       "      <td>0</td>\n",
       "      <td>0</td>\n",
       "      <td>0</td>\n",
       "      <td>0</td>\n",
       "      <td>0</td>\n",
       "      <td>0</td>\n",
       "      <td>1</td>\n",
       "      <td>0</td>\n",
       "      <td>0</td>\n",
       "      <td>0</td>\n",
       "      <td>0</td>\n",
       "      <td>0</td>\n",
       "    </tr>\n",
       "  </tbody>\n",
       "</table>\n",
       "</div>"
      ],
      "text/plain": [
       "   Name_has_major-league-baseball_n=3  Name_has_grand-theft-auto_n=3  \\\n",
       "0                                   0                              0   \n",
       "1                                   0                              0   \n",
       "2                                   0                              0   \n",
       "3                                   0                              0   \n",
       "4                                   0                              0   \n",
       "\n",
       "   Name_has_wwe-smackdown-vs_n=3  Name_has_super-robot-taisen_n=3  \\\n",
       "0                              0                                0   \n",
       "1                              0                                0   \n",
       "2                              0                                0   \n",
       "3                              0                                0   \n",
       "4                              0                                0   \n",
       "\n",
       "   Name_has_smackdown-vs-raw_n=3  Name_has_shin-megami-tensei_n=3  \\\n",
       "0                              0                                0   \n",
       "1                              0                                0   \n",
       "2                              0                                0   \n",
       "3                              0                                0   \n",
       "4                              0                                0   \n",
       "\n",
       "   Name_has_dragon-ball-z_n=3  Name_has_lego-star-wars_n=3  \\\n",
       "0                           0                            0   \n",
       "1                           0                            0   \n",
       "2                           0                            0   \n",
       "3                           0                            0   \n",
       "4                           0                            0   \n",
       "\n",
       "   Name_has_katekyoo-hitman-reborn_n=3  Name_has_star-wars-force_n=3  \\\n",
       "0                                    0                             0   \n",
       "1                                    0                             0   \n",
       "2                                    0                             0   \n",
       "3                                    0                             0   \n",
       "4                                    0                             0   \n",
       "\n",
       "   Name_has_marvel-super-heroes_n=3  Name_has_romance-three-kingdoms_n=3  \\\n",
       "0                                 0                                    0   \n",
       "1                                 0                                    0   \n",
       "2                                 0                                    0   \n",
       "3                                 0                                    0   \n",
       "4                                 0                                    0   \n",
       "\n",
       "   Name_has_hisshou-pachinko-pachi_n=3  Name_has_slot-kouryaku-series_n=3  \\\n",
       "0                                    0                                  0   \n",
       "1                                    0                                  0   \n",
       "2                                    0                                  0   \n",
       "3                                    0                                  0   \n",
       "4                                    0                                  0   \n",
       "\n",
       "   Name_has_lego-harry-potter_n=3  Name_has_mx-vs-atv_n=3  \\\n",
       "0                               0                       0   \n",
       "1                               0                       0   \n",
       "2                               0                       0   \n",
       "3                               0                       0   \n",
       "4                               1                       0   \n",
       "\n",
       "   Name_has_pachinko-pachi-slot_n=3  Name_has_pachi-slot-kouryaku_n=3  \\\n",
       "0                                 0                                 0   \n",
       "1                                 0                                 0   \n",
       "2                                 0                                 0   \n",
       "3                                 0                                 0   \n",
       "4                                 0                                 0   \n",
       "\n",
       "   Name_has_rock-band-track_n=3  Name_has_band-track-pack_n=3  \n",
       "0                             0                             0  \n",
       "1                             0                             0  \n",
       "2                             0                             0  \n",
       "3                             0                             0  \n",
       "4                             0                             0  "
      ]
     },
     "execution_count": 45,
     "metadata": {},
     "output_type": "execute_result"
    }
   ],
   "source": [
    "block = NameNGramBlock(train_df, n=3)\n",
    "block.fit(train_df).head()"
   ]
  },
  {
   "cell_type": "code",
   "execution_count": 46,
   "metadata": {},
   "outputs": [
    {
     "data": {
      "text/plain": [
       "Name_has_major-league-baseball_n=3     14\n",
       "Name_has_grand-theft-auto_n=3           0\n",
       "Name_has_wwe-smackdown-vs_n=3           1\n",
       "Name_has_super-robot-taisen_n=3        16\n",
       "Name_has_smackdown-vs-raw_n=3           1\n",
       "Name_has_shin-megami-tensei_n=3         1\n",
       "Name_has_dragon-ball-z_n=3             24\n",
       "Name_has_lego-star-wars_n=3             6\n",
       "Name_has_katekyoo-hitman-reborn_n=3     0\n",
       "Name_has_star-wars-force_n=3            0\n",
       "Name_has_marvel-super-heroes_n=3        2\n",
       "Name_has_romance-three-kingdoms_n=3     0\n",
       "Name_has_hisshou-pachinko-pachi_n=3     0\n",
       "Name_has_slot-kouryaku-series_n=3       0\n",
       "Name_has_lego-harry-potter_n=3          0\n",
       "Name_has_mx-vs-atv_n=3                  4\n",
       "Name_has_pachinko-pachi-slot_n=3        0\n",
       "Name_has_pachi-slot-kouryaku_n=3        0\n",
       "Name_has_rock-band-track_n=3            0\n",
       "Name_has_band-track-pack_n=3            0\n",
       "dtype: int64"
      ]
     },
     "execution_count": 46,
     "metadata": {},
     "output_type": "execute_result"
    }
   ],
   "source": [
    "block.transform(test_df).sum()"
   ]
  },
  {
   "cell_type": "markdown",
   "metadata": {},
   "source": [
    "### Trainにしかない情報を使う\n",
    "\n",
    "1. そのカラムを予測する (target 以外のカラムを予測する)\n",
    "2. 他のカラムに集約する"
   ]
  },
  {
   "cell_type": "code",
   "execution_count": 47,
   "metadata": {},
   "outputs": [],
   "source": [
    "sales_columns = train_df.columns[train_df.columns.str.contains('Sales')].tolist()\n",
    "sales_columns = sorted(sales_columns)"
   ]
  },
  {
   "cell_type": "code",
   "execution_count": 48,
   "metadata": {},
   "outputs": [
    {
     "data": {
      "text/plain": [
       "['EU_Sales', 'Global_Sales', 'JP_Sales', 'NA_Sales', 'Other_Sales']"
      ]
     },
     "execution_count": 48,
     "metadata": {},
     "output_type": "execute_result"
    }
   ],
   "source": [
    "sales_columns"
   ]
  },
  {
   "cell_type": "code",
   "execution_count": 49,
   "metadata": {},
   "outputs": [
    {
     "data": {
      "text/html": [
       "<div>\n",
       "<style scoped>\n",
       "    .dataframe tbody tr th:only-of-type {\n",
       "        vertical-align: middle;\n",
       "    }\n",
       "\n",
       "    .dataframe tbody tr th {\n",
       "        vertical-align: top;\n",
       "    }\n",
       "\n",
       "    .dataframe thead th {\n",
       "        text-align: right;\n",
       "    }\n",
       "</style>\n",
       "<table border=\"1\" class=\"dataframe\">\n",
       "  <thead>\n",
       "    <tr style=\"text-align: right;\">\n",
       "      <th></th>\n",
       "      <th>EU_Sales</th>\n",
       "      <th>Global_Sales</th>\n",
       "      <th>JP_Sales</th>\n",
       "      <th>NA_Sales</th>\n",
       "      <th>Other_Sales</th>\n",
       "    </tr>\n",
       "    <tr>\n",
       "      <th>Genre</th>\n",
       "      <th></th>\n",
       "      <th></th>\n",
       "      <th></th>\n",
       "      <th></th>\n",
       "      <th></th>\n",
       "    </tr>\n",
       "  </thead>\n",
       "  <tbody>\n",
       "    <tr>\n",
       "      <th>Action</th>\n",
       "      <td>30483</td>\n",
       "      <td>106343</td>\n",
       "      <td>10165</td>\n",
       "      <td>54010</td>\n",
       "      <td>11610</td>\n",
       "    </tr>\n",
       "    <tr>\n",
       "      <th>Adventure</th>\n",
       "      <td>4522</td>\n",
       "      <td>16634</td>\n",
       "      <td>3753</td>\n",
       "      <td>7229</td>\n",
       "      <td>1131</td>\n",
       "    </tr>\n",
       "    <tr>\n",
       "      <th>Fighting</th>\n",
       "      <td>5807</td>\n",
       "      <td>27258</td>\n",
       "      <td>5808</td>\n",
       "      <td>13313</td>\n",
       "      <td>2307</td>\n",
       "    </tr>\n",
       "    <tr>\n",
       "      <th>Misc</th>\n",
       "      <td>13411</td>\n",
       "      <td>48441</td>\n",
       "      <td>7803</td>\n",
       "      <td>22588</td>\n",
       "      <td>4601</td>\n",
       "    </tr>\n",
       "    <tr>\n",
       "      <th>Platform</th>\n",
       "      <td>16573</td>\n",
       "      <td>71149</td>\n",
       "      <td>12114</td>\n",
       "      <td>38119</td>\n",
       "      <td>4320</td>\n",
       "    </tr>\n",
       "    <tr>\n",
       "      <th>Puzzle</th>\n",
       "      <td>3871</td>\n",
       "      <td>19153</td>\n",
       "      <td>4497</td>\n",
       "      <td>9849</td>\n",
       "      <td>921</td>\n",
       "    </tr>\n",
       "    <tr>\n",
       "      <th>Racing</th>\n",
       "      <td>13039</td>\n",
       "      <td>44301</td>\n",
       "      <td>5026</td>\n",
       "      <td>21745</td>\n",
       "      <td>4465</td>\n",
       "    </tr>\n",
       "    <tr>\n",
       "      <th>Role-Playing</th>\n",
       "      <td>13536</td>\n",
       "      <td>72067</td>\n",
       "      <td>29886</td>\n",
       "      <td>24282</td>\n",
       "      <td>4348</td>\n",
       "    </tr>\n",
       "    <tr>\n",
       "      <th>Shooter</th>\n",
       "      <td>10890</td>\n",
       "      <td>43028</td>\n",
       "      <td>1964</td>\n",
       "      <td>26631</td>\n",
       "      <td>3506</td>\n",
       "    </tr>\n",
       "    <tr>\n",
       "      <th>Simulation</th>\n",
       "      <td>5357</td>\n",
       "      <td>18452</td>\n",
       "      <td>4056</td>\n",
       "      <td>7749</td>\n",
       "      <td>1288</td>\n",
       "    </tr>\n",
       "    <tr>\n",
       "      <th>Sports</th>\n",
       "      <td>14727</td>\n",
       "      <td>53700</td>\n",
       "      <td>6299</td>\n",
       "      <td>27919</td>\n",
       "      <td>4742</td>\n",
       "    </tr>\n",
       "    <tr>\n",
       "      <th>Strategy</th>\n",
       "      <td>2094</td>\n",
       "      <td>9199</td>\n",
       "      <td>3160</td>\n",
       "      <td>3354</td>\n",
       "      <td>571</td>\n",
       "    </tr>\n",
       "  </tbody>\n",
       "</table>\n",
       "</div>"
      ],
      "text/plain": [
       "              EU_Sales  Global_Sales  JP_Sales  NA_Sales  Other_Sales\n",
       "Genre                                                                \n",
       "Action           30483        106343     10165     54010        11610\n",
       "Adventure         4522         16634      3753      7229         1131\n",
       "Fighting          5807         27258      5808     13313         2307\n",
       "Misc             13411         48441      7803     22588         4601\n",
       "Platform         16573         71149     12114     38119         4320\n",
       "Puzzle            3871         19153      4497      9849          921\n",
       "Racing           13039         44301      5026     21745         4465\n",
       "Role-Playing     13536         72067     29886     24282         4348\n",
       "Shooter          10890         43028      1964     26631         3506\n",
       "Simulation        5357         18452      4056      7749         1288\n",
       "Sports           14727         53700      6299     27919         4742\n",
       "Strategy          2094          9199      3160      3354          571"
      ]
     },
     "execution_count": 49,
     "metadata": {},
     "output_type": "execute_result"
    }
   ],
   "source": [
    "key = 'Genre'\n",
    "\n",
    "input_df = train_df\n",
    "input_df[sales_columns].groupby(input_df[key]).sum()"
   ]
  },
  {
   "cell_type": "markdown",
   "metadata": {},
   "source": [
    "key ごとに正規化するのも好きです. この場合だとジャンルごとのポートフォリオみたいになりますね。"
   ]
  },
  {
   "cell_type": "code",
   "execution_count": 50,
   "metadata": {},
   "outputs": [
    {
     "data": {
      "text/html": [
       "<div>\n",
       "<style scoped>\n",
       "    .dataframe tbody tr th:only-of-type {\n",
       "        vertical-align: middle;\n",
       "    }\n",
       "\n",
       "    .dataframe tbody tr th {\n",
       "        vertical-align: top;\n",
       "    }\n",
       "\n",
       "    .dataframe thead th {\n",
       "        text-align: right;\n",
       "    }\n",
       "</style>\n",
       "<table border=\"1\" class=\"dataframe\">\n",
       "  <thead>\n",
       "    <tr style=\"text-align: right;\">\n",
       "      <th></th>\n",
       "      <th>EU_Sales</th>\n",
       "      <th>Global_Sales</th>\n",
       "      <th>JP_Sales</th>\n",
       "      <th>NA_Sales</th>\n",
       "      <th>Other_Sales</th>\n",
       "    </tr>\n",
       "    <tr>\n",
       "      <th>Genre</th>\n",
       "      <th></th>\n",
       "      <th></th>\n",
       "      <th></th>\n",
       "      <th></th>\n",
       "      <th></th>\n",
       "    </tr>\n",
       "  </thead>\n",
       "  <tbody>\n",
       "    <tr>\n",
       "      <th>Action</th>\n",
       "      <td>0.143375</td>\n",
       "      <td>0.500176</td>\n",
       "      <td>0.047810</td>\n",
       "      <td>0.254032</td>\n",
       "      <td>0.054607</td>\n",
       "    </tr>\n",
       "    <tr>\n",
       "      <th>Adventure</th>\n",
       "      <td>0.135922</td>\n",
       "      <td>0.499985</td>\n",
       "      <td>0.112808</td>\n",
       "      <td>0.217289</td>\n",
       "      <td>0.033996</td>\n",
       "    </tr>\n",
       "    <tr>\n",
       "      <th>Fighting</th>\n",
       "      <td>0.106564</td>\n",
       "      <td>0.500211</td>\n",
       "      <td>0.106582</td>\n",
       "      <td>0.244307</td>\n",
       "      <td>0.042336</td>\n",
       "    </tr>\n",
       "    <tr>\n",
       "      <th>Misc</th>\n",
       "      <td>0.138480</td>\n",
       "      <td>0.500196</td>\n",
       "      <td>0.080573</td>\n",
       "      <td>0.233241</td>\n",
       "      <td>0.047509</td>\n",
       "    </tr>\n",
       "    <tr>\n",
       "      <th>Platform</th>\n",
       "      <td>0.116486</td>\n",
       "      <td>0.500081</td>\n",
       "      <td>0.085145</td>\n",
       "      <td>0.267925</td>\n",
       "      <td>0.030364</td>\n",
       "    </tr>\n",
       "    <tr>\n",
       "      <th>Puzzle</th>\n",
       "      <td>0.101094</td>\n",
       "      <td>0.500196</td>\n",
       "      <td>0.117443</td>\n",
       "      <td>0.257214</td>\n",
       "      <td>0.024053</td>\n",
       "    </tr>\n",
       "    <tr>\n",
       "      <th>Racing</th>\n",
       "      <td>0.147207</td>\n",
       "      <td>0.500147</td>\n",
       "      <td>0.056742</td>\n",
       "      <td>0.245495</td>\n",
       "      <td>0.050409</td>\n",
       "    </tr>\n",
       "    <tr>\n",
       "      <th>Role-Playing</th>\n",
       "      <td>0.093922</td>\n",
       "      <td>0.500052</td>\n",
       "      <td>0.207370</td>\n",
       "      <td>0.168486</td>\n",
       "      <td>0.030170</td>\n",
       "    </tr>\n",
       "    <tr>\n",
       "      <th>Shooter</th>\n",
       "      <td>0.126600</td>\n",
       "      <td>0.500215</td>\n",
       "      <td>0.022832</td>\n",
       "      <td>0.309594</td>\n",
       "      <td>0.040758</td>\n",
       "    </tr>\n",
       "    <tr>\n",
       "      <th>Simulation</th>\n",
       "      <td>0.145168</td>\n",
       "      <td>0.500027</td>\n",
       "      <td>0.109913</td>\n",
       "      <td>0.209989</td>\n",
       "      <td>0.034903</td>\n",
       "    </tr>\n",
       "    <tr>\n",
       "      <th>Sports</th>\n",
       "      <td>0.137140</td>\n",
       "      <td>0.500061</td>\n",
       "      <td>0.058657</td>\n",
       "      <td>0.259985</td>\n",
       "      <td>0.044158</td>\n",
       "    </tr>\n",
       "    <tr>\n",
       "      <th>Strategy</th>\n",
       "      <td>0.113941</td>\n",
       "      <td>0.500544</td>\n",
       "      <td>0.171945</td>\n",
       "      <td>0.182501</td>\n",
       "      <td>0.031070</td>\n",
       "    </tr>\n",
       "  </tbody>\n",
       "</table>\n",
       "</div>"
      ],
      "text/plain": [
       "              EU_Sales  Global_Sales  JP_Sales  NA_Sales  Other_Sales\n",
       "Genre                                                                \n",
       "Action        0.143375      0.500176  0.047810  0.254032     0.054607\n",
       "Adventure     0.135922      0.499985  0.112808  0.217289     0.033996\n",
       "Fighting      0.106564      0.500211  0.106582  0.244307     0.042336\n",
       "Misc          0.138480      0.500196  0.080573  0.233241     0.047509\n",
       "Platform      0.116486      0.500081  0.085145  0.267925     0.030364\n",
       "Puzzle        0.101094      0.500196  0.117443  0.257214     0.024053\n",
       "Racing        0.147207      0.500147  0.056742  0.245495     0.050409\n",
       "Role-Playing  0.093922      0.500052  0.207370  0.168486     0.030170\n",
       "Shooter       0.126600      0.500215  0.022832  0.309594     0.040758\n",
       "Simulation    0.145168      0.500027  0.109913  0.209989     0.034903\n",
       "Sports        0.137140      0.500061  0.058657  0.259985     0.044158\n",
       "Strategy      0.113941      0.500544  0.171945  0.182501     0.031070"
      ]
     },
     "execution_count": 50,
     "metadata": {},
     "output_type": "execute_result"
    }
   ],
   "source": [
    "key = 'Genre'\n",
    "\n",
    "input_df = train_df\n",
    "\n",
    "_df = input_df[sales_columns].groupby(input_df[key]).sum()\n",
    "_df = (_df.T / _df.sum(axis=1)).T\n",
    "_df"
   ]
  },
  {
   "cell_type": "markdown",
   "metadata": {},
   "source": [
    "### Note\n",
    "\n",
    "* 動画中説明するのを忘れていましたが、 sales の情報は間接的に global sales の情報を表していますので若干リスクがあります(リークになる可能性があります)\n",
    "    * リークを防ぐ方法の一つとして Out-of-Fold を作る容量で集計する方法があります。(target encoding と同じ要領です)"
   ]
  },
  {
   "cell_type": "code",
   "execution_count": 51,
   "metadata": {},
   "outputs": [],
   "source": [
    "class SalesPortfolioBlock(BaseBlock):\n",
    "    \"\"\"売上ポートフォリオ\"\"\"\n",
    "    \n",
    "    def __init__(self, key: str):\n",
    "        self.key = key    \n",
    "        self.meta_df = None\n",
    "    \n",
    "    def fit(self, input_df):\n",
    "        _df = input_df[sales_columns].groupby(input_df[self.key]).sum()\n",
    "        _df = (_df.T / _df.sum(axis=1)).T\n",
    "        self.meta_df = _df\n",
    "        return self.transform(input_df)\n",
    "    \n",
    "    def transform(self, input_df):\n",
    "        out_df = pd.merge(input_df[self.key], self.meta_df, on=self.key, how='left').drop(columns=[self.key])\n",
    "        out_df = out_df.add_prefix(f'SP@{self.key}_')\n",
    "        return out_df"
   ]
  },
  {
   "cell_type": "code",
   "execution_count": 52,
   "metadata": {},
   "outputs": [],
   "source": [
    "class WrapperBlock(BaseBlock):\n",
    "    def __init__(self, function):\n",
    "        self.function = function\n",
    "        \n",
    "    def transform(self, input_df):\n",
    "        return self.function(input_df)"
   ]
  },
  {
   "cell_type": "code",
   "execution_count": 53,
   "metadata": {},
   "outputs": [],
   "source": [
    "# https://github.com/nyk510/vivid/blob/master/vivid/utils.py\n",
    "from contextlib import contextmanager\n",
    "from time import time\n",
    "\n",
    "@contextmanager\n",
    "def timer(logger=None, format_str='{:.3f}[s]', prefix=None, suffix=None):\n",
    "    if prefix: format_str = str(prefix) + format_str\n",
    "    if suffix: format_str = format_str + str(suffix)\n",
    "    start = time()\n",
    "    yield\n",
    "    d = time() - start\n",
    "    out_str = format_str.format(d)\n",
    "    if logger:\n",
    "        logger.info(out_str)\n",
    "    else:\n",
    "        print(out_str)"
   ]
  },
  {
   "cell_type": "code",
   "execution_count": 54,
   "metadata": {},
   "outputs": [],
   "source": [
    "process_blocks = [\n",
    "    WrapperBlock(create_continuous_features),\n",
    "    WrapperBlock(create_boolean_feature),\n",
    "    NameNGramBlock(whole_df, n=3),\n",
    "    *[OneHotBlock(c) for c in ['Platform', 'Genre', 'Publisher', 'Rating']],\n",
    "    *[CountEncodingBlock(c, whole_df=whole_df) for c in ['Name', 'Platform', 'Year_of_Release']],\n",
    "    *[SalesPortfolioBlock(c) for c in ['Genre']]\n",
    "]"
   ]
  },
  {
   "cell_type": "code",
   "execution_count": 55,
   "metadata": {},
   "outputs": [
    {
     "data": {
      "text/plain": [
       "[<__main__.WrapperBlock at 0x7f3df81b22d0>,\n",
       " <__main__.WrapperBlock at 0x7f3df81b2b10>,\n",
       " <__main__.NameNGramBlock at 0x7f3df81b2ed0>,\n",
       " <__main__.OneHotBlock at 0x7f3df81b2550>,\n",
       " <__main__.OneHotBlock at 0x7f3df81b2950>,\n",
       " <__main__.OneHotBlock at 0x7f3df8222350>,\n",
       " <__main__.OneHotBlock at 0x7f3df8222dd0>,\n",
       " <__main__.CountEncodingBlock at 0x7f3df8222690>,\n",
       " <__main__.CountEncodingBlock at 0x7f3df8222710>,\n",
       " <__main__.CountEncodingBlock at 0x7f3df8222b90>,\n",
       " <__main__.SalesPortfolioBlock at 0x7f3df8222b10>]"
      ]
     },
     "execution_count": 55,
     "metadata": {},
     "output_type": "execute_result"
    }
   ],
   "source": [
    "process_blocks"
   ]
  },
  {
   "cell_type": "code",
   "execution_count": 56,
   "metadata": {},
   "outputs": [],
   "source": [
    "from tqdm import tqdm\n",
    "\n",
    "\n",
    "def get_function(block, is_train):\n",
    "    s = mapping = {\n",
    "        True: 'fit',\n",
    "        False: 'transform'\n",
    "    }.get(is_train)\n",
    "    return getattr(block, s)\n",
    "    \n",
    "\n",
    "def to_feature(input_df, \n",
    "               blocks,\n",
    "               is_train=False):\n",
    "    out_df = pd.DataFrame()\n",
    "    \n",
    "    for block in tqdm(blocks, total=len(blocks)):\n",
    "        func = get_function(block, is_train)\n",
    "        \n",
    "        with timer(prefix='create ' + str(block) + ' '):\n",
    "            _df = func(input_df)\n",
    "        \n",
    "        assert len(_df) == len(input_df), func.__name__\n",
    "        out_df = pd.concat([out_df, _df], axis=1)\n",
    "        \n",
    "    return out_df"
   ]
  },
  {
   "cell_type": "code",
   "execution_count": 57,
   "metadata": {},
   "outputs": [
    {
     "name": "stderr",
     "output_type": "stream",
     "text": [
      "  0%|          | 0/11 [00:00<?, ?it/s]"
     ]
    },
    {
     "name": "stdout",
     "output_type": "stream",
     "text": [
      "create <__main__.WrapperBlock object at 0x7f3df81b22d0> 0.005[s]\n",
      "create <__main__.WrapperBlock object at 0x7f3df81b2b10> 0.015[s]\n"
     ]
    },
    {
     "name": "stderr",
     "output_type": "stream",
     "text": [
      "100%|██████████| 11/11 [00:00<00:00, 16.54it/s]\n",
      "  0%|          | 0/11 [00:00<?, ?it/s]"
     ]
    },
    {
     "name": "stdout",
     "output_type": "stream",
     "text": [
      "create <__main__.NameNGramBlock object at 0x7f3df81b2ed0> 0.591[s]\n",
      "create <__main__.OneHotBlock object at 0x7f3df81b2550> 0.004[s]\n",
      "create <__main__.OneHotBlock object at 0x7f3df81b2950> 0.003[s]\n",
      "create <__main__.OneHotBlock object at 0x7f3df8222350> 0.004[s]\n",
      "create <__main__.OneHotBlock object at 0x7f3df8222dd0> 0.003[s]\n",
      "create <__main__.CountEncodingBlock object at 0x7f3df8222690> 0.007[s]\n",
      "create <__main__.CountEncodingBlock object at 0x7f3df8222710> 0.005[s]\n",
      "create <__main__.CountEncodingBlock object at 0x7f3df8222b90> 0.003[s]\n",
      "create <__main__.SalesPortfolioBlock object at 0x7f3df8222b10> 0.009[s]\n",
      "create <__main__.WrapperBlock object at 0x7f3df81b22d0> 0.005[s]\n",
      "create <__main__.WrapperBlock object at 0x7f3df81b2b10> 0.014[s]\n"
     ]
    },
    {
     "name": "stderr",
     "output_type": "stream",
     "text": [
      "100%|██████████| 11/11 [00:00<00:00, 34.50it/s]"
     ]
    },
    {
     "name": "stdout",
     "output_type": "stream",
     "text": [
      "create <__main__.NameNGramBlock object at 0x7f3df81b2ed0> 0.259[s]\n",
      "create <__main__.OneHotBlock object at 0x7f3df81b2550> 0.002[s]\n",
      "create <__main__.OneHotBlock object at 0x7f3df81b2950> 0.002[s]\n",
      "create <__main__.OneHotBlock object at 0x7f3df8222350> 0.002[s]\n",
      "create <__main__.OneHotBlock object at 0x7f3df8222dd0> 0.001[s]\n",
      "create <__main__.CountEncodingBlock object at 0x7f3df8222690> 0.008[s]\n",
      "create <__main__.CountEncodingBlock object at 0x7f3df8222710> 0.004[s]\n",
      "create <__main__.CountEncodingBlock object at 0x7f3df8222b90> 0.003[s]\n",
      "create <__main__.SalesPortfolioBlock object at 0x7f3df8222b10> 0.003[s]\n"
     ]
    },
    {
     "name": "stderr",
     "output_type": "stream",
     "text": [
      "\n"
     ]
    }
   ],
   "source": [
    "train_feat_df = to_feature(train_df, process_blocks, is_train=True)\n",
    "test_feat_df = to_feature(test_df, process_blocks)"
   ]
  },
  {
   "cell_type": "code",
   "execution_count": 58,
   "metadata": {},
   "outputs": [
    {
     "data": {
      "text/html": [
       "<div>\n",
       "<style scoped>\n",
       "    .dataframe tbody tr th:only-of-type {\n",
       "        vertical-align: middle;\n",
       "    }\n",
       "\n",
       "    .dataframe tbody tr th {\n",
       "        vertical-align: top;\n",
       "    }\n",
       "\n",
       "    .dataframe thead th {\n",
       "        text-align: right;\n",
       "    }\n",
       "</style>\n",
       "<table border=\"1\" class=\"dataframe\">\n",
       "  <thead>\n",
       "    <tr style=\"text-align: right;\">\n",
       "      <th></th>\n",
       "      <th>0</th>\n",
       "      <th>1</th>\n",
       "      <th>2</th>\n",
       "      <th>3</th>\n",
       "      <th>4</th>\n",
       "    </tr>\n",
       "  </thead>\n",
       "  <tbody>\n",
       "    <tr>\n",
       "      <th>Critic_Score</th>\n",
       "      <td>84.000000</td>\n",
       "      <td>91.000000</td>\n",
       "      <td>87.000000</td>\n",
       "      <td>70.000000</td>\n",
       "      <td>71.000000</td>\n",
       "    </tr>\n",
       "    <tr>\n",
       "      <th>Critic_Count</th>\n",
       "      <td>23.000000</td>\n",
       "      <td>17.000000</td>\n",
       "      <td>28.000000</td>\n",
       "      <td>54.000000</td>\n",
       "      <td>41.000000</td>\n",
       "    </tr>\n",
       "    <tr>\n",
       "      <th>User_Score</th>\n",
       "      <td>8.000000</td>\n",
       "      <td>9.000000</td>\n",
       "      <td>8.500000</td>\n",
       "      <td>6.900000</td>\n",
       "      <td>6.900000</td>\n",
       "    </tr>\n",
       "    <tr>\n",
       "      <th>User_Count</th>\n",
       "      <td>19.000000</td>\n",
       "      <td>132.000000</td>\n",
       "      <td>39.000000</td>\n",
       "      <td>180.000000</td>\n",
       "      <td>143.000000</td>\n",
       "    </tr>\n",
       "    <tr>\n",
       "      <th>Year_of_Release</th>\n",
       "      <td>NaN</td>\n",
       "      <td>NaN</td>\n",
       "      <td>NaN</td>\n",
       "      <td>NaN</td>\n",
       "      <td>NaN</td>\n",
       "    </tr>\n",
       "    <tr>\n",
       "      <th>...</th>\n",
       "      <td>...</td>\n",
       "      <td>...</td>\n",
       "      <td>...</td>\n",
       "      <td>...</td>\n",
       "      <td>...</td>\n",
       "    </tr>\n",
       "    <tr>\n",
       "      <th>SP@Genre_EU_Sales</th>\n",
       "      <td>0.143375</td>\n",
       "      <td>0.143375</td>\n",
       "      <td>0.143375</td>\n",
       "      <td>0.143375</td>\n",
       "      <td>0.143375</td>\n",
       "    </tr>\n",
       "    <tr>\n",
       "      <th>SP@Genre_Global_Sales</th>\n",
       "      <td>0.500176</td>\n",
       "      <td>0.500176</td>\n",
       "      <td>0.500176</td>\n",
       "      <td>0.500176</td>\n",
       "      <td>0.500176</td>\n",
       "    </tr>\n",
       "    <tr>\n",
       "      <th>SP@Genre_JP_Sales</th>\n",
       "      <td>0.047810</td>\n",
       "      <td>0.047810</td>\n",
       "      <td>0.047810</td>\n",
       "      <td>0.047810</td>\n",
       "      <td>0.047810</td>\n",
       "    </tr>\n",
       "    <tr>\n",
       "      <th>SP@Genre_NA_Sales</th>\n",
       "      <td>0.254032</td>\n",
       "      <td>0.254032</td>\n",
       "      <td>0.254032</td>\n",
       "      <td>0.254032</td>\n",
       "      <td>0.254032</td>\n",
       "    </tr>\n",
       "    <tr>\n",
       "      <th>SP@Genre_Other_Sales</th>\n",
       "      <td>0.054607</td>\n",
       "      <td>0.054607</td>\n",
       "      <td>0.054607</td>\n",
       "      <td>0.054607</td>\n",
       "      <td>0.054607</td>\n",
       "    </tr>\n",
       "  </tbody>\n",
       "</table>\n",
       "<p>106 rows × 5 columns</p>\n",
       "</div>"
      ],
      "text/plain": [
       "                               0           1          2           3  \\\n",
       "Critic_Score           84.000000   91.000000  87.000000   70.000000   \n",
       "Critic_Count           23.000000   17.000000  28.000000   54.000000   \n",
       "User_Score              8.000000    9.000000   8.500000    6.900000   \n",
       "User_Count             19.000000  132.000000  39.000000  180.000000   \n",
       "Year_of_Release              NaN         NaN        NaN         NaN   \n",
       "...                          ...         ...        ...         ...   \n",
       "SP@Genre_EU_Sales       0.143375    0.143375   0.143375    0.143375   \n",
       "SP@Genre_Global_Sales   0.500176    0.500176   0.500176    0.500176   \n",
       "SP@Genre_JP_Sales       0.047810    0.047810   0.047810    0.047810   \n",
       "SP@Genre_NA_Sales       0.254032    0.254032   0.254032    0.254032   \n",
       "SP@Genre_Other_Sales    0.054607    0.054607   0.054607    0.054607   \n",
       "\n",
       "                                4  \n",
       "Critic_Score            71.000000  \n",
       "Critic_Count            41.000000  \n",
       "User_Score               6.900000  \n",
       "User_Count             143.000000  \n",
       "Year_of_Release               NaN  \n",
       "...                           ...  \n",
       "SP@Genre_EU_Sales        0.143375  \n",
       "SP@Genre_Global_Sales    0.500176  \n",
       "SP@Genre_JP_Sales        0.047810  \n",
       "SP@Genre_NA_Sales        0.254032  \n",
       "SP@Genre_Other_Sales     0.054607  \n",
       "\n",
       "[106 rows x 5 columns]"
      ]
     },
     "execution_count": 58,
     "metadata": {},
     "output_type": "execute_result"
    }
   ],
   "source": [
    "test_feat_df.head().T"
   ]
  },
  {
   "cell_type": "code",
   "execution_count": 59,
   "metadata": {},
   "outputs": [],
   "source": [
    "assert len(test_feat_df) == len(test_df)"
   ]
  },
  {
   "cell_type": "markdown",
   "metadata": {},
   "source": [
    "### LightGBM による CrossValidation を用いた学習"
   ]
  },
  {
   "cell_type": "code",
   "execution_count": 60,
   "metadata": {},
   "outputs": [],
   "source": [
    "import lightgbm as lgbm\n",
    "import xgboost as xgb\n",
    "\n",
    "from sklearn.metrics import mean_squared_log_error\n",
    "from sklearn.metrics import mean_squared_error\n",
    "\n",
    "def fit_lgbm(X, \n",
    "             y, \n",
    "             cv, \n",
    "             params: dict=None, \n",
    "             verbose: int=50):\n",
    "    \"\"\"lightGBM を CrossValidation の枠組みで学習を行なう function\"\"\"\n",
    "    metric_func = mean_squared_error\n",
    "    \n",
    "    # パラメータがないときは、空の dict で置き換える\n",
    "    if params is None:\n",
    "        params = {}\n",
    "\n",
    "    models = []\n",
    "    # training data の target と同じだけのゼロ配列を用意\n",
    "    # float にしないと悲しい事件が起こるのでそこだけ注意\n",
    "    oof_pred = np.zeros_like(y, dtype=np.float)\n",
    "\n",
    "    for i, (idx_train, idx_valid) in enumerate(cv): \n",
    "        # この部分が交差検証のところです。データセットを cv instance によって分割します\n",
    "        # training data を trian/valid に分割\n",
    "        x_train, y_train = X[idx_train], y[idx_train]\n",
    "        x_valid, y_valid = X[idx_valid], y[idx_valid]\n",
    "\n",
    "        clf = lgbm.LGBMRegressor(**params)\n",
    "        \n",
    "        with timer(prefix='fit fold={} '.format(i + 1)):\n",
    "            clf.fit(x_train, y_train, \n",
    "                    eval_set=[(x_valid, y_valid)],  \n",
    "                    early_stopping_rounds=verbose,\n",
    "                    verbose=verbose)\n",
    "\n",
    "        pred_i = clf.predict(x_valid)\n",
    "        \n",
    "        oof_pred[idx_valid] = pred_i\n",
    "        models.append(clf)\n",
    "\n",
    "        print(f'Fold {i} RMSLE: {metric_func(y_valid, pred_i) ** .5:.4f}')\n",
    "\n",
    "    score = metric_func(y, oof_pred) ** .5\n",
    "    print('FINISHED | Whole RMSLE: {:.4f}'.format(score))\n",
    "    return oof_pred, models"
   ]
  },
  {
   "cell_type": "markdown",
   "metadata": {},
   "source": [
    "### parameter について\n",
    "\n",
    "LightGBM などの GBDT のパラメータは、そこまでセンシティブではありません。しかし、内部的にどういう意味を持つのかを知っておくと、問題ごとにどういうパラメータが良いかの感覚がわかったり、チューニングする際にも有効なパラメータに絞ってチューニングできますので、重要な変数に関してはその意味についてざっと目を通しておくことをおすすめします。\n",
    "\n",
    "以下参考文献です。\n",
    "\n",
    "* [勾配ブースティングで大事なパラメータの気持ち](https://nykergoto.hatenablog.jp/entry/2019/03/29/%E5%8B%BE%E9%85%8D%E3%83%96%E3%83%BC%E3%82%B9%E3%83%86%E3%82%A3%E3%83%B3%E3%82%B0%E3%81%A7%E5%A4%A7%E4%BA%8B%E3%81%AA%E3%83%91%E3%83%A9%E3%83%A1%E3%83%BC%E3%82%BF%E3%81%AE%E6%B0%97%E6%8C%81%E3%81%A1): 僕の書いた記事。日本語です。\n",
    "* [Parameters Tuning](https://lightgbm.readthedocs.io/en/latest/Parameters-Tuning.html): lightGBM 公式のパラメータチューニングガイド。英語です。"
   ]
  },
  {
   "cell_type": "code",
   "execution_count": 61,
   "metadata": {},
   "outputs": [],
   "source": [
    "params = {\n",
    "    'objective': 'rmse', # 目的関数. これの意味で最小となるようなパラメータを探します. \n",
    "    'learning_rate': .1, # 学習率. 小さいほどなめらかな決定境界が作られて性能向上に繋がる場合が多いです、がそれだけ木を作るため学習に時間がかかります\n",
    "    'max_depth': 6, # 木の深さ. 深い木を許容するほどより複雑な交互作用を考慮するようになります\n",
    "    'n_estimators': 10000, # 木の最大数. early_stopping という枠組みで木の数は制御されるようにしていますのでとても大きい値を指定しておきます.\n",
    "    'colsample_bytree': .5, # 木を作る際に考慮する特徴量の割合. 1以下を指定すると特徴をランダムに欠落させます。小さくすることで, まんべんなく特徴を使うという効果があります.\n",
    "    'importance_type': 'gain' # 特徴重要度計算のロジック(後述)\n",
    "}\n",
    "\n",
    "y = train_df['Global_Sales'].values\n",
    "y = np.log1p(y) # log + plus1 変換する"
   ]
  },
  {
   "cell_type": "code",
   "execution_count": 62,
   "metadata": {},
   "outputs": [],
   "source": [
    "from sklearn.model_selection import KFold, GroupKFold\n",
    "\n",
    "fold = KFold(n_splits=5, shuffle=True, random_state=71)\n",
    "cv = list(fold.split(train_feat_df, y)) # もともとが generator なため明示的に list に変換する"
   ]
  },
  {
   "cell_type": "code",
   "execution_count": 63,
   "metadata": {},
   "outputs": [
    {
     "name": "stdout",
     "output_type": "stream",
     "text": [
      "Training until validation scores don't improve for 50 rounds\n",
      "[50]\tvalid_0's rmse: 0.939129\n",
      "[100]\tvalid_0's rmse: 0.908638\n",
      "[150]\tvalid_0's rmse: 0.897666\n",
      "[200]\tvalid_0's rmse: 0.893584\n",
      "[250]\tvalid_0's rmse: 0.890756\n",
      "[300]\tvalid_0's rmse: 0.891143\n",
      "Early stopping, best iteration is:\n",
      "[276]\tvalid_0's rmse: 0.890017\n",
      "fit fold=1 0.289[s]\n",
      "Fold 0 RMSLE: 0.8900\n",
      "Training until validation scores don't improve for 50 rounds\n",
      "[50]\tvalid_0's rmse: 0.947421\n",
      "[100]\tvalid_0's rmse: 0.91343\n",
      "[150]\tvalid_0's rmse: 0.899945\n",
      "[200]\tvalid_0's rmse: 0.892313\n",
      "[250]\tvalid_0's rmse: 0.886754\n",
      "[300]\tvalid_0's rmse: 0.885993\n",
      "[350]\tvalid_0's rmse: 0.885327\n",
      "Early stopping, best iteration is:\n",
      "[339]\tvalid_0's rmse: 0.884848\n",
      "fit fold=2 0.404[s]\n",
      "Fold 1 RMSLE: 0.8848\n",
      "Training until validation scores don't improve for 50 rounds\n",
      "[50]\tvalid_0's rmse: 0.910367\n",
      "[100]\tvalid_0's rmse: 0.881886\n",
      "[150]\tvalid_0's rmse: 0.870902\n",
      "[200]\tvalid_0's rmse: 0.867478\n",
      "[250]\tvalid_0's rmse: 0.866217\n",
      "[300]\tvalid_0's rmse: 0.864301\n",
      "[350]\tvalid_0's rmse: 0.861526\n",
      "[400]\tvalid_0's rmse: 0.860873\n",
      "[450]\tvalid_0's rmse: 0.859512\n",
      "[500]\tvalid_0's rmse: 0.859343\n",
      "[550]\tvalid_0's rmse: 0.858881\n",
      "Early stopping, best iteration is:\n",
      "[539]\tvalid_0's rmse: 0.858151\n",
      "fit fold=3 0.550[s]\n",
      "Fold 2 RMSLE: 0.8582\n",
      "Training until validation scores don't improve for 50 rounds\n",
      "[50]\tvalid_0's rmse: 0.94808\n",
      "[100]\tvalid_0's rmse: 0.914729\n",
      "[150]\tvalid_0's rmse: 0.900753\n",
      "[200]\tvalid_0's rmse: 0.893735\n",
      "[250]\tvalid_0's rmse: 0.889773\n",
      "[300]\tvalid_0's rmse: 0.88784\n",
      "[350]\tvalid_0's rmse: 0.887019\n",
      "[400]\tvalid_0's rmse: 0.887\n",
      "Early stopping, best iteration is:\n",
      "[365]\tvalid_0's rmse: 0.88655\n",
      "fit fold=4 0.349[s]\n",
      "Fold 3 RMSLE: 0.8866\n",
      "Training until validation scores don't improve for 50 rounds\n",
      "[50]\tvalid_0's rmse: 0.919197\n",
      "[100]\tvalid_0's rmse: 0.889588\n",
      "[150]\tvalid_0's rmse: 0.876738\n",
      "[200]\tvalid_0's rmse: 0.870987\n",
      "[250]\tvalid_0's rmse: 0.867878\n",
      "[300]\tvalid_0's rmse: 0.867456\n",
      "[350]\tvalid_0's rmse: 0.866629\n",
      "Early stopping, best iteration is:\n",
      "[320]\tvalid_0's rmse: 0.866224\n",
      "fit fold=5 0.312[s]\n",
      "Fold 4 RMSLE: 0.8662\n",
      "FINISHED | Whole RMSLE: 0.8772\n"
     ]
    }
   ],
   "source": [
    "oof, models = fit_lgbm(train_feat_df.values, y, cv, params=params)"
   ]
  },
  {
   "cell_type": "code",
   "execution_count": 64,
   "metadata": {},
   "outputs": [],
   "source": [
    "def split_by_groups(groups):\n",
    "    kfold = KFold(n_splits=10, random_state=71, shuffle=True)\n",
    "    groups = pd.Series(groups)\n",
    "    \n",
    "    unique_groups = groups.unique()\n",
    "    splits = []\n",
    "    \n",
    "    def _filter_ids(idx):\n",
    "        values = unique_groups[idx]\n",
    "        idx = groups.isin(values)\n",
    "        return groups[idx].index.values\n",
    "    \n",
    "    for idx_tr, idx_val in kfold.split(unique_groups):\n",
    "        splits.append([\n",
    "            _filter_ids(idx_tr), _filter_ids(idx_val)\n",
    "        ])\n",
    "        \n",
    "    return splits"
   ]
  },
  {
   "cell_type": "code",
   "execution_count": 65,
   "metadata": {},
   "outputs": [],
   "source": [
    "# cv = split_by_groups(train_df['Publisher'])\n",
    "# oof, models = fit_lgbm(train_feat_df.values, y, cv, params=params)"
   ]
  },
  {
   "cell_type": "code",
   "execution_count": 66,
   "metadata": {},
   "outputs": [],
   "source": [
    "def visualize_importance(models, feat_train_df):\n",
    "    \"\"\"lightGBM の model 配列の feature importance を plot する\n",
    "    CVごとのブレを boxen plot として表現します.\n",
    "    \n",
    "    args:\n",
    "        models:\n",
    "            List of lightGBM models\n",
    "        feat_train_df:\n",
    "            学習時に使った DataFrame\n",
    "    \"\"\"\n",
    "    feature_importance_df = pd.DataFrame()\n",
    "    for i, model in enumerate(models):\n",
    "        _df = pd.DataFrame()\n",
    "        _df['feature_importance'] = model.feature_importances_\n",
    "        _df['column'] = feat_train_df.columns\n",
    "        _df['fold'] = i + 1\n",
    "        feature_importance_df = pd.concat([feature_importance_df, _df], axis=0, ignore_index=True)\n",
    "\n",
    "    order = feature_importance_df.groupby('column')\\\n",
    "        .sum()[['feature_importance']]\\\n",
    "        .sort_values('feature_importance', ascending=False).index[:50]\n",
    "\n",
    "    fig, ax = plt.subplots(figsize=(max(6, len(order) * .4), 7))\n",
    "    sns.boxenplot(data=feature_importance_df, x='column', y='feature_importance', order=order, ax=ax, palette='viridis')\n",
    "    ax.tick_params(axis='x', rotation=90)\n",
    "    ax.grid()\n",
    "    fig.tight_layout()\n",
    "    return fig, ax"
   ]
  },
  {
   "cell_type": "code",
   "execution_count": 67,
   "metadata": {},
   "outputs": [
    {
     "data": {
      "image/png": "[encoded data removed]",
      "text/plain": [
       "<Figure size 1440x504 with 1 Axes>"
      ]
     },
     "metadata": {},
     "output_type": "display_data"
    }
   ],
   "source": [
    "fig, ax = visualize_importance(models, train_feat_df)"
   ]
  },
  {
   "cell_type": "code",
   "execution_count": 68,
   "metadata": {},
   "outputs": [],
   "source": [
    "pred = np.array([model.predict(test_feat_df.values) for model in models])\n",
    "pred = np.mean(pred, axis=0)\n",
    "pred = np.expm1(pred)\n",
    "pred = np.where(pred < 0, 0, pred)\n",
    "sub_df = pd.DataFrame({ 'Global_Sales': pred })\n",
    "sub_df.to_csv(os.path.join(OUTPUT_DIR, 'simple_submission.csv'), index=False)"
   ]
  },
  {
   "cell_type": "markdown",
   "metadata": {},
   "source": [
    "Submission する前には予測値がまともかどうかちゃんと見ておきます。(貴重なsubmissionを無駄にしないため)"
   ]
  },
  {
   "cell_type": "code",
   "execution_count": 69,
   "metadata": {},
   "outputs": [
    {
     "data": {
      "image/png": "[encoded data removed]",
      "text/plain": [
       "<Figure size 576x576 with 1 Axes>"
      ]
     },
     "metadata": {},
     "output_type": "display_data"
    }
   ],
   "source": [
    "fig, ax = plt.subplots(figsize=(8, 8))\n",
    "sns.distplot(np.log1p(pred), label='Test Predict')\n",
    "sns.distplot(oof, label='Out Of Fold')\n",
    "ax.legend()\n",
    "ax.grid()"
   ]
  }
 ],
 "metadata": {
  "kernelspec": {
   "display_name": "Python 3",
   "language": "python",
   "name": "python3"
  },
  "language_info": {
   "codemirror_mode": {
    "name": "ipython",
    "version": 3
   },
   "file_extension": ".py",
   "mimetype": "text/x-python",
   "name": "python",
   "nbconvert_exporter": "python",
   "pygments_lexer": "ipython3",
   "version": "3.7.3-final"
  }
 },
 "nbformat": 4,
 "nbformat_minor": 4
}