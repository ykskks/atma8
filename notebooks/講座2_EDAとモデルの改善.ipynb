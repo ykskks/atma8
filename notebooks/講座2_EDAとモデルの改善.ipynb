{
 "cells": [
  {
   "cell_type": "code",
   "execution_count": 1,
   "metadata": {},
   "outputs": [],
   "source": [
    "import os\n",
    "\n",
    "import pandas as pd\n",
    "import matplotlib.pyplot as plt\n",
    "import seaborn as sns\n",
    "import numpy as np\n",
    "\n",
    "from pandas_profiling import ProfileReport # profile report を作る用\n",
    "from matplotlib_venn import venn2 # venn図を作成する用\n",
    "\n",
    "sns.set_style('ticks')\n",
    "\n",
    "INPUT_DIR = '/analysis/data/atmaCup8/inputs/'\n",
    "OUTPUT_DIR = '/analysis/data/atmaCup8/outputs/'\n",
    "\n",
    "os.makedirs(OUTPUT_DIR, exist_ok=True)\n",
    "\n",
    "train_df = pd.read_csv(os.path.join(INPUT_DIR, 'train.csv'))\n",
    "test_df = pd.read_csv(os.path.join(INPUT_DIR, 'test.csv'))\n",
    "\n",
    "whole_df = pd.concat([train_df, test_df], ignore_index=True)"
   ]
  },
  {
   "cell_type": "code",
   "execution_count": 2,
   "metadata": {},
   "outputs": [
    {
     "data": {
      "text/html": [
       "<div>\n",
       "<style scoped>\n",
       "    .dataframe tbody tr th:only-of-type {\n",
       "        vertical-align: middle;\n",
       "    }\n",
       "\n",
       "    .dataframe tbody tr th {\n",
       "        vertical-align: top;\n",
       "    }\n",
       "\n",
       "    .dataframe thead th {\n",
       "        text-align: right;\n",
       "    }\n",
       "</style>\n",
       "<table border=\"1\" class=\"dataframe\">\n",
       "  <thead>\n",
       "    <tr style=\"text-align: right;\">\n",
       "      <th></th>\n",
       "      <th>0</th>\n",
       "      <th>1</th>\n",
       "      <th>2</th>\n",
       "      <th>3</th>\n",
       "      <th>4</th>\n",
       "    </tr>\n",
       "  </thead>\n",
       "  <tbody>\n",
       "    <tr>\n",
       "      <th>Name</th>\n",
       "      <td>LEGO Batman: The Videogame</td>\n",
       "      <td>LEGO Indiana Jones: The Original Adventures</td>\n",
       "      <td>LEGO Batman: The Videogame</td>\n",
       "      <td>Combat</td>\n",
       "      <td>LEGO Harry Potter: Years 5-7</td>\n",
       "    </tr>\n",
       "    <tr>\n",
       "      <th>Platform</th>\n",
       "      <td>Wii</td>\n",
       "      <td>Wii</td>\n",
       "      <td>PSP</td>\n",
       "      <td>2600</td>\n",
       "      <td>Wii</td>\n",
       "    </tr>\n",
       "    <tr>\n",
       "      <th>Year_of_Release</th>\n",
       "      <td>NaN</td>\n",
       "      <td>NaN</td>\n",
       "      <td>NaN</td>\n",
       "      <td>NaN</td>\n",
       "      <td>NaN</td>\n",
       "    </tr>\n",
       "    <tr>\n",
       "      <th>Genre</th>\n",
       "      <td>Action</td>\n",
       "      <td>Action</td>\n",
       "      <td>Action</td>\n",
       "      <td>Action</td>\n",
       "      <td>Action</td>\n",
       "    </tr>\n",
       "    <tr>\n",
       "      <th>Publisher</th>\n",
       "      <td>Warner Bros. Interactive Entertainment</td>\n",
       "      <td>LucasArts</td>\n",
       "      <td>Warner Bros. Interactive Entertainment</td>\n",
       "      <td>Atari</td>\n",
       "      <td>Warner Bros. Interactive Entertainment</td>\n",
       "    </tr>\n",
       "    <tr>\n",
       "      <th>NA_Sales</th>\n",
       "      <td>180</td>\n",
       "      <td>151</td>\n",
       "      <td>56</td>\n",
       "      <td>117</td>\n",
       "      <td>69</td>\n",
       "    </tr>\n",
       "    <tr>\n",
       "      <th>EU_Sales</th>\n",
       "      <td>97</td>\n",
       "      <td>61</td>\n",
       "      <td>44</td>\n",
       "      <td>7</td>\n",
       "      <td>42</td>\n",
       "    </tr>\n",
       "    <tr>\n",
       "      <th>JP_Sales</th>\n",
       "      <td>0</td>\n",
       "      <td>0</td>\n",
       "      <td>0</td>\n",
       "      <td>0</td>\n",
       "      <td>0</td>\n",
       "    </tr>\n",
       "    <tr>\n",
       "      <th>Other_Sales</th>\n",
       "      <td>28</td>\n",
       "      <td>21</td>\n",
       "      <td>27</td>\n",
       "      <td>1</td>\n",
       "      <td>12</td>\n",
       "    </tr>\n",
       "    <tr>\n",
       "      <th>Global_Sales</th>\n",
       "      <td>306</td>\n",
       "      <td>234</td>\n",
       "      <td>128</td>\n",
       "      <td>125</td>\n",
       "      <td>124</td>\n",
       "    </tr>\n",
       "    <tr>\n",
       "      <th>Critic_Score</th>\n",
       "      <td>74</td>\n",
       "      <td>78</td>\n",
       "      <td>73</td>\n",
       "      <td>NaN</td>\n",
       "      <td>76</td>\n",
       "    </tr>\n",
       "    <tr>\n",
       "      <th>Critic_Count</th>\n",
       "      <td>17</td>\n",
       "      <td>22</td>\n",
       "      <td>5</td>\n",
       "      <td>NaN</td>\n",
       "      <td>8</td>\n",
       "    </tr>\n",
       "    <tr>\n",
       "      <th>User_Score</th>\n",
       "      <td>7.9</td>\n",
       "      <td>6.6</td>\n",
       "      <td>7.4</td>\n",
       "      <td>NaN</td>\n",
       "      <td>7.8</td>\n",
       "    </tr>\n",
       "    <tr>\n",
       "      <th>User_Count</th>\n",
       "      <td>22</td>\n",
       "      <td>28</td>\n",
       "      <td>10</td>\n",
       "      <td>NaN</td>\n",
       "      <td>13</td>\n",
       "    </tr>\n",
       "    <tr>\n",
       "      <th>Developer</th>\n",
       "      <td>Traveller's Tales</td>\n",
       "      <td>Traveller's Tales</td>\n",
       "      <td>Traveller's Tales</td>\n",
       "      <td>NaN</td>\n",
       "      <td>Traveller's Tales</td>\n",
       "    </tr>\n",
       "    <tr>\n",
       "      <th>Rating</th>\n",
       "      <td>E10+</td>\n",
       "      <td>E10+</td>\n",
       "      <td>E10+</td>\n",
       "      <td>NaN</td>\n",
       "      <td>E10+</td>\n",
       "    </tr>\n",
       "  </tbody>\n",
       "</table>\n",
       "</div>"
      ],
      "text/plain": [
       "                                                      0  \\\n",
       "Name                         LEGO Batman: The Videogame   \n",
       "Platform                                            Wii   \n",
       "Year_of_Release                                     NaN   \n",
       "Genre                                            Action   \n",
       "Publisher        Warner Bros. Interactive Entertainment   \n",
       "NA_Sales                                            180   \n",
       "EU_Sales                                             97   \n",
       "JP_Sales                                              0   \n",
       "Other_Sales                                          28   \n",
       "Global_Sales                                        306   \n",
       "Critic_Score                                         74   \n",
       "Critic_Count                                         17   \n",
       "User_Score                                          7.9   \n",
       "User_Count                                           22   \n",
       "Developer                             Traveller's Tales   \n",
       "Rating                                             E10+   \n",
       "\n",
       "                                                           1  \\\n",
       "Name             LEGO Indiana Jones: The Original Adventures   \n",
       "Platform                                                 Wii   \n",
       "Year_of_Release                                          NaN   \n",
       "Genre                                                 Action   \n",
       "Publisher                                          LucasArts   \n",
       "NA_Sales                                                 151   \n",
       "EU_Sales                                                  61   \n",
       "JP_Sales                                                   0   \n",
       "Other_Sales                                               21   \n",
       "Global_Sales                                             234   \n",
       "Critic_Score                                              78   \n",
       "Critic_Count                                              22   \n",
       "User_Score                                               6.6   \n",
       "User_Count                                                28   \n",
       "Developer                                  Traveller's Tales   \n",
       "Rating                                                  E10+   \n",
       "\n",
       "                                                      2       3  \\\n",
       "Name                         LEGO Batman: The Videogame  Combat   \n",
       "Platform                                            PSP    2600   \n",
       "Year_of_Release                                     NaN     NaN   \n",
       "Genre                                            Action  Action   \n",
       "Publisher        Warner Bros. Interactive Entertainment   Atari   \n",
       "NA_Sales                                             56     117   \n",
       "EU_Sales                                             44       7   \n",
       "JP_Sales                                              0       0   \n",
       "Other_Sales                                          27       1   \n",
       "Global_Sales                                        128     125   \n",
       "Critic_Score                                         73     NaN   \n",
       "Critic_Count                                          5     NaN   \n",
       "User_Score                                          7.4     NaN   \n",
       "User_Count                                           10     NaN   \n",
       "Developer                             Traveller's Tales     NaN   \n",
       "Rating                                             E10+     NaN   \n",
       "\n",
       "                                                      4  \n",
       "Name                       LEGO Harry Potter: Years 5-7  \n",
       "Platform                                            Wii  \n",
       "Year_of_Release                                     NaN  \n",
       "Genre                                            Action  \n",
       "Publisher        Warner Bros. Interactive Entertainment  \n",
       "NA_Sales                                             69  \n",
       "EU_Sales                                             42  \n",
       "JP_Sales                                              0  \n",
       "Other_Sales                                          12  \n",
       "Global_Sales                                        124  \n",
       "Critic_Score                                         76  \n",
       "Critic_Count                                          8  \n",
       "User_Score                                          7.8  \n",
       "User_Count                                           13  \n",
       "Developer                             Traveller's Tales  \n",
       "Rating                                             E10+  "
      ]
     },
     "execution_count": 2,
     "metadata": {},
     "output_type": "execute_result"
    }
   ],
   "source": [
    "train_df.head().T"
   ]
  },
  {
   "cell_type": "code",
   "execution_count": 3,
   "metadata": {},
   "outputs": [],
   "source": [
    "def preprocess(input_df: pd.DataFrame) -> pd.DataFrame:\n",
    "    output_df = input_df.copy()\n",
    "    \n",
    "    idx_tbd = input_df['User_Score'] == 'tbd'\n",
    "    output_df['User_Score_is_tbd'] = idx_tbd.astype(int)\n",
    "    \n",
    "    output_df['User_Score'] = input_df['User_Score'].replace('tbd', None).astype(float)\n",
    "    return output_df\n",
    "\n",
    "def create_continuous_features(input_df):\n",
    "    input_df = preprocess(input_df)\n",
    "    use_columns = [\n",
    "        # 連続変数\n",
    "        'Critic_Score',\n",
    "        'Critic_Count', \n",
    "        'User_Score', \n",
    "        'User_Count',\n",
    "        'Year_of_Release',\n",
    "        'User_Score_is_tbd'\n",
    "    ]\n",
    "    return input_df[use_columns].copy()"
   ]
  },
  {
   "cell_type": "code",
   "execution_count": 4,
   "metadata": {},
   "outputs": [],
   "source": [
    "assert len(create_continuous_features(train_df)) == len(train_df)"
   ]
  },
  {
   "cell_type": "code",
   "execution_count": 5,
   "metadata": {},
   "outputs": [],
   "source": [
    "assert create_continuous_features(train_df.head()).equals(create_continuous_features(train_df.head()))"
   ]
  },
  {
   "cell_type": "markdown",
   "metadata": {},
   "source": [
    "### Booleanの特徴量\n",
    "\n",
    "特定の条件を満たしているかどうか, を表す特徴量です。例えばテキストカラムに特定の文字列が存在しているかどうか、などが該当します。"
   ]
  },
  {
   "cell_type": "code",
   "execution_count": 6,
   "metadata": {},
   "outputs": [],
   "source": [
    "def create_boolean_feature(input_df):\n",
    "    output_df = pd.DataFrame()\n",
    "    \n",
    "    texts = [\n",
    "        'japan', 'nintendo'\n",
    "    ]\n",
    "    \n",
    "    for t in texts:\n",
    "        output_df[f'Developer_has_{t}'] = input_df['Developer'].fillna('').str.lower().str.contains(t).astype(int)\n",
    "    return output_df"
   ]
  },
  {
   "cell_type": "code",
   "execution_count": 7,
   "metadata": {},
   "outputs": [
    {
     "data": {
      "text/plain": [
       "Developer_has_japan       23\n",
       "Developer_has_nintendo    88\n",
       "dtype: int64"
      ]
     },
     "execution_count": 7,
     "metadata": {},
     "output_type": "execute_result"
    }
   ],
   "source": [
    "create_boolean_feature(train_df).sum()"
   ]
  },
  {
   "cell_type": "markdown",
   "metadata": {},
   "source": [
    "### CountEncoding"
   ]
  },
  {
   "cell_type": "code",
   "execution_count": 8,
   "metadata": {},
   "outputs": [
    {
     "data": {
      "text/plain": [
       "['a', 'a', 'b', 'a']"
      ]
     },
     "execution_count": 8,
     "metadata": {},
     "output_type": "execute_result"
    }
   ],
   "source": [
    "['a', 'a', 'b', 'a']"
   ]
  },
  {
   "cell_type": "code",
   "execution_count": 9,
   "metadata": {},
   "outputs": [
    {
     "data": {
      "text/plain": [
       "[3, 3, 1, 3]"
      ]
     },
     "execution_count": 9,
     "metadata": {},
     "output_type": "execute_result"
    }
   ],
   "source": [
    "[3, 3, 1, 3]"
   ]
  },
  {
   "cell_type": "code",
   "execution_count": 10,
   "metadata": {},
   "outputs": [],
   "source": [
    "class BaseBlock(object):\n",
    "    def fit(self, input_df, y=None):\n",
    "        return self.transform(input_df)\n",
    "        \n",
    "    def transform(self, input_df):\n",
    "        raise NotImplementedError()"
   ]
  },
  {
   "cell_type": "code",
   "execution_count": 11,
   "metadata": {},
   "outputs": [
    {
     "data": {
      "text/plain": [
       "array([7, 4, 7, ..., 1, 2, 2], dtype=object)"
      ]
     },
     "execution_count": 11,
     "metadata": {},
     "output_type": "execute_result"
    }
   ],
   "source": [
    "_df = train_df.groupby('Name')['Platform'].count()\n",
    "pd.merge(train_df['Name'], _df, on='Name', how='left').values[:, 1]"
   ]
  },
  {
   "cell_type": "code",
   "execution_count": 12,
   "metadata": {},
   "outputs": [],
   "source": [
    "vc = train_df['Name'].value_counts()"
   ]
  },
  {
   "cell_type": "code",
   "execution_count": 13,
   "metadata": {},
   "outputs": [
    {
     "data": {
      "text/plain": [
       "array([7, 4, 7, ..., 1, 2, 2])"
      ]
     },
     "execution_count": 13,
     "metadata": {},
     "output_type": "execute_result"
    }
   ],
   "source": [
    "train_df['Name'].map(vc).values"
   ]
  },
  {
   "cell_type": "code",
   "execution_count": 14,
   "metadata": {},
   "outputs": [],
   "source": [
    "class CountEncodingBlock(BaseBlock):\n",
    "    def __init__(self, column, whole_df: pd.DataFrame):\n",
    "        self.column = column\n",
    "        self.whole_df = whole_df\n",
    "\n",
    "    def transform(self, input_df):\n",
    "        output_df = pd.DataFrame()\n",
    "        c = self.column\n",
    "        \n",
    "        vc = self.whole_df[c].value_counts()\n",
    "        output_df[c] = input_df[c].map(vc)\n",
    "        return output_df.add_prefix('CE_')"
   ]
  },
  {
   "cell_type": "code",
   "execution_count": 15,
   "metadata": {},
   "outputs": [],
   "source": [
    "assert len(train_df) == len(CountEncodingBlock('Name', whole_df=whole_df).fit(train_df))"
   ]
  },
  {
   "cell_type": "markdown",
   "metadata": {},
   "source": [
    "### OneHotEncoding"
   ]
  },
  {
   "cell_type": "code",
   "execution_count": 16,
   "metadata": {},
   "outputs": [
    {
     "data": {
      "text/plain": [
       "['a', 'a', 'b', 'c', 'a']"
      ]
     },
     "execution_count": 16,
     "metadata": {},
     "output_type": "execute_result"
    }
   ],
   "source": [
    "['a', 'a', 'b', 'c', 'a']"
   ]
  },
  {
   "cell_type": "code",
   "execution_count": 17,
   "metadata": {},
   "outputs": [
    {
     "data": {
      "text/plain": [
       "[[1, 0], [1, 0], [0, 1], [1, 0]]"
      ]
     },
     "execution_count": 17,
     "metadata": {},
     "output_type": "execute_result"
    }
   ],
   "source": [
    "[\n",
    "    [1, 0],\n",
    "    [1, 0],\n",
    "    [0, 1],\n",
    "    [1, 0]\n",
    "]"
   ]
  },
  {
   "cell_type": "code",
   "execution_count": 18,
   "metadata": {},
   "outputs": [],
   "source": [
    "class OneHotBlock(BaseBlock):\n",
    "    def __init__(self, column: str):\n",
    "        self.column = column\n",
    "        self.cats_ = None\n",
    "        \n",
    "    def fit(self, input_df, y=None):\n",
    "        vc = input_df[self.column].dropna().value_counts()\n",
    "        cats = vc[vc > 40].index\n",
    "        self.cats_ = cats\n",
    "        return self.transform(input_df)\n",
    "    \n",
    "    def transform(self, input_df):\n",
    "        x = pd.Categorical(input_df[self.column], categories=self.cats_)\n",
    "        out_df = pd.get_dummies(x, dummy_na=False)\n",
    "        out_df.columns = out_df.columns.tolist()\n",
    "        return out_df.add_prefix(f'OH_{self.column}=')"
   ]
  },
  {
   "cell_type": "code",
   "execution_count": 19,
   "metadata": {},
   "outputs": [
    {
     "data": {
      "text/plain": [
       "OH_Platform=DS      1106\n",
       "OH_Platform=PS2     1104\n",
       "OH_Platform=Wii      645\n",
       "OH_Platform=PS3      643\n",
       "OH_Platform=PSP      642\n",
       "OH_Platform=X360     588\n",
       "OH_Platform=PS       512\n",
       "OH_Platform=GBA      445\n",
       "OH_Platform=PC       439\n",
       "OH_Platform=XB       371\n",
       "OH_Platform=3DS      270\n",
       "OH_Platform=GC       240\n",
       "OH_Platform=PSV      240\n",
       "OH_Platform=PS4      206\n",
       "OH_Platform=SNES     130\n",
       "OH_Platform=SAT      129\n",
       "OH_Platform=N64      125\n",
       "OH_Platform=XOne     121\n",
       "OH_Platform=2600      88\n",
       "OH_Platform=WiiU      87\n",
       "OH_Platform=GB        78\n",
       "OH_Platform=NES       66\n",
       "OH_Platform=DC        41\n",
       "dtype: int64"
      ]
     },
     "execution_count": 19,
     "metadata": {},
     "output_type": "execute_result"
    }
   ],
   "source": [
    "OneHotBlock('Platform').fit(train_df).sum(axis=0)"
   ]
  },
  {
   "cell_type": "markdown",
   "metadata": {},
   "source": [
    "### 凝った特徴量"
   ]
  },
  {
   "cell_type": "code",
   "execution_count": 20,
   "metadata": {},
   "outputs": [
    {
     "name": "stdout",
     "output_type": "stream",
     "text": [
      "Requirement already satisfied: textdistance in /home/penguin/.conda/lib/python3.7/site-packages (4.2.0)\n",
      "\u001b[33mWARNING: You are using pip version 20.2.3; however, version 20.3.1 is available.\n",
      "You should consider upgrading via the '/home/penguin/.conda/bin/python -m pip install --upgrade pip' command.\u001b[0m\n"
     ]
    }
   ],
   "source": [
    "!pip install textdistance"
   ]
  },
  {
   "cell_type": "code",
   "execution_count": 21,
   "metadata": {},
   "outputs": [],
   "source": [
    "from textdistance import jaro"
   ]
  },
  {
   "cell_type": "code",
   "execution_count": 22,
   "metadata": {},
   "outputs": [
    {
     "data": {
      "text/plain": [
       "0.7777777777777777"
      ]
     },
     "execution_count": 22,
     "metadata": {},
     "output_type": "execute_result"
    }
   ],
   "source": [
    "jaro('foo', 'fo9')"
   ]
  },
  {
   "cell_type": "code",
   "execution_count": 23,
   "metadata": {},
   "outputs": [],
   "source": [
    "query = train_df['Name'].values[100]"
   ]
  },
  {
   "cell_type": "code",
   "execution_count": 24,
   "metadata": {},
   "outputs": [
    {
     "data": {
      "text/plain": [
       "'Frogs And Flies'"
      ]
     },
     "execution_count": 24,
     "metadata": {},
     "output_type": "execute_result"
    }
   ],
   "source": [
    "query"
   ]
  },
  {
   "cell_type": "code",
   "execution_count": 25,
   "metadata": {},
   "outputs": [],
   "source": [
    "results = train_df['Name'].map(lambda x: jaro(query, x))"
   ]
  },
  {
   "cell_type": "code",
   "execution_count": 26,
   "metadata": {},
   "outputs": [
    {
     "data": {
      "text/plain": [
       "100    Frogs And Flies\n",
       "Name: Name, dtype: object"
      ]
     },
     "execution_count": 26,
     "metadata": {},
     "output_type": "execute_result"
    }
   ],
   "source": [
    "train_df['Name'][results > .8]"
   ]
  },
  {
   "cell_type": "code",
   "execution_count": 27,
   "metadata": {},
   "outputs": [
    {
     "name": "stdout",
     "output_type": "stream",
     "text": [
      "Requirement already satisfied: texthero in /home/penguin/.conda/lib/python3.7/site-packages (1.0.9)\n",
      "Requirement already satisfied: wordcloud>=1.5.0 in /home/penguin/.conda/lib/python3.7/site-packages (from texthero) (1.8.1)\n",
      "Requirement already satisfied: matplotlib>=3.1.0 in /home/penguin/.conda/lib/python3.7/site-packages (from texthero) (3.2.2)\n",
      "Requirement already satisfied: unidecode>=1.1.1 in /home/penguin/.conda/lib/python3.7/site-packages (from texthero) (1.1.1)\n",
      "Requirement already satisfied: gensim>=3.6.0 in /home/penguin/.conda/lib/python3.7/site-packages (from texthero) (3.8.3)\n",
      "Requirement already satisfied: nltk>=3.3 in /home/penguin/.conda/lib/python3.7/site-packages (from texthero) (3.5)\n",
      "Requirement already satisfied: plotly>=4.2.0 in /home/penguin/.conda/lib/python3.7/site-packages (from texthero) (4.8.2)\n",
      "Requirement already satisfied: spacy>=2.2.2 in /home/penguin/.conda/lib/python3.7/site-packages (from texthero) (2.3.4)\n",
      "Requirement already satisfied: numpy>=1.17 in /home/penguin/.conda/lib/python3.7/site-packages (from texthero) (1.18.5)\n",
      "Requirement already satisfied: scikit-learn>=0.22 in /home/penguin/.conda/lib/python3.7/site-packages (from texthero) (0.23.1)\n",
      "Requirement already satisfied: tqdm>=4.3 in /home/penguin/.conda/lib/python3.7/site-packages (from texthero) (4.47.0)\n",
      "Requirement already satisfied: pandas>=1.0.2 in /home/penguin/.conda/lib/python3.7/site-packages (from texthero) (1.0.5)\n",
      "Requirement already satisfied: pillow in /home/penguin/.conda/lib/python3.7/site-packages (from wordcloud>=1.5.0->texthero) (6.2.1)\n",
      "Requirement already satisfied: pyparsing!=2.0.4,!=2.1.2,!=2.1.6,>=2.0.1 in /home/penguin/.conda/lib/python3.7/site-packages (from matplotlib>=3.1.0->texthero) (2.4.7)\n",
      "Requirement already satisfied: python-dateutil>=2.1 in /home/penguin/.conda/lib/python3.7/site-packages (from matplotlib>=3.1.0->texthero) (2.8.1)\n",
      "Requirement already satisfied: kiwisolver>=1.0.1 in /home/penguin/.conda/lib/python3.7/site-packages (from matplotlib>=3.1.0->texthero) (1.2.0)\n",
      "Requirement already satisfied: cycler>=0.10 in /home/penguin/.conda/lib/python3.7/site-packages (from matplotlib>=3.1.0->texthero) (0.10.0)\n",
      "Requirement already satisfied: smart-open>=1.8.1 in /home/penguin/.conda/lib/python3.7/site-packages (from gensim>=3.6.0->texthero) (2.1.0)\n",
      "Requirement already satisfied: scipy>=0.18.1 in /home/penguin/.conda/lib/python3.7/site-packages (from gensim>=3.6.0->texthero) (1.5.0)\n",
      "Requirement already satisfied: six>=1.5.0 in /home/penguin/.conda/lib/python3.7/site-packages (from gensim>=3.6.0->texthero) (1.15.0)\n",
      "Requirement already satisfied: joblib in /home/penguin/.conda/lib/python3.7/site-packages (from nltk>=3.3->texthero) (0.16.0)\n",
      "Requirement already satisfied: regex in /home/penguin/.conda/lib/python3.7/site-packages (from nltk>=3.3->texthero) (2020.11.13)\n",
      "Requirement already satisfied: click in /home/penguin/.conda/lib/python3.7/site-packages (from nltk>=3.3->texthero) (7.1.2)\n",
      "Requirement already satisfied: retrying>=1.3.3 in /home/penguin/.conda/lib/python3.7/site-packages (from plotly>=4.2.0->texthero) (1.3.3)\n",
      "Requirement already satisfied: setuptools in /home/penguin/.conda/lib/python3.7/site-packages (from spacy>=2.2.2->texthero) (49.1.0.post20200710)\n",
      "Requirement already satisfied: blis<0.8.0,>=0.4.0; python_version >= \"3.6\" in /home/penguin/.conda/lib/python3.7/site-packages (from spacy>=2.2.2->texthero) (0.7.3)\n",
      "Requirement already satisfied: srsly<1.1.0,>=1.0.2 in /home/penguin/.conda/lib/python3.7/site-packages (from spacy>=2.2.2->texthero) (1.0.4)\n",
      "Requirement already satisfied: preshed<3.1.0,>=3.0.2 in /home/penguin/.conda/lib/python3.7/site-packages (from spacy>=2.2.2->texthero) (3.0.4)\n",
      "Requirement already satisfied: requests<3.0.0,>=2.13.0 in /home/penguin/.conda/lib/python3.7/site-packages (from spacy>=2.2.2->texthero) (2.24.0)\n",
      "Requirement already satisfied: wasabi<1.1.0,>=0.4.0 in /home/penguin/.conda/lib/python3.7/site-packages (from spacy>=2.2.2->texthero) (0.8.0)\n",
      "Requirement already satisfied: murmurhash<1.1.0,>=0.28.0 in /home/penguin/.conda/lib/python3.7/site-packages (from spacy>=2.2.2->texthero) (1.0.4)\n",
      "Requirement already satisfied: cymem<2.1.0,>=2.0.2 in /home/penguin/.conda/lib/python3.7/site-packages (from spacy>=2.2.2->texthero) (2.0.4)\n",
      "Requirement already satisfied: catalogue<1.1.0,>=0.0.7 in /home/penguin/.conda/lib/python3.7/site-packages (from spacy>=2.2.2->texthero) (1.0.0)\n",
      "Requirement already satisfied: thinc<7.5.0,>=7.4.1 in /home/penguin/.conda/lib/python3.7/site-packages (from spacy>=2.2.2->texthero) (7.4.3)\n",
      "Requirement already satisfied: plac<1.2.0,>=0.9.6 in /home/penguin/.conda/lib/python3.7/site-packages (from spacy>=2.2.2->texthero) (1.1.3)\n",
      "Requirement already satisfied: threadpoolctl>=2.0.0 in /home/penguin/.conda/lib/python3.7/site-packages (from scikit-learn>=0.22->texthero) (2.1.0)\n",
      "Requirement already satisfied: pytz>=2017.2 in /home/penguin/.conda/lib/python3.7/site-packages (from pandas>=1.0.2->texthero) (2020.1)\n",
      "Requirement already satisfied: boto3 in /home/penguin/.conda/lib/python3.7/site-packages (from smart-open>=1.8.1->gensim>=3.6.0->texthero) (1.14.20)\n",
      "Requirement already satisfied: boto in /home/penguin/.conda/lib/python3.7/site-packages (from smart-open>=1.8.1->gensim>=3.6.0->texthero) (2.49.0)\n",
      "Requirement already satisfied: idna<3,>=2.5 in /home/penguin/.conda/lib/python3.7/site-packages (from requests<3.0.0,>=2.13.0->spacy>=2.2.2->texthero) (2.10)\n",
      "Requirement already satisfied: chardet<4,>=3.0.2 in /home/penguin/.conda/lib/python3.7/site-packages (from requests<3.0.0,>=2.13.0->spacy>=2.2.2->texthero) (3.0.4)\n",
      "Requirement already satisfied: certifi>=2017.4.17 in /home/penguin/.conda/lib/python3.7/site-packages (from requests<3.0.0,>=2.13.0->spacy>=2.2.2->texthero) (2020.6.20)\n",
      "Requirement already satisfied: urllib3!=1.25.0,!=1.25.1,<1.26,>=1.21.1 in /home/penguin/.conda/lib/python3.7/site-packages (from requests<3.0.0,>=2.13.0->spacy>=2.2.2->texthero) (1.25.9)\n",
      "Requirement already satisfied: importlib-metadata>=0.20; python_version < \"3.8\" in /home/penguin/.conda/lib/python3.7/site-packages (from catalogue<1.1.0,>=0.0.7->spacy>=2.2.2->texthero) (1.7.0)\n",
      "Requirement already satisfied: s3transfer<0.4.0,>=0.3.0 in /home/penguin/.conda/lib/python3.7/site-packages (from boto3->smart-open>=1.8.1->gensim>=3.6.0->texthero) (0.3.3)\n",
      "Requirement already satisfied: botocore<1.18.0,>=1.17.20 in /home/penguin/.conda/lib/python3.7/site-packages (from boto3->smart-open>=1.8.1->gensim>=3.6.0->texthero) (1.17.20)\n",
      "Requirement already satisfied: jmespath<1.0.0,>=0.7.1 in /home/penguin/.conda/lib/python3.7/site-packages (from boto3->smart-open>=1.8.1->gensim>=3.6.0->texthero) (0.10.0)\n",
      "Requirement already satisfied: zipp>=0.5 in /home/penguin/.conda/lib/python3.7/site-packages (from importlib-metadata>=0.20; python_version < \"3.8\"->catalogue<1.1.0,>=0.0.7->spacy>=2.2.2->texthero) (3.1.0)\n",
      "Requirement already satisfied: docutils<0.16,>=0.10 in /home/penguin/.conda/lib/python3.7/site-packages (from botocore<1.18.0,>=1.17.20->boto3->smart-open>=1.8.1->gensim>=3.6.0->texthero) (0.15.2)\n",
      "\u001b[33mWARNING: You are using pip version 20.2.3; however, version 20.3.1 is available.\n",
      "You should consider upgrading via the '/home/penguin/.conda/bin/python -m pip install --upgrade pip' command.\u001b[0m\n"
     ]
    }
   ],
   "source": [
    "!pip install texthero"
   ]
  },
  {
   "cell_type": "code",
   "execution_count": 28,
   "metadata": {},
   "outputs": [],
   "source": [
    "import texthero as hero\n",
    "from texthero import preprocessing"
   ]
  },
  {
   "cell_type": "code",
   "execution_count": 29,
   "metadata": {},
   "outputs": [],
   "source": [
    "custom_pipeline = [preprocessing.fillna\n",
    "                   , preprocessing.lowercase\n",
    "                   , preprocessing.remove_digits\n",
    "                   , preprocessing.remove_punctuation\n",
    "                   , preprocessing.remove_diacritics\n",
    "                   , preprocessing.remove_whitespace\n",
    "                   , preprocessing.remove_stopwords # stopword\n",
    "                  ]"
   ]
  },
  {
   "cell_type": "code",
   "execution_count": 30,
   "metadata": {},
   "outputs": [],
   "source": [
    "names = hero.clean(whole_df['Name'], custom_pipeline)"
   ]
  },
  {
   "cell_type": "code",
   "execution_count": 31,
   "metadata": {},
   "outputs": [],
   "source": [
    "words = [w for row in names.str.split(' ') for w in row if len(w) > 0]"
   ]
  },
  {
   "cell_type": "code",
   "execution_count": 32,
   "metadata": {},
   "outputs": [
    {
     "data": {
      "text/plain": [
       "<matplotlib.axes._subplots.AxesSubplot at 0x7f3e3c689690>"
      ]
     },
     "execution_count": 32,
     "metadata": {},
     "output_type": "execute_result"
    },
    {
     "data": {
      "image/png": "[encoded data removed]",
      "text/plain": [
       "<Figure size 576x396 with 1 Axes>"
      ]
     },
     "metadata": {},
     "output_type": "display_data"
    }
   ],
   "source": [
    "pd.Series(words).value_counts().head(30).plot(kind='barh')"
   ]
  },
  {
   "cell_type": "markdown",
   "metadata": {},
   "source": [
    "単語1語で見るとどうしてもゲームタイトルというよりジャンルの名前になってくるので, ツナガリを1つの単語とみなして count してみます。`nltk` の ngrams を使うのが便利だと思います。"
   ]
  },
  {
   "cell_type": "code",
   "execution_count": 33,
   "metadata": {},
   "outputs": [],
   "source": [
    "import texthero as hero\n",
    "from texthero import preprocessing"
   ]
  },
  {
   "cell_type": "code",
   "execution_count": 34,
   "metadata": {},
   "outputs": [],
   "source": [
    "custom_pipeline = [preprocessing.fillna\n",
    "                   , preprocessing.lowercase\n",
    "                   , preprocessing.remove_digits\n",
    "                   , preprocessing.remove_punctuation\n",
    "                   , preprocessing.remove_diacritics\n",
    "                   , preprocessing.remove_whitespace\n",
    "                   , preprocessing.remove_stopwords\n",
    "                  ]"
   ]
  },
  {
   "cell_type": "code",
   "execution_count": 35,
   "metadata": {},
   "outputs": [],
   "source": [
    "names = hero.clean(whole_df['Name'], custom_pipeline)"
   ]
  },
  {
   "cell_type": "code",
   "execution_count": 36,
   "metadata": {},
   "outputs": [],
   "source": [
    "from nltk.util import ngrams\n",
    "\n",
    "def line_ngram(line, n=2):\n",
    "    words = [w for w in line.split(' ') if len(w) != 0] # 空文字は取り除く\n",
    "    return list(ngrams(words, n))"
   ]
  },
  {
   "cell_type": "code",
   "execution_count": 37,
   "metadata": {},
   "outputs": [],
   "source": [
    "name_grams = names.map(line_ngram)"
   ]
  },
  {
   "cell_type": "code",
   "execution_count": 38,
   "metadata": {},
   "outputs": [
    {
     "data": {
      "text/plain": [
       "'LEGO Batman: The Videogame'"
      ]
     },
     "execution_count": 38,
     "metadata": {},
     "output_type": "execute_result"
    }
   ],
   "source": [
    "train_df['Name'][0]"
   ]
  },
  {
   "cell_type": "code",
   "execution_count": 39,
   "metadata": {},
   "outputs": [
    {
     "data": {
      "text/plain": [
       "[('lego', 'batman'), ('batman', 'videogame')]"
      ]
     },
     "execution_count": 39,
     "metadata": {},
     "output_type": "execute_result"
    }
   ],
   "source": [
    "name_grams[0]"
   ]
  },
  {
   "cell_type": "code",
   "execution_count": 40,
   "metadata": {},
   "outputs": [],
   "source": [
    "grams = [x for row in name_grams for x in row if len(x) > 0]"
   ]
  },
  {
   "cell_type": "code",
   "execution_count": 41,
   "metadata": {},
   "outputs": [
    {
     "data": {
      "text/plain": [
       "<matplotlib.axes._subplots.AxesSubplot at 0x7f3df8474310>"
      ]
     },
     "execution_count": 41,
     "metadata": {},
     "output_type": "execute_result"
    },
    {
     "data": {
      "image/png": "[encoded data removed]",
      "text/plain": [
       "<Figure size 576x396 with 1 Axes>"
      ]
     },
     "metadata": {},
     "output_type": "display_data"
    }
   ],
   "source": [
    "pd.Series(grams).value_counts().head(20).plot(kind='barh')"
   ]
  },
  {
   "cell_type": "code",
   "execution_count": 42,
   "metadata": {},
   "outputs": [],
   "source": [
    "top_grams = pd.Series(grams).value_counts().head(20).index"
   ]
  },
  {
   "cell_type": "code",
   "execution_count": 43,
   "metadata": {},
   "outputs": [
    {
     "data": {
      "text/plain": [
       "123"
      ]
     },
     "execution_count": 43,
     "metadata": {},
     "output_type": "execute_result"
    }
   ],
   "source": [
    "w = top_grams[0]\n",
    "name_grams.map(lambda x: w in x).sum()"
   ]
  },
  {
   "cell_type": "markdown",
   "metadata": {},
   "source": [
    "### n-gram の特徴量への使い方\n",
    "\n",
    "上位に属している組み合わせが存在するかどうかを 0-1 のフラグとして持つ方法があるでしょう。"
   ]
  },
  {
   "cell_type": "code",
   "execution_count": 44,
   "metadata": {},
   "outputs": [],
   "source": [
    "def clearn_by_hero(x):\n",
    "    custom_pipeline = [preprocessing.fillna\n",
    "                   , preprocessing.lowercase\n",
    "                   , preprocessing.remove_digits\n",
    "                   , preprocessing.remove_punctuation\n",
    "                   , preprocessing.remove_diacritics\n",
    "                   , preprocessing.remove_whitespace\n",
    "                   , preprocessing.remove_stopwords\n",
    "                  ]\n",
    "    return hero.clean(x, custom_pipeline)\n",
    "\n",
    "def create_n_gram(x, n=3):\n",
    "    x = clearn_by_hero(x)\n",
    "    x = pd.Series(x).map(lambda r: line_ngram(r, n=n))\n",
    "    return x\n",
    "\n",
    "class NameNGramBlock(BaseBlock):\n",
    "    def __init__(self, whole_df, n=3):\n",
    "        self.whole_df = whole_df\n",
    "        self.n = n\n",
    "    \n",
    "    def fit(self, input_df, y=None):\n",
    "        name_grams = create_n_gram(self.whole_df['Name'], n=self.n)\n",
    "        grams = [x for row in name_grams for x in row if len(x) > 0]\n",
    "        top_grams = pd.Series(grams).value_counts().head(20).index\n",
    "        \n",
    "        self.top_grams_ = top_grams\n",
    "        return self.transform(input_df)\n",
    "    \n",
    "    def transform(self, input_df):\n",
    "        name_grams = create_n_gram(input_df['Name'], n=self.n)\n",
    "        output_df = pd.DataFrame()\n",
    "        \n",
    "        for top in self.top_grams_:\n",
    "            s_top = '-'.join(top)\n",
    "            output_df[f'{s_top}'] = name_grams.map(lambda x: top in x).map(int)\n",
    "\n",
    "        return output_df.add_prefix('Name_has_').add_suffix(f'_n={self.n}')"
   ]
  },
  {
   "cell_type": "code",
   "execution_count": 45,
   "metadata": {},
   "outputs": [
    {
     "data": {
      "text/html": [
       "<div>\n",
       "<style scoped>\n",
       "    .dataframe tbody tr th:only-of-type {\n",
       "        vertical-align: middle;\n",
       "    }\n",
       "\n",
       "    .dataframe tbody tr th {\n",
       "        vertical-align: top;\n",
       "    }\n",
       "\n",
       "    .dataframe thead th {\n",
       "        text-align: right;\n",
       "    }\n",
       "</style>\n",
       "<table border=\"1\" class=\"dataframe\">\n",
       "  <thead>\n",
       "    <tr style=\"text-align: right;\">\n",
       "      <th></th>\n",
       "      <th>Name_has_major-league-baseball_n=3</th>\n",
       "      <th>Name_has_grand-theft-auto_n=3</th>\n",
       "      <th>Name_has_wwe-smackdown-vs_n=3</th>\n",
       "      <th>Name_has_super-robot-taisen_n=3</th>\n",
       "      <th>Name_has_smackdown-vs-raw_n=3</th>\n",
       "      <th>Name_has_shin-megami-tensei_n=3</th>\n",
       "      <th>Name_has_dragon-ball-z_n=3</th>\n",
       "      <th>Name_has_lego-star-wars_n=3</th>\n",
       "      <th>Name_has_katekyoo-hitman-reborn_n=3</th>\n",
       "      <th>Name_has_star-wars-force_n=3</th>\n",
       "      <th>Name_has_marvel-super-heroes_n=3</th>\n",
       "      <th>Name_has_romance-three-kingdoms_n=3</th>\n",
       "      <th>Name_has_hisshou-pachinko-pachi_n=3</th>\n",
       "      <th>Name_has_slot-kouryaku-series_n=3</th>\n",
       "      <th>Name_has_lego-harry-potter_n=3</th>\n",
       "      <th>Name_has_mx-vs-atv_n=3</th>\n",
       "      <th>Name_has_pachinko-pachi-slot_n=3</th>\n",
       "      <th>Name_has_pachi-slot-kouryaku_n=3</th>\n",
       "      <th>Name_has_rock-band-track_n=3</th>\n",
       "      <th>Name_has_band-track-pack_n=3</th>\n",
       "    </tr>\n",
       "  </thead>\n",
       "  <tbody>\n",
       "    <tr>\n",
       "      <th>0</th>\n",
       "      <td>0</td>\n",
       "      <td>0</td>\n",
       "      <td>0</td>\n",
       "      <td>0</td>\n",
       "      <td>0</td>\n",
       "      <td>0</td>\n",
       "      <td>0</td>\n",
       "      <td>0</td>\n",
       "      <td>0</td>\n",
       "      <td>0</td>\n",
       "      <td>0</td>\n",
       "      <td>0</td>\n",
       "      <td>0</td>\n",
       "      <td>0</td>\n",
       "      <td>0</td>\n",
       "      <td>0</td>\n",
       "      <td>0</td>\n",
       "      <td>0</td>\n",
       "      <td>0</td>\n",
       "      <td>0</td>\n",
       "    </tr>\n",
       "    <tr>\n",
       "      <th>1</th>\n",
       "      <td>0</td>\n",
       "      <td>0</td>\n",
       "      <td>0</td>\n",
       "      <td>0</td>\n",
       "      <td>0</td>\n",
       "      <td>0</td>\n",
       "      <td>0</td>\n",
       "      <td>0</td>\n",
       "      <td>0</td>\n",
       "      <td>0</td>\n",
       "      <td>0</td>\n",
       "      <td>0</td>\n",
       "      <td>0</td>\n",
       "      <td>0</td>\n",
       "      <td>0</td>\n",
       "      <td>0</td>\n",
       "      <td>0</td>\n",
       "      <td>0</td>\n",
       "      <td>0</td>\n",
       "      <td>0</td>\n",
       "    </tr>\n",
       "    <tr>\n",
       "      <th>2</th>\n",
       "      <td>0</td>\n",
       "      <td>0</td>\n",
       "      <td>0</td>\n",
       "      <td>0</td>\n",
       "      <td>0</td>\n",
       "      <td>0</td>\n",
       "      <td>0</td>\n",
       "      <td>0</td>\n",
       "      <td>0</td>\n",
       "      <td>0</td>\n",
       "      <td>0</td>\n",
       "      <td>0</td>\n",
       "      <td>0</td>\n",
       "      <td>0</td>\n",
       "      <td>0</td>\n",
       "      <td>0</td>\n",
       "      <td>0</td>\n",
       "      <td>0</td>\n",
       "      <td>0</td>\n",
       "      <td>0</td>\n",
       "    </tr>\n",
       "    <tr>\n",
       "      <th>3</th>\n",
       "      <td>0</td>\n",
       "      <td>0</td>\n",
       "      <td>0</td>\n",
       "      <td>0</td>\n",
       "      <td>0</td>\n",
       "      <td>0</td>\n",
       "      <td>0</td>\n",
       "      <td>0</td>\n",
       "      <td>0</td>\n",
       "      <td>0</td>\n",
       "      <td>0</td>\n",
       "      <td>0</td>\n",
       "      <td>0</td>\n",
       "      <td>0</td>\n",
       "      <td>0</td>\n",
       "      <td>0</td>\n",
       "      <td>0</td>\n",
       "      <td>0</td>\n",
       "      <td>0</td>\n",
       "      <td>0</td>\n",
       "    </tr>\n",
       "    <tr>\n",
       "      <th>4</th>\n",
       "      <td>0</td>\n",
       "      <td>0</td>\n",
       "      <td>0</td>\n",
       "      <td>0</td>\n",
       "      <td>0</td>\n",
       "      <td>0</td>\n",
       "      <td>0</td>\n",
       "      <td>0</td>\n",
       "      <td>0</td>\n",
       "      <td>0</td>\n",
       "      <td>0</td>\n",
       "      <td>0</td>\n",
       "      <td>0</td>\n",
       "      <td>0</td>\n",
       "      <td>1</td>\n",
       "      <td>0</td>\n",
       "      <td>0</td>\n",
       "      <td>0</td>\n",
       "      <td>0</td>\n",
       "      <td>0</td>\n",
       "    </tr>\n",
       "  </tbody>\n",
       "</table>\n",
       "</div>"
      ],
      "text/plain": [
       "   Name_has_major-league-baseball_n=3  Name_has_grand-theft-auto_n=3  \\\n",
       "0                                   0                              0   \n",
       "1                                   0                              0   \n",
       "2                                   0                              0   \n",
       "3                                   0                              0   \n",
       "4                                   0                              0   \n",
       "\n",
       "   Name_has_wwe-smackdown-vs_n=3  Name_has_super-robot-taisen_n=3  \\\n",
       "0                              0                                0   \n",
       "1                              0                                0   \n",
       "2                              0                                0   \n",
       "3                              0                                0   \n",
       "4                              0                                0   \n",
       "\n",
       "   Name_has_smackdown-vs-raw_n=3  Name_has_shin-megami-tensei_n=3  \\\n",
       "0                              0                                0   \n",
       "1                              0                                0   \n",
       "2                              0                                0   \n",
       "3                              0                                0   \n",
       "4                              0                                0   \n",
       "\n",
       "   Name_has_dragon-ball-z_n=3  Name_has_lego-star-wars_n=3  \\\n",
       "0                           0                            0   \n",
       "1                           0                            0   \n",
       "2                           0                            0   \n",
       "3                           0                            0   \n",
       "4                           0                            0   \n",
       "\n",
       "   Name_has_katekyoo-hitman-reborn_n=3  Name_has_star-wars-force_n=3  \\\n",
       "0                                    0                             0   \n",
       "1                                    0                             0   \n",
       "2                                    0                             0   \n",
       "3                                    0                             0   \n",
       "4                                    0                             0   \n",
       "\n",
       "   Name_has_marvel-super-heroes_n=3  Name_has_romance-three-kingdoms_n=3  \\\n",
       "0                                 0                                    0   \n",
       "1                                 0                                    0   \n",
       "2                                 0                                    0   \n",
       "3                                 0                                    0   \n",
       "4                                 0                                    0   \n",
       "\n",
       "   Name_has_hisshou-pachinko-pachi_n=3  Name_has_slot-kouryaku-series_n=3  \\\n",
       "0                                    0                                  0   \n",
       "1                                    0                                  0   \n",
       "2                                    0                                  0   \n",
       "3                                    0                                  0   \n",
       "4                                    0                                  0   \n",
       "\n",
       "   Name_has_lego-harry-potter_n=3  Name_has_mx-vs-atv_n=3  \\\n",
       "0                               0                       0   \n",
       "1                               0                       0   \n",
       "2                               0                       0   \n",
       "3                               0                       0   \n",
       "4                               1                       0   \n",
       "\n",
       "   Name_has_pachinko-pachi-slot_n=3  Name_has_pachi-slot-kouryaku_n=3  \\\n",
       "0                                 0                                 0   \n",
       "1                                 0                                 0   \n",
       "2                                 0                                 0   \n",
       "3                                 0                                 0   \n",
       "4                                 0                                 0   \n",
       "\n",
       "   Name_has_rock-band-track_n=3  Name_has_band-track-pack_n=3  \n",
       "0                             0                             0  \n",
       "1                             0                             0  \n",
       "2                             0                             0  \n",
       "3                             0                             0  \n",
       "4                             0                             0  "
      ]
     },
     "execution_count": 45,
     "metadata": {},
     "output_type": "execute_result"
    }
   ],
   "source": [
    "block = NameNGramBlock(train_df, n=3)\n",
    "block.fit(train_df).head()"
   ]
  },
  {
   "cell_type": "code",
   "execution_count": 46,
   "metadata": {},
   "outputs": [
    {
     "data": {
      "text/plain": [
       "Name_has_major-league-baseball_n=3     14\n",
       "Name_has_grand-theft-auto_n=3           0\n",
       "Name_has_wwe-smackdown-vs_n=3           1\n",
       "Name_has_super-robot-taisen_n=3        16\n",
       "Name_has_smackdown-vs-raw_n=3           1\n",
       "Name_has_shin-megami-tensei_n=3         1\n",
       "Name_has_dragon-ball-z_n=3             24\n",
       "Name_has_lego-star-wars_n=3             6\n",
       "Name_has_katekyoo-hitman-reborn_n=3     0\n",
       "Name_has_star-wars-force_n=3            0\n",
       "Name_has_marvel-super-heroes_n=3        2\n",
       "Name_has_romance-three-kingdoms_n=3     0\n",
       "Name_has_hisshou-pachinko-pachi_n=3     0\n",
       "Name_has_slot-kouryaku-series_n=3       0\n",
       "Name_has_lego-harry-potter_n=3          0\n",
       "Name_has_mx-vs-atv_n=3                  4\n",
       "Name_has_pachinko-pachi-slot_n=3        0\n",
       "Name_has_pachi-slot-kouryaku_n=3        0\n",
       "Name_has_rock-band-track_n=3            0\n",
       "Name_has_band-track-pack_n=3            0\n",
       "dtype: int64"
      ]
     },
     "execution_count": 46,
     "metadata": {},
     "output_type": "execute_result"
    }
   ],
   "source": [
    "block.transform(test_df).sum()"
   ]
  },
  {
   "cell_type": "markdown",
   "metadata": {},
   "source": [
    "### Trainにしかない情報を使う\n",
    "\n",
    "1. そのカラムを予測する (target 以外のカラムを予測する)\n",
    "2. 他のカラムに集約する"
   ]
  },
  {
   "cell_type": "code",
   "execution_count": 47,
   "metadata": {},
   "outputs": [],
   "source": [
    "sales_columns = train_df.columns[train_df.columns.str.contains('Sales')].tolist()\n",
    "sales_columns = sorted(sales_columns)"
   ]
  },
  {
   "cell_type": "code",
   "execution_count": 48,
   "metadata": {},
   "outputs": [
    {
     "data": {
      "text/plain": [
       "['EU_Sales', 'Global_Sales', 'JP_Sales', 'NA_Sales', 'Other_Sales']"
      ]
     },
     "execution_count": 48,
     "metadata": {},
     "output_type": "execute_result"
    }
   ],
   "source": [
    "sales_columns"
   ]
  },
  {
   "cell_type": "code",
   "execution_count": 49,
   "metadata": {},
   "outputs": [
    {
     "data": {
      "text/html": [
       "<div>\n",
       "<style scoped>\n",
       "    .dataframe tbody tr th:only-of-type {\n",
       "        vertical-align: middle;\n",
       "    }\n",
       "\n",
       "    .dataframe tbody tr th {\n",
       "        vertical-align: top;\n",
       "    }\n",
       "\n",
       "    .dataframe thead th {\n",
       "        text-align: right;\n",
       "    }\n",
       "</style>\n",
       "<table border=\"1\" class=\"dataframe\">\n",
       "  <thead>\n",
       "    <tr style=\"text-align: right;\">\n",
       "      <th></th>\n",
       "      <th>EU_Sales</th>\n",
       "      <th>Global_Sales</th>\n",
       "      <th>JP_Sales</th>\n",
       "      <th>NA_Sales</th>\n",
       "      <th>Other_Sales</th>\n",
       "    </tr>\n",
       "    <tr>\n",
       "      <th>Genre</th>\n",
       "      <th></th>\n",
       "      <th></th>\n",
       "      <th></th>\n",
       "      <th></th>\n",
       "      <th></th>\n",
       "    </tr>\n",
       "  </thead>\n",
       "  <tbody>\n",
       "    <tr>\n",
       "      <th>Action</th>\n",
       "      <td>30483</td>\n",
       "      <td>106343</td>\n",
       "      <td>10165</td>\n",
       "      <td>54010</td>\n",
       "      <td>11610</td>\n",
       "    </tr>\n",
       "    <tr>\n",
       "      <th>Adventure</th>\n",
       "      <td>4522</td>\n",
       "      <td>16634</td>\n",
       "      <td>3753</td>\n",
       "      <td>7229</td>\n",
       "      <td>1131</td>\n",
       "    </tr>\n",
       "    <tr>\n",
       "      <th>Fighting</th>\n",
       "      <td>5807</td>\n",
       "      <td>27258</td>\n",
       "      <td>5808</td>\n",
       "      <td>13313</td>\n",
       "      <td>2307</td>\n",
       "    </tr>\n",
       "    <tr>\n",
       "      <th>Misc</th>\n",
       "      <td>13411</td>\n",
       "      <td>48441</td>\n",
       "      <td>7803</td>\n",
       "      <td>22588</td>\n",
       "      <td>4601</td>\n",
       "    </tr>\n",
       "    <tr>\n",
       "      <th>Platform</th>\n",
       "      <td>16573</td>\n",
       "      <td>71149</td>\n",
       "      <td>12114</td>\n",
       "      <td>38119</td>\n",
       "      <td>4320</td>\n",
       "    </tr>\n",
       "    <tr>\n",
       "      <th>Puzzle</th>\n",
       "      <td>3871</td>\n",
       "      <td>19153</td>\n",
       "      <td>4497</td>\n",
       "      <td>9849</td>\n",
       "      <td>921</td>\n",
       "    </tr>\n",
       "    <tr>\n",
       "      <th>Racing</th>\n",
       "      <td>13039</td>\n",
       "      <td>44301</td>\n",
       "      <td>5026</td>\n",
       "      <td>21745</td>\n",
       "      <td>4465</td>\n",
       "    </tr>\n",
       "    <tr>\n",
       "      <th>Role-Playing</th>\n",
       "      <td>13536</td>\n",
       "      <td>72067</td>\n",
       "      <td>29886</td>\n",
       "      <td>24282</td>\n",
       "      <td>4348</td>\n",
       "    </tr>\n",
       "    <tr>\n",
       "      <th>Shooter</th>\n",
       "      <td>10890</td>\n",
       "      <td>43028</td>\n",
       "      <td>1964</td>\n",
       "      <td>26631</td>\n",
       "      <td>3506</td>\n",
       "    </tr>\n",
       "    <tr>\n",
       "      <th>Simulation</th>\n",
       "      <td>5357</td>\n",
       "      <td>18452</td>\n",
       "      <td>4056</td>\n",
       "      <td>7749</td>\n",
       "      <td>1288</td>\n",
       "    </tr>\n",
       "    <tr>\n",
       "      <th>Sports</th>\n",
       "      <td>14727</td>\n",
       "      <td>53700</td>\n",
       "      <td>6299</td>\n",
       "      <td>27919</td>\n",
       "      <td>4742</td>\n",
       "    </tr>\n",
       "    <tr>\n",
       "      <th>Strategy</th>\n",
       "      <td>2094</td>\n",
       "      <td>9199</td>\n",
       "      <td>3160</td>\n",
       "      <td>3354</td>\n",
       "      <td>571</td>\n",
       "    </tr>\n",
       "  </tbody>\n",
       "</table>\n",
       "</div>"
      ],
      "text/plain": [
       "              EU_Sales  Global_Sales  JP_Sales  NA_Sales  Other_Sales\n",
       "Genre                                                                \n",
       "Action           30483        106343     10165     54010        11610\n",
       "Adventure         4522         16634      3753      7229         1131\n",
       "Fighting          5807         27258      5808     13313         2307\n",
       "Misc             13411         48441      7803     22588         4601\n",
       "Platform         16573         71149     12114     38119         4320\n",
       "Puzzle            3871         19153      4497      9849          921\n",
       "Racing           13039         44301      5026     21745         4465\n",
       "Role-Playing     13536         72067     29886     24282         4348\n",
       "Shooter          10890         43028      1964     26631         3506\n",
       "Simulation        5357         18452      4056      7749         1288\n",
       "Sports           14727         53700      6299     27919         4742\n",
       "Strategy          2094          9199      3160      3354          571"
      ]
     },
     "execution_count": 49,
     "metadata": {},
     "output_type": "execute_result"
    }
   ],
   "source": [
    "key = 'Genre'\n",
    "\n",
    "input_df = train_df\n",
    "input_df[sales_columns].groupby(input_df[key]).sum()"
   ]
  },
  {
   "cell_type": "markdown",
   "metadata": {},
   "source": [
    "key ごとに正規化するのも好きです. この場合だとジャンルごとのポートフォリオみたいになりますね。"
   ]
  },
  {
   "cell_type": "code",
   "execution_count": 50,
   "metadata": {},
   "outputs": [
    {
     "data": {
      "text/html": [
       "<div>\n",
       "<style scoped>\n",
       "    .dataframe tbody tr th:only-of-type {\n",
       "        vertical-align: middle;\n",
       "    }\n",
       "\n",
       "    .dataframe tbody tr th {\n",
       "        vertical-align: top;\n",
       "    }\n",
       "\n",
       "    .dataframe thead th {\n",
       "        text-align: right;\n",
       "    }\n",
       "</style>\n",
       "<table border=\"1\" class=\"dataframe\">\n",
       "  <thead>\n",
       "    <tr style=\"text-align: right;\">\n",
       "      <th></th>\n",
       "      <th>EU_Sales</th>\n",
       "      <th>Global_Sales</th>\n",
       "      <th>JP_Sales</th>\n",
       "      <th>NA_Sales</th>\n",
       "      <th>Other_Sales</th>\n",
       "    </tr>\n",
       "    <tr>\n",
       "      <th>Genre</th>\n",
       "      <th></th>\n",
       "      <th></th>\n",
       "      <th></th>\n",
       "      <th></th>\n",
       "      <th></th>\n",
       "    </tr>\n",
       "  </thead>\n",
       "  <tbody>\n",
       "    <tr>\n",
       "      <th>Action</th>\n",
       "      <td>0.143375</td>\n",
       "      <td>0.500176</td>\n",
       "      <td>0.047810</td>\n",
       "      <td>0.254032</td>\n",
       "      <td>0.054607</td>\n",
       "    </tr>\n",
       "    <tr>\n",
       "      <th>Adventure</th>\n",
       "      <td>0.135922</td>\n",
       "      <td>0.499985</td>\n",
       "      <td>0.112808</td>\n",
       "      <td>0.217289</td>\n",
       "      <td>0.033996</td>\n",
       "    </tr>\n",
       "    <tr>\n",
       "      <th>Fighting</th>\n",
       "      <td>0.106564</td>\n",
       "      <td>0.500211</td>\n",
       "      <td>0.106582</td>\n",
       "      <td>0.244307</td>\n",
       "      <td>0.042336</td>\n",
       "    </tr>\n",
       "    <tr>\n",
       "      <th>Misc</th>\n",
       "      <td>0.138480</td>\n",
       "      <td>0.500196</td>\n",
       "      <td>0.080573</td>\n",
       "      <td>0.233241</td>\n",
       "      <td>0.047509</td>\n",
       "    </tr>\n",
       "    <tr>\n",
       "      <th>Platform</th>\n",
       "      <td>0.116486</td>\n",
       "      <td>0.500081</td>\n",
       "      <td>0.085145</td>\n",
       "      <td>0.267925</td>\n",
       "      <td>0.030364</td>\n",
       "    </tr>\n",
       "    <tr>\n",
       "      <th>Puzzle</th>\n",
       "      <td>0.101094</td>\n",
       "      <td>0.500196</td>\n",
       "      <td>0.117443</td>\n",
       "      <td>0.257214</td>\n",
       "      <td>0.024053</td>\n",
       "    </tr>\n",
       "    <tr>\n",
       "      <th>Racing</th>\n",
       "      <td>0.147207</td>\n",
       "      <td>0.500147</td>\n",
       "      <td>0.056742</td>\n",
       "      <td>0.245495</td>\n",
       "      <td>0.050409</td>\n",
       "    </tr>\n",
       "    <tr>\n",
       "      <th>Role-Playing</th>\n",
       "      <td>0.093922</td>\n",
       "      <td>0.500052</td>\n",
       "      <td>0.207370</td>\n",
       "      <td>0.168486</td>\n",
       "      <td>0.030170</td>\n",
       "    </tr>\n",
       "    <tr>\n",
       "      <th>Shooter</th>\n",
       "      <td>0.126600</td>\n",
       "      <td>0.500215</td>\n",
       "      <td>0.022832</td>\n",
       "      <td>0.309594</td>\n",
       "      <td>0.040758</td>\n",
       "    </tr>\n",
       "    <tr>\n",
       "      <th>Simulation</th>\n",
       "      <td>0.145168</td>\n",
       "      <td>0.500027</td>\n",
       "      <td>0.109913</td>\n",
       "      <td>0.209989</td>\n",
       "      <td>0.034903</td>\n",
       "    </tr>\n",
       "    <tr>\n",
       "      <th>Sports</th>\n",
       "      <td>0.137140</td>\n",
       "      <td>0.500061</td>\n",
       "      <td>0.058657</td>\n",
       "      <td>0.259985</td>\n",
       "      <td>0.044158</td>\n",
       "    </tr>\n",
       "    <tr>\n",
       "      <th>Strategy</th>\n",
       "      <td>0.113941</td>\n",
       "      <td>0.500544</td>\n",
       "      <td>0.171945</td>\n",
       "      <td>0.182501</td>\n",
       "      <td>0.031070</td>\n",
       "    </tr>\n",
       "  </tbody>\n",
       "</table>\n",
       "</div>"
      ],
      "text/plain": [
       "              EU_Sales  Global_Sales  JP_Sales  NA_Sales  Other_Sales\n",
       "Genre                                                                \n",
       "Action        0.143375      0.500176  0.047810  0.254032     0.054607\n",
       "Adventure     0.135922      0.499985  0.112808  0.217289     0.033996\n",
       "Fighting      0.106564      0.500211  0.106582  0.244307     0.042336\n",
       "Misc          0.138480      0.500196  0.080573  0.233241     0.047509\n",
       "Platform      0.116486      0.500081  0.085145  0.267925     0.030364\n",
       "Puzzle        0.101094      0.500196  0.117443  0.257214     0.024053\n",
       "Racing        0.147207      0.500147  0.056742  0.245495     0.050409\n",
       "Role-Playing  0.093922      0.500052  0.207370  0.168486     0.030170\n",
       "Shooter       0.126600      0.500215  0.022832  0.309594     0.040758\n",
       "Simulation    0.145168      0.500027  0.109913  0.209989     0.034903\n",
       "Sports        0.137140      0.500061  0.058657  0.259985     0.044158\n",
       "Strategy      0.113941      0.500544  0.171945  0.182501     0.031070"
      ]
     },
     "execution_count": 50,
     "metadata": {},
     "output_type": "execute_result"
    }
   ],
   "source": [
    "key = 'Genre'\n",
    "\n",
    "input_df = train_df\n",
    "\n",
    "_df = input_df[sales_columns].groupby(input_df[key]).sum()\n",
    "_df = (_df.T / _df.sum(axis=1)).T\n",
    "_df"
   ]
  },
  {
   "cell_type": "markdown",
   "metadata": {},
   "source": [
    "### Note\n",
    "\n",
    "* 動画中説明するのを忘れていましたが、 sales の情報は間接的に global sales の情報を表していますので若干リスクがあります(リークになる可能性があります)\n",
    "    * リークを防ぐ方法の一つとして Out-of-Fold を作る容量で集計する方法があります。(target encoding と同じ要領です)"
   ]
  },
  {
   "cell_type": "code",
   "execution_count": 51,
   "metadata": {},
   "outputs": [],
   "source": [
    "class SalesPortfolioBlock(BaseBlock):\n",
    "    \"\"\"売上ポートフォリオ\"\"\"\n",
    "    \n",
    "    def __init__(self, key: str):\n",
    "        self.key = key    \n",
    "        self.meta_df = None\n",
    "    \n",
    "    def fit(self, input_df):\n",
    "        _df = input_df[sales_columns].groupby(input_df[self.key]).sum()\n",
    "        _df = (_df.T / _df.sum(axis=1)).T\n",
    "        self.meta_df = _df\n",
    "        return self.transform(input_df)\n",
    "    \n",
    "    def transform(self, input_df):\n",
    "        out_df = pd.merge(input_df[self.key], self.meta_df, on=self.key, how='left').drop(columns=[self.key])\n",
    "        out_df = out_df.add_prefix(f'SP@{self.key}_')\n",
    "        return out_df"
   ]
  },
  {
   "cell_type": "code",
   "execution_count": 52,
   "metadata": {},
   "outputs": [],
   "source": [
    "class WrapperBlock(BaseBlock):\n",
    "    def __init__(self, function):\n",
    "        self.function = function\n",
    "        \n",
    "    def transform(self, input_df):\n",
    "        return self.function(input_df)"
   ]
  },
  {
   "cell_type": "code",
   "execution_count": 53,
   "metadata": {},
   "outputs": [],
   "source": [
    "# https://github.com/nyk510/vivid/blob/master/vivid/utils.py\n",
    "from contextlib import contextmanager\n",
    "from time import time\n",
    "\n",
    "@contextmanager\n",
    "def timer(logger=None, format_str='{:.3f}[s]', prefix=None, suffix=None):\n",
    "    if prefix: format_str = str(prefix) + format_str\n",
    "    if suffix: format_str = format_str + str(suffix)\n",
    "    start = time()\n",
    "    yield\n",
    "    d = time() - start\n",
    "    out_str = format_str.format(d)\n",
    "    if logger:\n",
    "        logger.info(out_str)\n",
    "    else:\n",
    "        print(out_str)"
   ]
  },
  {
   "cell_type": "code",
   "execution_count": 54,
   "metadata": {},
   "outputs": [],
   "source": [
    "process_blocks = [\n",
    "    WrapperBlock(create_continuous_features),\n",
    "    WrapperBlock(create_boolean_feature),\n",
    "    NameNGramBlock(whole_df, n=3),\n",
    "    *[OneHotBlock(c) for c in ['Platform', 'Genre', 'Publisher', 'Rating']],\n",
    "    *[CountEncodingBlock(c, whole_df=whole_df) for c in ['Name', 'Platform', 'Year_of_Release']],\n",
    "    *[SalesPortfolioBlock(c) for c in ['Genre']]\n",
    "]"
   ]
  },
  {
   "cell_type": "code",
   "execution_count": 55,
   "metadata": {},
   "outputs": [
    {
     "data": {
      "text/plain": [
       "[<__main__.WrapperBlock at 0x7f3df81b22d0>,\n",
       " <__main__.WrapperBlock at 0x7f3df81b2b10>,\n",
       " <__main__.NameNGramBlock at 0x7f3df81b2ed0>,\n",
       " <__main__.OneHotBlock at 0x7f3df81b2550>,\n",
       " <__main__.OneHotBlock at 0x7f3df81b2950>,\n",
       " <__main__.OneHotBlock at 0x7f3df8222350>,\n",
       " <__main__.OneHotBlock at 0x7f3df8222dd0>,\n",
       " <__main__.CountEncodingBlock at 0x7f3df8222690>,\n",
       " <__main__.CountEncodingBlock at 0x7f3df8222710>,\n",
       " <__main__.CountEncodingBlock at 0x7f3df8222b90>,\n",
       " <__main__.SalesPortfolioBlock at 0x7f3df8222b10>]"
      ]
     },
     "execution_count": 55,
     "metadata": {},
     "output_type": "execute_result"
    }
   ],
   "source": [
    "process_blocks"
   ]
  },
  {
   "cell_type": "code",
   "execution_count": 56,
   "metadata": {},
   "outputs": [],
   "source": [
    "from tqdm import tqdm\n",
    "\n",
    "\n",
    "def get_function(block, is_train):\n",
    "    s = mapping = {\n",
    "        True: 'fit',\n",
    "        False: 'transform'\n",
    "    }.get(is_train)\n",
    "    return getattr(block, s)\n",
    "    \n",
    "\n",
    "def to_feature(input_df, \n",
    "               blocks,\n",
    "               is_train=False):\n",
    "    out_df = pd.DataFrame()\n",
    "    \n",
    "    for block in tqdm(blocks, total=len(blocks)):\n",
    "        func = get_function(block, is_train)\n",
    "        \n",
    "        with timer(prefix='create ' + str(block) + ' '):\n",
    "            _df = func(input_df)\n",
    "        \n",
    "        assert len(_df) == len(input_df), func.__name__\n",
    "        out_df = pd.concat([out_df, _df], axis=1)\n",
    "        \n",
    "    return out_df"
   ]
  },
  {
   "cell_type": "code",
   "execution_count": 57,
   "metadata": {},
   "outputs": [
    {
     "name": "stderr",
     "output_type": "stream",
     "text": [
      "  0%|          | 0/11 [00:00<?, ?it/s]"
     ]
    },
    {
     "name": "stdout",
     "output_type": "stream",
     "text": [
      "create <__main__.WrapperBlock object at 0x7f3df81b22d0> 0.005[s]\n",
      "create <__main__.WrapperBlock object at 0x7f3df81b2b10> 0.015[s]\n"
     ]
    },
    {
     "name": "stderr",
     "output_type": "stream",
     "text": [
      "100%|██████████| 11/11 [00:00<00:00, 16.54it/s]\n",
      "  0%|          | 0/11 [00:00<?, ?it/s]"
     ]
    },
    {
     "name": "stdout",
     "output_type": "stream",
     "text": [
      "create <__main__.NameNGramBlock object at 0x7f3df81b2ed0> 0.591[s]\n",
      "create <__main__.OneHotBlock object at 0x7f3df81b2550> 0.004[s]\n",
      "create <__main__.OneHotBlock object at 0x7f3df81b2950> 0.003[s]\n",
      "create <__main__.OneHotBlock object at 0x7f3df8222350> 0.004[s]\n",
      "create <__main__.OneHotBlock object at 0x7f3df8222dd0> 0.003[s]\n",
      "create <__main__.CountEncodingBlock object at 0x7f3df8222690> 0.007[s]\n",
      "create <__main__.CountEncodingBlock object at 0x7f3df8222710> 0.005[s]\n",
      "create <__main__.CountEncodingBlock object at 0x7f3df8222b90> 0.003[s]\n",
      "create <__main__.SalesPortfolioBlock object at 0x7f3df8222b10> 0.009[s]\n",
      "create <__main__.WrapperBlock object at 0x7f3df81b22d0> 0.005[s]\n",
      "create <__main__.WrapperBlock object at 0x7f3df81b2b10> 0.014[s]\n"
     ]
    },
    {
     "name": "stderr",
     "output_type": "stream",
     "text": [
      "100%|██████████| 11/11 [00:00<00:00, 34.50it/s]"
     ]
    },
    {
     "name": "stdout",
     "output_type": "stream",
     "text": [
      "create <__main__.NameNGramBlock object at 0x7f3df81b2ed0> 0.259[s]\n",
      "create <__main__.OneHotBlock object at 0x7f3df81b2550> 0.002[s]\n",
      "create <__main__.OneHotBlock object at 0x7f3df81b2950> 0.002[s]\n",
      "create <__main__.OneHotBlock object at 0x7f3df8222350> 0.002[s]\n",
      "create <__main__.OneHotBlock object at 0x7f3df8222dd0> 0.001[s]\n",
      "create <__main__.CountEncodingBlock object at 0x7f3df8222690> 0.008[s]\n",
      "create <__main__.CountEncodingBlock object at 0x7f3df8222710> 0.004[s]\n",
      "create <__main__.CountEncodingBlock object at 0x7f3df8222b90> 0.003[s]\n",
      "create <__main__.SalesPortfolioBlock object at 0x7f3df8222b10> 0.003[s]\n"
     ]
    },
    {
     "name": "stderr",
     "output_type": "stream",
     "text": [
      "\n"
     ]
    }
   ],
   "source": [
    "train_feat_df = to_feature(train_df, process_blocks, is_train=True)\n",
    "test_feat_df = to_feature(test_df, process_blocks)"
   ]
  },
  {
   "cell_type": "code",
   "execution_count": 58,
   "metadata": {},
   "outputs": [
    {
     "data": {
      "text/html": [
       "<div>\n",
       "<style scoped>\n",
       "    .dataframe tbody tr th:only-of-type {\n",
       "        vertical-align: middle;\n",
       "    }\n",
       "\n",
       "    .dataframe tbody tr th {\n",
       "        vertical-align: top;\n",
       "    }\n",
       "\n",
       "    .dataframe thead th {\n",
       "        text-align: right;\n",
       "    }\n",
       "</style>\n",
       "<table border=\"1\" class=\"dataframe\">\n",
       "  <thead>\n",
       "    <tr style=\"text-align: right;\">\n",
       "      <th></th>\n",
       "      <th>0</th>\n",
       "      <th>1</th>\n",
       "      <th>2</th>\n",
       "      <th>3</th>\n",
       "      <th>4</th>\n",
       "    </tr>\n",
       "  </thead>\n",
       "  <tbody>\n",
       "    <tr>\n",
       "      <th>Critic_Score</th>\n",
       "      <td>84.000000</td>\n",
       "      <td>91.000000</td>\n",
       "      <td>87.000000</td>\n",
       "      <td>70.000000</td>\n",
       "      <td>71.000000</td>\n",
       "    </tr>\n",
       "    <tr>\n",
       "      <th>Critic_Count</th>\n",
       "      <td>23.000000</td>\n",
       "      <td>17.000000</td>\n",
       "      <td>28.000000</td>\n",
       "      <td>54.000000</td>\n",
       "      <td>41.000000</td>\n",
       "    </tr>\n",
       "    <tr>\n",
       "      <th>User_Score</th>\n",
       "      <td>8.000000</td>\n",
       "      <td>9.000000</td>\n",
       "      <td>8.500000</td>\n",
       "      <td>6.900000</td>\n",
       "      <td>6.900000</td>\n",
       "    </tr>\n",
       "    <tr>\n",
       "      <th>User_Count</th>\n",
       "      <td>19.000000</td>\n",
       "      <td>132.000000</td>\n",
       "      <td>39.000000</td>\n",
       "      <td>180.000000</td>\n",
       "      <td>143.000000</td>\n",
       "    </tr>\n",
       "    <tr>\n",
       "      <th>Year_of_Release</th>\n",
       "      <td>NaN</td>\n",
       "      <td>NaN</td>\n",
       "      <td>NaN</td>\n",
       "      <td>NaN</td>\n",
       "      <td>NaN</td>\n",
       "    </tr>\n",
       "    <tr>\n",
       "      <th>...</th>\n",
       "      <td>...</td>\n",
       "      <td>...</td>\n",
       "      <td>...</td>\n",
       "      <td>...</td>\n",
       "      <td>...</td>\n",
       "    </tr>\n",
       "    <tr>\n",
       "      <th>SP@Genre_EU_Sales</th>\n",
       "      <td>0.143375</td>\n",
       "      <td>0.143375</td>\n",
       "      <td>0.143375</td>\n",
       "      <td>0.143375</td>\n",
       "      <td>0.143375</td>\n",
       "    </tr>\n",
       "    <tr>\n",
       "      <th>SP@Genre_Global_Sales</th>\n",
       "      <td>0.500176</td>\n",
       "      <td>0.500176</td>\n",
       "      <td>0.500176</td>\n",
       "      <td>0.500176</td>\n",
       "      <td>0.500176</td>\n",
       "    </tr>\n",
       "    <tr>\n",
       "      <th>SP@Genre_JP_Sales</th>\n",
       "      <td>0.047810</td>\n",
       "      <td>0.047810</td>\n",
       "      <td>0.047810</td>\n",
       "      <td>0.047810</td>\n",
       "      <td>0.047810</td>\n",
       "    </tr>\n",
       "    <tr>\n",
       "      <th>SP@Genre_NA_Sales</th>\n",
       "      <td>0.254032</td>\n",
       "      <td>0.254032</td>\n",
       "      <td>0.254032</td>\n",
       "      <td>0.254032</td>\n",
       "      <td>0.254032</td>\n",
       "    </tr>\n",
       "    <tr>\n",
       "      <th>SP@Genre_Other_Sales</th>\n",
       "      <td>0.054607</td>\n",
       "      <td>0.054607</td>\n",
       "      <td>0.054607</td>\n",
       "      <td>0.054607</td>\n",
       "      <td>0.054607</td>\n",
       "    </tr>\n",
       "  </tbody>\n",
       "</table>\n",
       "<p>106 rows × 5 columns</p>\n",
       "</div>"
      ],
      "text/plain": [
       "                               0           1          2           3  \\\n",
       "Critic_Score           84.000000   91.000000  87.000000   70.000000   \n",
       "Critic_Count           23.000000   17.000000  28.000000   54.000000   \n",
       "User_Score              8.000000    9.000000   8.500000    6.900000   \n",
       "User_Count             19.000000  132.000000  39.000000  180.000000   \n",
       "Year_of_Release              NaN         NaN        NaN         NaN   \n",
       "...                          ...         ...        ...         ...   \n",
       "SP@Genre_EU_Sales       0.143375    0.143375   0.143375    0.143375   \n",
       "SP@Genre_Global_Sales   0.500176    0.500176   0.500176    0.500176   \n",
       "SP@Genre_JP_Sales       0.047810    0.047810   0.047810    0.047810   \n",
       "SP@Genre_NA_Sales       0.254032    0.254032   0.254032    0.254032   \n",
       "SP@Genre_Other_Sales    0.054607    0.054607   0.054607    0.054607   \n",
       "\n",
       "                                4  \n",
       "Critic_Score            71.000000  \n",
       "Critic_Count            41.000000  \n",
       "User_Score               6.900000  \n",
       "User_Count             143.000000  \n",
       "Year_of_Release               NaN  \n",
       "...                           ...  \n",
       "SP@Genre_EU_Sales        0.143375  \n",
       "SP@Genre_Global_Sales    0.500176  \n",
       "SP@Genre_JP_Sales        0.047810  \n",
       "SP@Genre_NA_Sales        0.254032  \n",
       "SP@Genre_Other_Sales     0.054607  \n",
       "\n",
       "[106 rows x 5 columns]"
      ]
     },
     "execution_count": 58,
     "metadata": {},
     "output_type": "execute_result"
    }
   ],
   "source": [
    "test_feat_df.head().T"
   ]
  },
  {
   "cell_type": "code",
   "execution_count": 59,
   "metadata": {},
   "outputs": [],
   "source": [
    "assert len(test_feat_df) == len(test_df)"
   ]
  },
  {
   "cell_type": "markdown",
   "metadata": {},
   "source": [
    "### LightGBM による CrossValidation を用いた学習"
   ]
  },
  {
   "cell_type": "code",
   "execution_count": 60,
   "metadata": {},
   "outputs": [],
   "source": [
    "import lightgbm as lgbm\n",
    "import xgboost as xgb\n",
    "\n",
    "from sklearn.metrics import mean_squared_log_error\n",
    "from sklearn.metrics import mean_squared_error\n",
    "\n",
    "def fit_lgbm(X, \n",
    "             y, \n",
    "             cv, \n",
    "             params: dict=None, \n",
    "             verbose: int=50):\n",
    "    \"\"\"lightGBM を CrossValidation の枠組みで学習を行なう function\"\"\"\n",
    "    metric_func = mean_squared_error\n",
    "    \n",
    "    # パラメータがないときは、空の dict で置き換える\n",
    "    if params is None:\n",
    "        params = {}\n",
    "\n",
    "    models = []\n",
    "    # training data の target と同じだけのゼロ配列を用意\n",
    "    # float にしないと悲しい事件が起こるのでそこだけ注意\n",
    "    oof_pred = np.zeros_like(y, dtype=np.float)\n",
    "\n",
    "    for i, (idx_train, idx_valid) in enumerate(cv): \n",
    "        # この部分が交差検証のところです。データセットを cv instance によって分割します\n",
    "        # training data を trian/valid に分割\n",
    "        x_train, y_train = X[idx_train], y[idx_train]\n",
    "        x_valid, y_valid = X[idx_valid], y[idx_valid]\n",
    "\n",
    "        clf = lgbm.LGBMRegressor(**params)\n",
    "        \n",
    "        with timer(prefix='fit fold={} '.format(i + 1)):\n",
    "            clf.fit(x_train, y_train, \n",
    "                    eval_set=[(x_valid, y_valid)],  \n",
    "                    early_stopping_rounds=verbose,\n",
    "                    verbose=verbose)\n",
    "\n",
    "        pred_i = clf.predict(x_valid)\n",
    "        \n",
    "        oof_pred[idx_valid] = pred_i\n",
    "        models.append(clf)\n",
    "\n",
    "        print(f'Fold {i} RMSLE: {metric_func(y_valid, pred_i) ** .5:.4f}')\n",
    "\n",
    "    score = metric_func(y, oof_pred) ** .5\n",
    "    print('FINISHED | Whole RMSLE: {:.4f}'.format(score))\n",
    "    return oof_pred, models"
   ]
  },
  {
   "cell_type": "markdown",
   "metadata": {},
   "source": [
    "### parameter について\n",
    "\n",
    "LightGBM などの GBDT のパラメータは、そこまでセンシティブではありません。しかし、内部的にどういう意味を持つのかを知っておくと、問題ごとにどういうパラメータが良いかの感覚がわかったり、チューニングする際にも有効なパラメータに絞ってチューニングできますので、重要な変数に関してはその意味についてざっと目を通しておくことをおすすめします。\n",
    "\n",
    "以下参考文献です。\n",
    "\n",
    "* [勾配ブースティングで大事なパラメータの気持ち](https://nykergoto.hatenablog.jp/entry/2019/03/29/%E5%8B%BE%E9%85%8D%E3%83%96%E3%83%BC%E3%82%B9%E3%83%86%E3%82%A3%E3%83%B3%E3%82%B0%E3%81%A7%E5%A4%A7%E4%BA%8B%E3%81%AA%E3%83%91%E3%83%A9%E3%83%A1%E3%83%BC%E3%82%BF%E3%81%AE%E6%B0%97%E6%8C%81%E3%81%A1): 僕の書いた記事。日本語です。\n",
    "* [Parameters Tuning](https://lightgbm.readthedocs.io/en/latest/Parameters-Tuning.html): lightGBM 公式のパラメータチューニングガイド。英語です。"
   ]
  },
  {
   "cell_type": "code",
   "execution_count": 61,
   "metadata": {},
   "outputs": [],
   "source": [
    "params = {\n",
    "    'objective': 'rmse', # 目的関数. これの意味で最小となるようなパラメータを探します. \n",
    "    'learning_rate': .1, # 学習率. 小さいほどなめらかな決定境界が作られて性能向上に繋がる場合が多いです、がそれだけ木を作るため学習に時間がかかります\n",
    "    'max_depth': 6, # 木の深さ. 深い木を許容するほどより複雑な交互作用を考慮するようになります\n",
    "    'n_estimators': 10000, # 木の最大数. early_stopping という枠組みで木の数は制御されるようにしていますのでとても大きい値を指定しておきます.\n",
    "    'colsample_bytree': .5, # 木を作る際に考慮する特徴量の割合. 1以下を指定すると特徴をランダムに欠落させます。小さくすることで, まんべんなく特徴を使うという効果があります.\n",
    "    'importance_type': 'gain' # 特徴重要度計算のロジック(後述)\n",
    "}\n",
    "\n",
    "y = train_df['Global_Sales'].values\n",
    "y = np.log1p(y) # log + plus1 変換する"
   ]
  },
  {
   "cell_type": "code",
   "execution_count": 62,
   "metadata": {},
   "outputs": [],
   "source": [
    "from sklearn.model_selection import KFold, GroupKFold\n",
    "\n",
    "fold = KFold(n_splits=5, shuffle=True, random_state=71)\n",
    "cv = list(fold.split(train_feat_df, y)) # もともとが generator なため明示的に list に変換する"
   ]
  },
  {
   "cell_type": "code",
   "execution_count": 63,
   "metadata": {},
   "outputs": [
    {
     "name": "stdout",
     "output_type": "stream",
     "text": [
      "Training until validation scores don't improve for 50 rounds\n",
      "[50]\tvalid_0's rmse: 0.939129\n",
      "[100]\tvalid_0's rmse: 0.908638\n",
      "[150]\tvalid_0's rmse: 0.897666\n",
      "[200]\tvalid_0's rmse: 0.893584\n",
      "[250]\tvalid_0's rmse: 0.890756\n",
      "[300]\tvalid_0's rmse: 0.891143\n",
      "Early stopping, best iteration is:\n",
      "[276]\tvalid_0's rmse: 0.890017\n",
      "fit fold=1 0.289[s]\n",
      "Fold 0 RMSLE: 0.8900\n",
      "Training until validation scores don't improve for 50 rounds\n",
      "[50]\tvalid_0's rmse: 0.947421\n",
      "[100]\tvalid_0's rmse: 0.91343\n",
      "[150]\tvalid_0's rmse: 0.899945\n",
      "[200]\tvalid_0's rmse: 0.892313\n",
      "[250]\tvalid_0's rmse: 0.886754\n",
      "[300]\tvalid_0's rmse: 0.885993\n",
      "[350]\tvalid_0's rmse: 0.885327\n",
      "Early stopping, best iteration is:\n",
      "[339]\tvalid_0's rmse: 0.884848\n",
      "fit fold=2 0.404[s]\n",
      "Fold 1 RMSLE: 0.8848\n",
      "Training until validation scores don't improve for 50 rounds\n",
      "[50]\tvalid_0's rmse: 0.910367\n",
      "[100]\tvalid_0's rmse: 0.881886\n",
      "[150]\tvalid_0's rmse: 0.870902\n",
      "[200]\tvalid_0's rmse: 0.867478\n",
      "[250]\tvalid_0's rmse: 0.866217\n",
      "[300]\tvalid_0's rmse: 0.864301\n",
      "[350]\tvalid_0's rmse: 0.861526\n",
      "[400]\tvalid_0's rmse: 0.860873\n",
      "[450]\tvalid_0's rmse: 0.859512\n",
      "[500]\tvalid_0's rmse: 0.859343\n",
      "[550]\tvalid_0's rmse: 0.858881\n",
      "Early stopping, best iteration is:\n",
      "[539]\tvalid_0's rmse: 0.858151\n",
      "fit fold=3 0.550[s]\n",
      "Fold 2 RMSLE: 0.8582\n",
      "Training until validation scores don't improve for 50 rounds\n",
      "[50]\tvalid_0's rmse: 0.94808\n",
      "[100]\tvalid_0's rmse: 0.914729\n",
      "[150]\tvalid_0's rmse: 0.900753\n",
      "[200]\tvalid_0's rmse: 0.893735\n",
      "[250]\tvalid_0's rmse: 0.889773\n",
      "[300]\tvalid_0's rmse: 0.88784\n",
      "[350]\tvalid_0's rmse: 0.887019\n",
      "[400]\tvalid_0's rmse: 0.887\n",
      "Early stopping, best iteration is:\n",
      "[365]\tvalid_0's rmse: 0.88655\n",
      "fit fold=4 0.349[s]\n",
      "Fold 3 RMSLE: 0.8866\n",
      "Training until validation scores don't improve for 50 rounds\n",
      "[50]\tvalid_0's rmse: 0.919197\n",
      "[100]\tvalid_0's rmse: 0.889588\n",
      "[150]\tvalid_0's rmse: 0.876738\n",
      "[200]\tvalid_0's rmse: 0.870987\n",
      "[250]\tvalid_0's rmse: 0.867878\n",
      "[300]\tvalid_0's rmse: 0.867456\n",
      "[350]\tvalid_0's rmse: 0.866629\n",
      "Early stopping, best iteration is:\n",
      "[320]\tvalid_0's rmse: 0.866224\n",
      "fit fold=5 0.312[s]\n",
      "Fold 4 RMSLE: 0.8662\n",
      "FINISHED | Whole RMSLE: 0.8772\n"
     ]
    }
   ],
   "source": [
    "oof, models = fit_lgbm(train_feat_df.values, y, cv, params=params)"
   ]
  },
  {
   "cell_type": "code",
   "execution_count": 64,
   "metadata": {},
   "outputs": [],
   "source": [
    "def split_by_groups(groups):\n",
    "    kfold = KFold(n_splits=10, random_state=71, shuffle=True)\n",
    "    groups = pd.Series(groups)\n",
    "    \n",
    "    unique_groups = groups.unique()\n",
    "    splits = []\n",
    "    \n",
    "    def _filter_ids(idx):\n",
    "        values = unique_groups[idx]\n",
    "        idx = groups.isin(values)\n",
    "        return groups[idx].index.values\n",
    "    \n",
    "    for idx_tr, idx_val in kfold.split(unique_groups):\n",
    "        splits.append([\n",
    "            _filter_ids(idx_tr), _filter_ids(idx_val)\n",
    "        ])\n",
    "        \n",
    "    return splits"
   ]
  },
  {
   "cell_type": "code",
   "execution_count": 65,
   "metadata": {},
   "outputs": [],
   "source": [
    "# cv = split_by_groups(train_df['Publisher'])\n",
    "# oof, models = fit_lgbm(train_feat_df.values, y, cv, params=params)"
   ]
  },
  {
   "cell_type": "code",
   "execution_count": 66,
   "metadata": {},
   "outputs": [],
   "source": [
    "def visualize_importance(models, feat_train_df):\n",
    "    \"\"\"lightGBM の model 配列の feature importance を plot する\n",
    "    CVごとのブレを boxen plot として表現します.\n",
    "    \n",
    "    args:\n",
    "        models:\n",
    "            List of lightGBM models\n",
    "        feat_train_df:\n",
    "            学習時に使った DataFrame\n",
    "    \"\"\"\n",
    "    feature_importance_df = pd.DataFrame()\n",
    "    for i, model in enumerate(models):\n",
    "        _df = pd.DataFrame()\n",
    "        _df['feature_importance'] = model.feature_importances_\n",
    "        _df['column'] = feat_train_df.columns\n",
    "        _df['fold'] = i + 1\n",
    "        feature_importance_df = pd.concat([feature_importance_df, _df], axis=0, ignore_index=True)\n",
    "\n",
    "    order = feature_importance_df.groupby('column')\\\n",
    "        .sum()[['feature_importance']]\\\n",
    "        .sort_values('feature_importance', ascending=False).index[:50]\n",
    "\n",
    "    fig, ax = plt.subplots(figsize=(max(6, len(order) * .4), 7))\n",
    "    sns.boxenplot(data=feature_importance_df, x='column', y='feature_importance', order=order, ax=ax, palette='viridis')\n",
    "    ax.tick_params(axis='x', rotation=90)\n",
    "    ax.grid()\n",
    "    fig.tight_layout()\n",
    "    return fig, ax"
   ]
  },
  {
   "cell_type": "code",
   "execution_count": 67,
   "metadata": {},
   "outputs": [
    {
     "data": {
      "image/png": "[encoded data removed]",
      "text/plain": [
       "<Figure size 1440x504 with 1 Axes>"
      ]
     },
     "metadata": {},
     "output_type": "display_data"
    }
   ],
   "source": [
    "fig, ax = visualize_importance(models, train_feat_df)"
   ]
  },
  {
   "cell_type": "code",
   "execution_count": 68,
   "metadata": {},
   "outputs": [],
   "source": [
    "pred = np.array([model.predict(test_feat_df.values) for model in models])\n",
    "pred = np.mean(pred, axis=0)\n",
    "pred = np.expm1(pred)\n",
    "pred = np.where(pred < 0, 0, pred)\n",
    "sub_df = pd.DataFrame({ 'Global_Sales': pred })\n",
    "sub_df.to_csv(os.path.join(OUTPUT_DIR, 'simple_submission.csv'), index=False)"
   ]
  },
  {
   "cell_type": "markdown",
   "metadata": {},
   "source": [
    "Submission する前には予測値がまともかどうかちゃんと見ておきます。(貴重なsubmissionを無駄にしないため)"
   ]
  },
  {
   "cell_type": "code",
   "execution_count": 69,
   "metadata": {},
   "outputs": [
    {
     "data": {
      "image/png": "[encoded data removed]",
      "text/plain": [
       "<Figure size 576x576 with 1 Axes>"
      ]
     },
     "metadata": {},
     "output_type": "display_data"
    }
   ],
   "source": [
    "fig, ax = plt.subplots(figsize=(8, 8))\n",
    "sns.distplot(np.log1p(pred), label='Test Predict')\n",
    "sns.distplot(oof, label='Out Of Fold')\n",
    "ax.legend()\n",
    "ax.grid()"
   ]
  }
 ],
 "metadata": {
  "kernelspec": {
   "display_name": "Python 3",
   "language": "python",
   "name": "python3"
  },
  "language_info": {
   "codemirror_mode": {
    "name": "ipython",
    "version": 3
   },
   "file_extension": ".py",
   "mimetype": "text/x-python",
   "name": "python",
   "nbconvert_exporter": "python",
   "pygments_lexer": "ipython3",
   "version": "3.7.7"
  }
 },
 "nbformat": 4,
 "nbformat_minor": 4
}
